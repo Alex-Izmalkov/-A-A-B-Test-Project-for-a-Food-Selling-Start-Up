{
 "cells": [
  {
   "cell_type": "markdown",
   "metadata": {},
   "source": [
    "# A/A/B Test Project for a Food-Selling Start-Up"
   ]
  },
  {
   "cell_type": "markdown",
   "metadata": {},
   "source": [
    "I am going to investigate user behavior for the company's app.\n",
    "I'll study the sales funnel, find out how users reach the purchase stage and then I'll look at the results of an A/A/B test in order to find out which set of fonts used in the app's design produces better results."
   ]
  },
  {
   "cell_type": "markdown",
   "metadata": {},
   "source": [
    "#### The data"
   ]
  },
  {
   "cell_type": "markdown",
   "metadata": {},
   "source": [
    "The `data` file contains the following info:\n",
    "\n",
    "`EventName` — event name\n",
    "\n",
    "`DeviceIDHash` — unique user identifier\n",
    "\n",
    "`EventTimestamp` — event time\n",
    "\n",
    "`ExpId` — experiment number: 246 and 247 are the control groups, 248 is the test group"
   ]
  },
  {
   "cell_type": "markdown",
   "metadata": {},
   "source": [
    "#### Libraries to use"
   ]
  },
  {
   "cell_type": "code",
   "execution_count": 58,
   "metadata": {},
   "outputs": [],
   "source": [
    "import pandas as pd\n",
    "\n",
    "import datetime as dt\n",
    "\n",
    "import numpy as np \n",
    "\n",
    "import scipy.stats as stats\n",
    "\n",
    "from statsmodels.stats.weightstats import ztest as ztest\n",
    "\n",
    "import datetime\n",
    "\n",
    "import random\n",
    "\n",
    "import math as mth\n",
    "\n",
    "import matplotlib.pyplot as plt\n",
    "\n",
    "import plotly.express as px\n",
    "\n",
    "from plotly import graph_objects as go\n",
    "\n",
    "import seaborn as sns\n",
    "sns.set()\n",
    "\n",
    "import sys\n",
    "import warnings\n",
    "if not sys.warnoptions:\n",
    "    warnings.simplefilter(\"ignore\")"
   ]
  },
  {
   "cell_type": "markdown",
   "metadata": {},
   "source": [
    "### Opening  the data file and reading the general information"
   ]
  },
  {
   "cell_type": "code",
   "execution_count": 59,
   "metadata": {},
   "outputs": [
    {
     "data": {
      "text/html": [
       "<div>\n",
       "<style scoped>\n",
       "    .dataframe tbody tr th:only-of-type {\n",
       "        vertical-align: middle;\n",
       "    }\n",
       "\n",
       "    .dataframe tbody tr th {\n",
       "        vertical-align: top;\n",
       "    }\n",
       "\n",
       "    .dataframe thead th {\n",
       "        text-align: right;\n",
       "    }\n",
       "</style>\n",
       "<table border=\"1\" class=\"dataframe\">\n",
       "  <thead>\n",
       "    <tr style=\"text-align: right;\">\n",
       "      <th></th>\n",
       "      <th>EventName</th>\n",
       "      <th>DeviceIDHash</th>\n",
       "      <th>EventTimestamp</th>\n",
       "      <th>ExpId</th>\n",
       "    </tr>\n",
       "  </thead>\n",
       "  <tbody>\n",
       "    <tr>\n",
       "      <th>0</th>\n",
       "      <td>MainScreenAppear</td>\n",
       "      <td>4575588528974610257</td>\n",
       "      <td>1564029816</td>\n",
       "      <td>246</td>\n",
       "    </tr>\n",
       "    <tr>\n",
       "      <th>1</th>\n",
       "      <td>MainScreenAppear</td>\n",
       "      <td>7416695313311560658</td>\n",
       "      <td>1564053102</td>\n",
       "      <td>246</td>\n",
       "    </tr>\n",
       "    <tr>\n",
       "      <th>2</th>\n",
       "      <td>PaymentScreenSuccessful</td>\n",
       "      <td>3518123091307005509</td>\n",
       "      <td>1564054127</td>\n",
       "      <td>248</td>\n",
       "    </tr>\n",
       "    <tr>\n",
       "      <th>3</th>\n",
       "      <td>CartScreenAppear</td>\n",
       "      <td>3518123091307005509</td>\n",
       "      <td>1564054127</td>\n",
       "      <td>248</td>\n",
       "    </tr>\n",
       "    <tr>\n",
       "      <th>4</th>\n",
       "      <td>PaymentScreenSuccessful</td>\n",
       "      <td>6217807653094995999</td>\n",
       "      <td>1564055322</td>\n",
       "      <td>248</td>\n",
       "    </tr>\n",
       "  </tbody>\n",
       "</table>\n",
       "</div>"
      ],
      "text/plain": [
       "                 EventName         DeviceIDHash  EventTimestamp  ExpId\n",
       "0         MainScreenAppear  4575588528974610257      1564029816    246\n",
       "1         MainScreenAppear  7416695313311560658      1564053102    246\n",
       "2  PaymentScreenSuccessful  3518123091307005509      1564054127    248\n",
       "3         CartScreenAppear  3518123091307005509      1564054127    248\n",
       "4  PaymentScreenSuccessful  6217807653094995999      1564055322    248"
      ]
     },
     "execution_count": 59,
     "metadata": {},
     "output_type": "execute_result"
    }
   ],
   "source": [
    "data = pd.read_csv('/datasets/logs_exp_us.csv', sep='\\t')\n",
    "data.head(5)"
   ]
  },
  {
   "cell_type": "code",
   "execution_count": 60,
   "metadata": {},
   "outputs": [
    {
     "data": {
      "text/html": [
       "<div>\n",
       "<style scoped>\n",
       "    .dataframe tbody tr th:only-of-type {\n",
       "        vertical-align: middle;\n",
       "    }\n",
       "\n",
       "    .dataframe tbody tr th {\n",
       "        vertical-align: top;\n",
       "    }\n",
       "\n",
       "    .dataframe thead th {\n",
       "        text-align: right;\n",
       "    }\n",
       "</style>\n",
       "<table border=\"1\" class=\"dataframe\">\n",
       "  <thead>\n",
       "    <tr style=\"text-align: right;\">\n",
       "      <th></th>\n",
       "      <th>EventName</th>\n",
       "      <th>DeviceIDHash</th>\n",
       "      <th>EventTimestamp</th>\n",
       "      <th>ExpId</th>\n",
       "    </tr>\n",
       "  </thead>\n",
       "  <tbody>\n",
       "    <tr>\n",
       "      <th>0</th>\n",
       "      <td>MainScreenAppear</td>\n",
       "      <td>4575588528974610257</td>\n",
       "      <td>1564029816</td>\n",
       "      <td>246</td>\n",
       "    </tr>\n",
       "    <tr>\n",
       "      <th>1</th>\n",
       "      <td>MainScreenAppear</td>\n",
       "      <td>7416695313311560658</td>\n",
       "      <td>1564053102</td>\n",
       "      <td>246</td>\n",
       "    </tr>\n",
       "    <tr>\n",
       "      <th>2</th>\n",
       "      <td>PaymentScreenSuccessful</td>\n",
       "      <td>3518123091307005509</td>\n",
       "      <td>1564054127</td>\n",
       "      <td>248</td>\n",
       "    </tr>\n",
       "    <tr>\n",
       "      <th>3</th>\n",
       "      <td>CartScreenAppear</td>\n",
       "      <td>3518123091307005509</td>\n",
       "      <td>1564054127</td>\n",
       "      <td>248</td>\n",
       "    </tr>\n",
       "    <tr>\n",
       "      <th>4</th>\n",
       "      <td>PaymentScreenSuccessful</td>\n",
       "      <td>6217807653094995999</td>\n",
       "      <td>1564055322</td>\n",
       "      <td>248</td>\n",
       "    </tr>\n",
       "  </tbody>\n",
       "</table>\n",
       "</div>"
      ],
      "text/plain": [
       "                 EventName         DeviceIDHash  EventTimestamp  ExpId\n",
       "0         MainScreenAppear  4575588528974610257      1564029816    246\n",
       "1         MainScreenAppear  7416695313311560658      1564053102    246\n",
       "2  PaymentScreenSuccessful  3518123091307005509      1564054127    248\n",
       "3         CartScreenAppear  3518123091307005509      1564054127    248\n",
       "4  PaymentScreenSuccessful  6217807653094995999      1564055322    248"
      ]
     },
     "execution_count": 60,
     "metadata": {},
     "output_type": "execute_result"
    }
   ],
   "source": [
    "pd.options.display.max_colwidth = 100\n",
    "data.head(5)"
   ]
  },
  {
   "cell_type": "markdown",
   "metadata": {},
   "source": [
    "### Preparing the data for analysis"
   ]
  },
  {
   "cell_type": "markdown",
   "metadata": {},
   "source": [
    "Let's crete separate columns based on the initial one"
   ]
  },
  {
   "cell_type": "markdown",
   "metadata": {},
   "source": [
    "Let's extract date and time data from the timestamp column"
   ]
  },
  {
   "cell_type": "code",
   "execution_count": 61,
   "metadata": {},
   "outputs": [
    {
     "data": {
      "text/html": [
       "<div>\n",
       "<style scoped>\n",
       "    .dataframe tbody tr th:only-of-type {\n",
       "        vertical-align: middle;\n",
       "    }\n",
       "\n",
       "    .dataframe tbody tr th {\n",
       "        vertical-align: top;\n",
       "    }\n",
       "\n",
       "    .dataframe thead th {\n",
       "        text-align: right;\n",
       "    }\n",
       "</style>\n",
       "<table border=\"1\" class=\"dataframe\">\n",
       "  <thead>\n",
       "    <tr style=\"text-align: right;\">\n",
       "      <th></th>\n",
       "      <th>EventName</th>\n",
       "      <th>DeviceIDHash</th>\n",
       "      <th>EventTimestamp</th>\n",
       "      <th>ExpId</th>\n",
       "      <th>Date_Time</th>\n",
       "    </tr>\n",
       "  </thead>\n",
       "  <tbody>\n",
       "    <tr>\n",
       "      <th>0</th>\n",
       "      <td>MainScreenAppear</td>\n",
       "      <td>4575588528974610257</td>\n",
       "      <td>1564029816</td>\n",
       "      <td>246</td>\n",
       "      <td>2019-07-25 04:43:36</td>\n",
       "    </tr>\n",
       "    <tr>\n",
       "      <th>1</th>\n",
       "      <td>MainScreenAppear</td>\n",
       "      <td>7416695313311560658</td>\n",
       "      <td>1564053102</td>\n",
       "      <td>246</td>\n",
       "      <td>2019-07-25 11:11:42</td>\n",
       "    </tr>\n",
       "    <tr>\n",
       "      <th>2</th>\n",
       "      <td>PaymentScreenSuccessful</td>\n",
       "      <td>3518123091307005509</td>\n",
       "      <td>1564054127</td>\n",
       "      <td>248</td>\n",
       "      <td>2019-07-25 11:28:47</td>\n",
       "    </tr>\n",
       "    <tr>\n",
       "      <th>3</th>\n",
       "      <td>CartScreenAppear</td>\n",
       "      <td>3518123091307005509</td>\n",
       "      <td>1564054127</td>\n",
       "      <td>248</td>\n",
       "      <td>2019-07-25 11:28:47</td>\n",
       "    </tr>\n",
       "    <tr>\n",
       "      <th>4</th>\n",
       "      <td>PaymentScreenSuccessful</td>\n",
       "      <td>6217807653094995999</td>\n",
       "      <td>1564055322</td>\n",
       "      <td>248</td>\n",
       "      <td>2019-07-25 11:48:42</td>\n",
       "    </tr>\n",
       "  </tbody>\n",
       "</table>\n",
       "</div>"
      ],
      "text/plain": [
       "                 EventName         DeviceIDHash  EventTimestamp  ExpId  \\\n",
       "0         MainScreenAppear  4575588528974610257      1564029816    246   \n",
       "1         MainScreenAppear  7416695313311560658      1564053102    246   \n",
       "2  PaymentScreenSuccessful  3518123091307005509      1564054127    248   \n",
       "3         CartScreenAppear  3518123091307005509      1564054127    248   \n",
       "4  PaymentScreenSuccessful  6217807653094995999      1564055322    248   \n",
       "\n",
       "            Date_Time  \n",
       "0 2019-07-25 04:43:36  \n",
       "1 2019-07-25 11:11:42  \n",
       "2 2019-07-25 11:28:47  \n",
       "3 2019-07-25 11:28:47  \n",
       "4 2019-07-25 11:48:42  "
      ]
     },
     "execution_count": 61,
     "metadata": {},
     "output_type": "execute_result"
    }
   ],
   "source": [
    "data['Date_Time'] = pd.to_datetime(data['EventTimestamp'], unit='s', errors='coerce')\n",
    "data.head(5)"
   ]
  },
  {
   "cell_type": "markdown",
   "metadata": {},
   "source": [
    "Let's create a separate column with dates only"
   ]
  },
  {
   "cell_type": "code",
   "execution_count": 62,
   "metadata": {},
   "outputs": [
    {
     "data": {
      "text/html": [
       "<div>\n",
       "<style scoped>\n",
       "    .dataframe tbody tr th:only-of-type {\n",
       "        vertical-align: middle;\n",
       "    }\n",
       "\n",
       "    .dataframe tbody tr th {\n",
       "        vertical-align: top;\n",
       "    }\n",
       "\n",
       "    .dataframe thead th {\n",
       "        text-align: right;\n",
       "    }\n",
       "</style>\n",
       "<table border=\"1\" class=\"dataframe\">\n",
       "  <thead>\n",
       "    <tr style=\"text-align: right;\">\n",
       "      <th></th>\n",
       "      <th>EventName</th>\n",
       "      <th>DeviceIDHash</th>\n",
       "      <th>EventTimestamp</th>\n",
       "      <th>ExpId</th>\n",
       "      <th>Date_Time</th>\n",
       "      <th>Date</th>\n",
       "    </tr>\n",
       "  </thead>\n",
       "  <tbody>\n",
       "    <tr>\n",
       "      <th>0</th>\n",
       "      <td>MainScreenAppear</td>\n",
       "      <td>4575588528974610257</td>\n",
       "      <td>1564029816</td>\n",
       "      <td>246</td>\n",
       "      <td>2019-07-25 04:43:36</td>\n",
       "      <td>2019-07-25</td>\n",
       "    </tr>\n",
       "    <tr>\n",
       "      <th>1</th>\n",
       "      <td>MainScreenAppear</td>\n",
       "      <td>7416695313311560658</td>\n",
       "      <td>1564053102</td>\n",
       "      <td>246</td>\n",
       "      <td>2019-07-25 11:11:42</td>\n",
       "      <td>2019-07-25</td>\n",
       "    </tr>\n",
       "    <tr>\n",
       "      <th>2</th>\n",
       "      <td>PaymentScreenSuccessful</td>\n",
       "      <td>3518123091307005509</td>\n",
       "      <td>1564054127</td>\n",
       "      <td>248</td>\n",
       "      <td>2019-07-25 11:28:47</td>\n",
       "      <td>2019-07-25</td>\n",
       "    </tr>\n",
       "    <tr>\n",
       "      <th>3</th>\n",
       "      <td>CartScreenAppear</td>\n",
       "      <td>3518123091307005509</td>\n",
       "      <td>1564054127</td>\n",
       "      <td>248</td>\n",
       "      <td>2019-07-25 11:28:47</td>\n",
       "      <td>2019-07-25</td>\n",
       "    </tr>\n",
       "    <tr>\n",
       "      <th>4</th>\n",
       "      <td>PaymentScreenSuccessful</td>\n",
       "      <td>6217807653094995999</td>\n",
       "      <td>1564055322</td>\n",
       "      <td>248</td>\n",
       "      <td>2019-07-25 11:48:42</td>\n",
       "      <td>2019-07-25</td>\n",
       "    </tr>\n",
       "  </tbody>\n",
       "</table>\n",
       "</div>"
      ],
      "text/plain": [
       "                 EventName         DeviceIDHash  EventTimestamp  ExpId  \\\n",
       "0         MainScreenAppear  4575588528974610257      1564029816    246   \n",
       "1         MainScreenAppear  7416695313311560658      1564053102    246   \n",
       "2  PaymentScreenSuccessful  3518123091307005509      1564054127    248   \n",
       "3         CartScreenAppear  3518123091307005509      1564054127    248   \n",
       "4  PaymentScreenSuccessful  6217807653094995999      1564055322    248   \n",
       "\n",
       "            Date_Time       Date  \n",
       "0 2019-07-25 04:43:36 2019-07-25  \n",
       "1 2019-07-25 11:11:42 2019-07-25  \n",
       "2 2019-07-25 11:28:47 2019-07-25  \n",
       "3 2019-07-25 11:28:47 2019-07-25  \n",
       "4 2019-07-25 11:48:42 2019-07-25  "
      ]
     },
     "execution_count": 62,
     "metadata": {},
     "output_type": "execute_result"
    }
   ],
   "source": [
    "data['Date'] = data['Date_Time'].dt.date\n",
    "data['Date'] = pd.to_datetime(data['Date'])\n",
    "data.head(5)"
   ]
  },
  {
   "cell_type": "markdown",
   "metadata": {},
   "source": [
    "Let's rename columns for better convenience"
   ]
  },
  {
   "cell_type": "code",
   "execution_count": 63,
   "metadata": {},
   "outputs": [
    {
     "data": {
      "text/html": [
       "<div>\n",
       "<style scoped>\n",
       "    .dataframe tbody tr th:only-of-type {\n",
       "        vertical-align: middle;\n",
       "    }\n",
       "\n",
       "    .dataframe tbody tr th {\n",
       "        vertical-align: top;\n",
       "    }\n",
       "\n",
       "    .dataframe thead th {\n",
       "        text-align: right;\n",
       "    }\n",
       "</style>\n",
       "<table border=\"1\" class=\"dataframe\">\n",
       "  <thead>\n",
       "    <tr style=\"text-align: right;\">\n",
       "      <th></th>\n",
       "      <th>event_name</th>\n",
       "      <th>user_id</th>\n",
       "      <th>event_timestamp</th>\n",
       "      <th>test_n</th>\n",
       "      <th>date_time</th>\n",
       "      <th>date</th>\n",
       "    </tr>\n",
       "  </thead>\n",
       "  <tbody>\n",
       "    <tr>\n",
       "      <th>0</th>\n",
       "      <td>MainScreenAppear</td>\n",
       "      <td>4575588528974610257</td>\n",
       "      <td>1564029816</td>\n",
       "      <td>246</td>\n",
       "      <td>2019-07-25 04:43:36</td>\n",
       "      <td>2019-07-25</td>\n",
       "    </tr>\n",
       "    <tr>\n",
       "      <th>1</th>\n",
       "      <td>MainScreenAppear</td>\n",
       "      <td>7416695313311560658</td>\n",
       "      <td>1564053102</td>\n",
       "      <td>246</td>\n",
       "      <td>2019-07-25 11:11:42</td>\n",
       "      <td>2019-07-25</td>\n",
       "    </tr>\n",
       "    <tr>\n",
       "      <th>2</th>\n",
       "      <td>PaymentScreenSuccessful</td>\n",
       "      <td>3518123091307005509</td>\n",
       "      <td>1564054127</td>\n",
       "      <td>248</td>\n",
       "      <td>2019-07-25 11:28:47</td>\n",
       "      <td>2019-07-25</td>\n",
       "    </tr>\n",
       "    <tr>\n",
       "      <th>3</th>\n",
       "      <td>CartScreenAppear</td>\n",
       "      <td>3518123091307005509</td>\n",
       "      <td>1564054127</td>\n",
       "      <td>248</td>\n",
       "      <td>2019-07-25 11:28:47</td>\n",
       "      <td>2019-07-25</td>\n",
       "    </tr>\n",
       "    <tr>\n",
       "      <th>4</th>\n",
       "      <td>PaymentScreenSuccessful</td>\n",
       "      <td>6217807653094995999</td>\n",
       "      <td>1564055322</td>\n",
       "      <td>248</td>\n",
       "      <td>2019-07-25 11:48:42</td>\n",
       "      <td>2019-07-25</td>\n",
       "    </tr>\n",
       "  </tbody>\n",
       "</table>\n",
       "</div>"
      ],
      "text/plain": [
       "                event_name              user_id  event_timestamp  test_n  \\\n",
       "0         MainScreenAppear  4575588528974610257       1564029816     246   \n",
       "1         MainScreenAppear  7416695313311560658       1564053102     246   \n",
       "2  PaymentScreenSuccessful  3518123091307005509       1564054127     248   \n",
       "3         CartScreenAppear  3518123091307005509       1564054127     248   \n",
       "4  PaymentScreenSuccessful  6217807653094995999       1564055322     248   \n",
       "\n",
       "            date_time       date  \n",
       "0 2019-07-25 04:43:36 2019-07-25  \n",
       "1 2019-07-25 11:11:42 2019-07-25  \n",
       "2 2019-07-25 11:28:47 2019-07-25  \n",
       "3 2019-07-25 11:28:47 2019-07-25  \n",
       "4 2019-07-25 11:48:42 2019-07-25  "
      ]
     },
     "execution_count": 63,
     "metadata": {},
     "output_type": "execute_result"
    }
   ],
   "source": [
    "data = data.rename(columns={\"EventName\": \"event_name\", \"DeviceIDHash\": \"user_id\", 'EventTimestamp': 'event_timestamp', 'ExpId':'test_n', 'Date_Time':'date_time', 'Date': 'date'})\n",
    "data.head(5)"
   ]
  },
  {
   "cell_type": "code",
   "execution_count": 64,
   "metadata": {},
   "outputs": [
    {
     "name": "stdout",
     "output_type": "stream",
     "text": [
      "<class 'pandas.core.frame.DataFrame'>\n",
      "RangeIndex: 244126 entries, 0 to 244125\n",
      "Data columns (total 6 columns):\n",
      " #   Column           Non-Null Count   Dtype         \n",
      "---  ------           --------------   -----         \n",
      " 0   event_name       244126 non-null  object        \n",
      " 1   user_id          244126 non-null  int64         \n",
      " 2   event_timestamp  244126 non-null  int64         \n",
      " 3   test_n           244126 non-null  int64         \n",
      " 4   date_time        244126 non-null  datetime64[ns]\n",
      " 5   date             244126 non-null  datetime64[ns]\n",
      "dtypes: datetime64[ns](2), int64(3), object(1)\n",
      "memory usage: 11.2+ MB\n"
     ]
    }
   ],
   "source": [
    "data.info()"
   ]
  },
  {
   "cell_type": "markdown",
   "metadata": {},
   "source": [
    "Let's drop duplicates, if there are any"
   ]
  },
  {
   "cell_type": "code",
   "execution_count": 65,
   "metadata": {},
   "outputs": [
    {
     "name": "stdout",
     "output_type": "stream",
     "text": [
      "<class 'pandas.core.frame.DataFrame'>\n",
      "Int64Index: 243713 entries, 0 to 244125\n",
      "Data columns (total 6 columns):\n",
      " #   Column           Non-Null Count   Dtype         \n",
      "---  ------           --------------   -----         \n",
      " 0   event_name       243713 non-null  object        \n",
      " 1   user_id          243713 non-null  int64         \n",
      " 2   event_timestamp  243713 non-null  int64         \n",
      " 3   test_n           243713 non-null  int64         \n",
      " 4   date_time        243713 non-null  datetime64[ns]\n",
      " 5   date             243713 non-null  datetime64[ns]\n",
      "dtypes: datetime64[ns](2), int64(3), object(1)\n",
      "memory usage: 13.0+ MB\n"
     ]
    }
   ],
   "source": [
    "data = data.drop_duplicates()\n",
    "data.info()"
   ]
  },
  {
   "cell_type": "markdown",
   "metadata": {},
   "source": [
    "About 400 duplicated rows dropped out.\n",
    "Now data is clean, renamed and enriched enough to proceed to the analysis itself."
   ]
  },
  {
   "cell_type": "markdown",
   "metadata": {},
   "source": [
    "### Studying and check the data"
   ]
  },
  {
   "cell_type": "markdown",
   "metadata": {},
   "source": [
    "I this part I am going to find the following information :\n",
    "- The number of events in the logs;\n",
    "- The number of users in the logs;\n",
    "- The average number of events per user;\n",
    "- The period of time does the data cover. \n",
    "- Did you lose many events and users when excluding the older data?\n",
    "- Make sure you have users from all three experimental groups."
   ]
  },
  {
   "cell_type": "markdown",
   "metadata": {},
   "source": [
    "#### Number of events in the logs"
   ]
  },
  {
   "cell_type": "code",
   "execution_count": 66,
   "metadata": {},
   "outputs": [
    {
     "data": {
      "text/plain": [
       "243713"
      ]
     },
     "execution_count": 66,
     "metadata": {},
     "output_type": "execute_result"
    }
   ],
   "source": [
    "data['event_name'].count()"
   ]
  },
  {
   "cell_type": "markdown",
   "metadata": {},
   "source": [
    "There are 243713 in the logs"
   ]
  },
  {
   "cell_type": "markdown",
   "metadata": {},
   "source": [
    "#### Number of unique users in the logs"
   ]
  },
  {
   "cell_type": "code",
   "execution_count": 67,
   "metadata": {},
   "outputs": [
    {
     "data": {
      "text/plain": [
       "7551"
      ]
     },
     "execution_count": 67,
     "metadata": {},
     "output_type": "execute_result"
    }
   ],
   "source": [
    "data['user_id'].nunique()"
   ]
  },
  {
   "cell_type": "markdown",
   "metadata": {},
   "source": [
    "There are 7551 unique users in the logs"
   ]
  },
  {
   "cell_type": "markdown",
   "metadata": {},
   "source": [
    "#### Average number of events per user?"
   ]
  },
  {
   "cell_type": "code",
   "execution_count": 68,
   "metadata": {},
   "outputs": [
    {
     "data": {
      "text/plain": [
       "32.0"
      ]
     },
     "execution_count": 68,
     "metadata": {},
     "output_type": "execute_result"
    }
   ],
   "source": [
    "np.round(np.int(data['event_name'].count()) / np.int(data['user_id'].nunique()))"
   ]
  },
  {
   "cell_type": "markdown",
   "metadata": {},
   "source": [
    "There are 32 events per user on average "
   ]
  },
  {
   "cell_type": "markdown",
   "metadata": {},
   "source": [
    "#### Time cover"
   ]
  },
  {
   "cell_type": "code",
   "execution_count": 69,
   "metadata": {},
   "outputs": [
    {
     "data": {
      "text/plain": [
       "count                  243713\n",
       "unique                     14\n",
       "top       2019-08-01 00:00:00\n",
       "freq                    36141\n",
       "first     2019-07-25 00:00:00\n",
       "last      2019-08-07 00:00:00\n",
       "Name: date, dtype: object"
      ]
     },
     "execution_count": 69,
     "metadata": {},
     "output_type": "execute_result"
    }
   ],
   "source": [
    "data['date'].describe()"
   ]
  },
  {
   "cell_type": "markdown",
   "metadata": {},
   "source": [
    "The data covers events from 25.07.2019 till 07.08.2019"
   ]
  },
  {
   "cell_type": "markdown",
   "metadata": {},
   "source": [
    "Let's build a graph"
   ]
  },
  {
   "cell_type": "code",
   "execution_count": 70,
   "metadata": {
    "scrolled": false
   },
   "outputs": [
    {
     "data": {
      "image/png": "[encoded data removed]",
      "text/plain": [
       "<Figure size 1080x720 with 1 Axes>"
      ]
     },
     "metadata": {},
     "output_type": "display_data"
    }
   ],
   "source": [
    "ax = data['date'].hist(bins=40, figsize=(15, 10))\n",
    "plt.title('Events by Date')\n",
    "ax.set_ylabel('Number of Events')\n",
    "plt.xticks(rotation='vertical')\n",
    "plt.show()"
   ]
  },
  {
   "cell_type": "markdown",
   "metadata": {},
   "source": [
    "From the graph, we can see that in fact there is almost no complete data till 1.08.2019. We can exclude the earlier events."
   ]
  },
  {
   "cell_type": "code",
   "execution_count": 71,
   "metadata": {},
   "outputs": [
    {
     "name": "stdout",
     "output_type": "stream",
     "text": [
      "<class 'pandas.core.frame.DataFrame'>\n",
      "Int64Index: 240887 entries, 2828 to 244125\n",
      "Data columns (total 6 columns):\n",
      " #   Column           Non-Null Count   Dtype         \n",
      "---  ------           --------------   -----         \n",
      " 0   event_name       240887 non-null  object        \n",
      " 1   user_id          240887 non-null  int64         \n",
      " 2   event_timestamp  240887 non-null  int64         \n",
      " 3   test_n           240887 non-null  int64         \n",
      " 4   date_time        240887 non-null  datetime64[ns]\n",
      " 5   date             240887 non-null  datetime64[ns]\n",
      "dtypes: datetime64[ns](2), int64(3), object(1)\n",
      "memory usage: 12.9+ MB\n"
     ]
    }
   ],
   "source": [
    "data_new = data[data['date'] > '2019-07-31']\n",
    "data_new.info()"
   ]
  },
  {
   "cell_type": "code",
   "execution_count": 72,
   "metadata": {},
   "outputs": [
    {
     "data": {
      "text/html": [
       "<div>\n",
       "<style scoped>\n",
       "    .dataframe tbody tr th:only-of-type {\n",
       "        vertical-align: middle;\n",
       "    }\n",
       "\n",
       "    .dataframe tbody tr th {\n",
       "        vertical-align: top;\n",
       "    }\n",
       "\n",
       "    .dataframe thead th {\n",
       "        text-align: right;\n",
       "    }\n",
       "</style>\n",
       "<table border=\"1\" class=\"dataframe\">\n",
       "  <thead>\n",
       "    <tr style=\"text-align: right;\">\n",
       "      <th></th>\n",
       "      <th>event_name</th>\n",
       "      <th>user_id</th>\n",
       "      <th>event_timestamp</th>\n",
       "      <th>test_n</th>\n",
       "      <th>date_time</th>\n",
       "      <th>date</th>\n",
       "    </tr>\n",
       "  </thead>\n",
       "  <tbody>\n",
       "    <tr>\n",
       "      <th>2828</th>\n",
       "      <td>Tutorial</td>\n",
       "      <td>3737462046622621720</td>\n",
       "      <td>1564618048</td>\n",
       "      <td>246</td>\n",
       "      <td>2019-08-01 00:07:28</td>\n",
       "      <td>2019-08-01</td>\n",
       "    </tr>\n",
       "    <tr>\n",
       "      <th>2829</th>\n",
       "      <td>MainScreenAppear</td>\n",
       "      <td>3737462046622621720</td>\n",
       "      <td>1564618080</td>\n",
       "      <td>246</td>\n",
       "      <td>2019-08-01 00:08:00</td>\n",
       "      <td>2019-08-01</td>\n",
       "    </tr>\n",
       "    <tr>\n",
       "      <th>2830</th>\n",
       "      <td>MainScreenAppear</td>\n",
       "      <td>3737462046622621720</td>\n",
       "      <td>1564618135</td>\n",
       "      <td>246</td>\n",
       "      <td>2019-08-01 00:08:55</td>\n",
       "      <td>2019-08-01</td>\n",
       "    </tr>\n",
       "    <tr>\n",
       "      <th>2831</th>\n",
       "      <td>OffersScreenAppear</td>\n",
       "      <td>3737462046622621720</td>\n",
       "      <td>1564618138</td>\n",
       "      <td>246</td>\n",
       "      <td>2019-08-01 00:08:58</td>\n",
       "      <td>2019-08-01</td>\n",
       "    </tr>\n",
       "    <tr>\n",
       "      <th>2832</th>\n",
       "      <td>MainScreenAppear</td>\n",
       "      <td>1433840883824088890</td>\n",
       "      <td>1564618139</td>\n",
       "      <td>247</td>\n",
       "      <td>2019-08-01 00:08:59</td>\n",
       "      <td>2019-08-01</td>\n",
       "    </tr>\n",
       "    <tr>\n",
       "      <th>...</th>\n",
       "      <td>...</td>\n",
       "      <td>...</td>\n",
       "      <td>...</td>\n",
       "      <td>...</td>\n",
       "      <td>...</td>\n",
       "      <td>...</td>\n",
       "    </tr>\n",
       "    <tr>\n",
       "      <th>244121</th>\n",
       "      <td>MainScreenAppear</td>\n",
       "      <td>4599628364049201812</td>\n",
       "      <td>1565212345</td>\n",
       "      <td>247</td>\n",
       "      <td>2019-08-07 21:12:25</td>\n",
       "      <td>2019-08-07</td>\n",
       "    </tr>\n",
       "    <tr>\n",
       "      <th>244122</th>\n",
       "      <td>MainScreenAppear</td>\n",
       "      <td>5849806612437486590</td>\n",
       "      <td>1565212439</td>\n",
       "      <td>246</td>\n",
       "      <td>2019-08-07 21:13:59</td>\n",
       "      <td>2019-08-07</td>\n",
       "    </tr>\n",
       "    <tr>\n",
       "      <th>244123</th>\n",
       "      <td>MainScreenAppear</td>\n",
       "      <td>5746969938801999050</td>\n",
       "      <td>1565212483</td>\n",
       "      <td>246</td>\n",
       "      <td>2019-08-07 21:14:43</td>\n",
       "      <td>2019-08-07</td>\n",
       "    </tr>\n",
       "    <tr>\n",
       "      <th>244124</th>\n",
       "      <td>MainScreenAppear</td>\n",
       "      <td>5746969938801999050</td>\n",
       "      <td>1565212498</td>\n",
       "      <td>246</td>\n",
       "      <td>2019-08-07 21:14:58</td>\n",
       "      <td>2019-08-07</td>\n",
       "    </tr>\n",
       "    <tr>\n",
       "      <th>244125</th>\n",
       "      <td>OffersScreenAppear</td>\n",
       "      <td>5746969938801999050</td>\n",
       "      <td>1565212517</td>\n",
       "      <td>246</td>\n",
       "      <td>2019-08-07 21:15:17</td>\n",
       "      <td>2019-08-07</td>\n",
       "    </tr>\n",
       "  </tbody>\n",
       "</table>\n",
       "<p>240887 rows × 6 columns</p>\n",
       "</div>"
      ],
      "text/plain": [
       "                event_name              user_id  event_timestamp  test_n  \\\n",
       "2828              Tutorial  3737462046622621720       1564618048     246   \n",
       "2829      MainScreenAppear  3737462046622621720       1564618080     246   \n",
       "2830      MainScreenAppear  3737462046622621720       1564618135     246   \n",
       "2831    OffersScreenAppear  3737462046622621720       1564618138     246   \n",
       "2832      MainScreenAppear  1433840883824088890       1564618139     247   \n",
       "...                    ...                  ...              ...     ...   \n",
       "244121    MainScreenAppear  4599628364049201812       1565212345     247   \n",
       "244122    MainScreenAppear  5849806612437486590       1565212439     246   \n",
       "244123    MainScreenAppear  5746969938801999050       1565212483     246   \n",
       "244124    MainScreenAppear  5746969938801999050       1565212498     246   \n",
       "244125  OffersScreenAppear  5746969938801999050       1565212517     246   \n",
       "\n",
       "                 date_time       date  \n",
       "2828   2019-08-01 00:07:28 2019-08-01  \n",
       "2829   2019-08-01 00:08:00 2019-08-01  \n",
       "2830   2019-08-01 00:08:55 2019-08-01  \n",
       "2831   2019-08-01 00:08:58 2019-08-01  \n",
       "2832   2019-08-01 00:08:59 2019-08-01  \n",
       "...                    ...        ...  \n",
       "244121 2019-08-07 21:12:25 2019-08-07  \n",
       "244122 2019-08-07 21:13:59 2019-08-07  \n",
       "244123 2019-08-07 21:14:43 2019-08-07  \n",
       "244124 2019-08-07 21:14:58 2019-08-07  \n",
       "244125 2019-08-07 21:15:17 2019-08-07  \n",
       "\n",
       "[240887 rows x 6 columns]"
      ]
     },
     "execution_count": 72,
     "metadata": {},
     "output_type": "execute_result"
    }
   ],
   "source": [
    "data_new"
   ]
  },
  {
   "cell_type": "code",
   "execution_count": 73,
   "metadata": {},
   "outputs": [
    {
     "data": {
      "text/plain": [
       "7534"
      ]
     },
     "execution_count": 73,
     "metadata": {},
     "output_type": "execute_result"
    }
   ],
   "source": [
    "data_new['user_id'].nunique() "
   ]
  },
  {
   "cell_type": "markdown",
   "metadata": {},
   "source": [
    "After cutting the data that preceeds the 1.08.2019, only 17 unique users and nearly 2800 events were lost."
   ]
  },
  {
   "cell_type": "code",
   "execution_count": 74,
   "metadata": {},
   "outputs": [
    {
     "data": {
      "text/plain": [
       "32.0"
      ]
     },
     "execution_count": 74,
     "metadata": {},
     "output_type": "execute_result"
    }
   ],
   "source": [
    "np.round(np.int(data_new['event_name'].count()) / np.int(data_new['user_id'].nunique()))"
   ]
  },
  {
   "cell_type": "markdown",
   "metadata": {},
   "source": [
    "We need to check whether all 3 test group are represented in new dataset"
   ]
  },
  {
   "cell_type": "code",
   "execution_count": 75,
   "metadata": {},
   "outputs": [
    {
     "data": {
      "text/plain": [
       "3"
      ]
     },
     "execution_count": 75,
     "metadata": {},
     "output_type": "execute_result"
    }
   ],
   "source": [
    "data_new['test_n'].nunique()"
   ]
  },
  {
   "cell_type": "markdown",
   "metadata": {},
   "source": [
    "Intermediate conclusion:\n",
    "\n",
    "    - There are 243713 events and 7551 unique users represented in the initial logs;\n",
    "    - 32 events per user are performed;\n",
    "    - After cut by dates, there are 240887 events and 7534 users represented in the logs.\n",
    "    - Still 32 events per user are performed after data cut;\n",
    "    - All 3 groups are still represented after cut."
   ]
  },
  {
   "cell_type": "markdown",
   "metadata": {},
   "source": [
    "### Studying the event funnel"
   ]
  },
  {
   "cell_type": "markdown",
   "metadata": {},
   "source": [
    "Here, I'm going to do the following:"
   ]
  },
  {
   "cell_type": "markdown",
   "metadata": {},
   "source": [
    "- See what events are in the logs and their frequency of occurrence;\n",
    "- Find the number of users who performed each of these actions. Calculate the proportion of users who performed the action at least once;\n",
    "- Understand the event funnel;\n",
    "- Use the event funnel to find the share of users that proceed from each stage to the next;\n",
    "- Find the stage where users are lost mostly;\n",
    "- Find the share of users that make the entire journey from their first event to payment.\n"
   ]
  },
  {
   "cell_type": "markdown",
   "metadata": {},
   "source": [
    "#### Events and their frequency of occurrence"
   ]
  },
  {
   "cell_type": "markdown",
   "metadata": {},
   "source": [
    "Let's group the data by events and fing their frequency."
   ]
  },
  {
   "cell_type": "code",
   "execution_count": 76,
   "metadata": {},
   "outputs": [
    {
     "data": {
      "text/plain": [
       "MainScreenAppear           117328\n",
       "OffersScreenAppear          46333\n",
       "CartScreenAppear            42303\n",
       "PaymentScreenSuccessful     33918\n",
       "Tutorial                     1005\n",
       "Name: event_name, dtype: int64"
      ]
     },
     "execution_count": 76,
     "metadata": {},
     "output_type": "execute_result"
    }
   ],
   "source": [
    "data_new['event_name'].value_counts()"
   ]
  },
  {
   "cell_type": "code",
   "execution_count": 77,
   "metadata": {},
   "outputs": [
    {
     "data": {
      "text/html": [
       "<div>\n",
       "<style scoped>\n",
       "    .dataframe tbody tr th:only-of-type {\n",
       "        vertical-align: middle;\n",
       "    }\n",
       "\n",
       "    .dataframe tbody tr th {\n",
       "        vertical-align: top;\n",
       "    }\n",
       "\n",
       "    .dataframe thead th {\n",
       "        text-align: right;\n",
       "    }\n",
       "</style>\n",
       "<table border=\"1\" class=\"dataframe\">\n",
       "  <thead>\n",
       "    <tr style=\"text-align: right;\">\n",
       "      <th></th>\n",
       "      <th>event_name</th>\n",
       "      <th>frequency</th>\n",
       "    </tr>\n",
       "  </thead>\n",
       "  <tbody>\n",
       "    <tr>\n",
       "      <th>1</th>\n",
       "      <td>MainScreenAppear</td>\n",
       "      <td>117328</td>\n",
       "    </tr>\n",
       "    <tr>\n",
       "      <th>2</th>\n",
       "      <td>OffersScreenAppear</td>\n",
       "      <td>46333</td>\n",
       "    </tr>\n",
       "    <tr>\n",
       "      <th>0</th>\n",
       "      <td>CartScreenAppear</td>\n",
       "      <td>42303</td>\n",
       "    </tr>\n",
       "    <tr>\n",
       "      <th>3</th>\n",
       "      <td>PaymentScreenSuccessful</td>\n",
       "      <td>33918</td>\n",
       "    </tr>\n",
       "    <tr>\n",
       "      <th>4</th>\n",
       "      <td>Tutorial</td>\n",
       "      <td>1005</td>\n",
       "    </tr>\n",
       "  </tbody>\n",
       "</table>\n",
       "</div>"
      ],
      "text/plain": [
       "                event_name  frequency\n",
       "1         MainScreenAppear     117328\n",
       "2       OffersScreenAppear      46333\n",
       "0         CartScreenAppear      42303\n",
       "3  PaymentScreenSuccessful      33918\n",
       "4                 Tutorial       1005"
      ]
     },
     "execution_count": 77,
     "metadata": {},
     "output_type": "execute_result"
    }
   ],
   "source": [
    "data_by_events = data_new.groupby([\"event_name\"])['user_id'].count().reset_index()\n",
    "data_by_events = data_by_events.rename(columns={'user_id':'frequency'}).sort_values(by='frequency', ascending=False)\n",
    "data_by_events"
   ]
  },
  {
   "cell_type": "markdown",
   "metadata": {},
   "source": [
    "#### Users"
   ]
  },
  {
   "cell_type": "code",
   "execution_count": 78,
   "metadata": {},
   "outputs": [
    {
     "data": {
      "text/html": [
       "<div>\n",
       "<style scoped>\n",
       "    .dataframe tbody tr th:only-of-type {\n",
       "        vertical-align: middle;\n",
       "    }\n",
       "\n",
       "    .dataframe tbody tr th {\n",
       "        vertical-align: top;\n",
       "    }\n",
       "\n",
       "    .dataframe thead th {\n",
       "        text-align: right;\n",
       "    }\n",
       "</style>\n",
       "<table border=\"1\" class=\"dataframe\">\n",
       "  <thead>\n",
       "    <tr style=\"text-align: right;\">\n",
       "      <th></th>\n",
       "      <th>event_name</th>\n",
       "      <th>unique_users</th>\n",
       "    </tr>\n",
       "  </thead>\n",
       "  <tbody>\n",
       "    <tr>\n",
       "      <th>1</th>\n",
       "      <td>MainScreenAppear</td>\n",
       "      <td>7419</td>\n",
       "    </tr>\n",
       "    <tr>\n",
       "      <th>2</th>\n",
       "      <td>OffersScreenAppear</td>\n",
       "      <td>4593</td>\n",
       "    </tr>\n",
       "    <tr>\n",
       "      <th>0</th>\n",
       "      <td>CartScreenAppear</td>\n",
       "      <td>3734</td>\n",
       "    </tr>\n",
       "    <tr>\n",
       "      <th>3</th>\n",
       "      <td>PaymentScreenSuccessful</td>\n",
       "      <td>3539</td>\n",
       "    </tr>\n",
       "    <tr>\n",
       "      <th>4</th>\n",
       "      <td>Tutorial</td>\n",
       "      <td>840</td>\n",
       "    </tr>\n",
       "  </tbody>\n",
       "</table>\n",
       "</div>"
      ],
      "text/plain": [
       "                event_name  unique_users\n",
       "1         MainScreenAppear          7419\n",
       "2       OffersScreenAppear          4593\n",
       "0         CartScreenAppear          3734\n",
       "3  PaymentScreenSuccessful          3539\n",
       "4                 Tutorial           840"
      ]
     },
     "execution_count": 78,
     "metadata": {},
     "output_type": "execute_result"
    }
   ],
   "source": [
    "data_by_users = data_new.groupby([\"event_name\"])['user_id'].nunique().reset_index()\n",
    "data_by_users = data_by_users.rename(columns={'user_id':'unique_users'}).sort_values(by='unique_users', ascending=False)\n",
    "data_by_users"
   ]
  },
  {
   "cell_type": "code",
   "execution_count": 79,
   "metadata": {},
   "outputs": [
    {
     "data": {
      "text/plain": [
       "1    7419\n",
       "2    4593\n",
       "0    3734\n",
       "3    3539\n",
       "4     840\n",
       "Name: unique_users, dtype: int64"
      ]
     },
     "execution_count": 79,
     "metadata": {},
     "output_type": "execute_result"
    }
   ],
   "source": [
    "data_by_users['unique_users']"
   ]
  },
  {
   "cell_type": "markdown",
   "metadata": {},
   "source": [
    "Let's calculate the proportion of users who performed the action at least once."
   ]
  },
  {
   "cell_type": "code",
   "execution_count": 80,
   "metadata": {},
   "outputs": [
    {
     "data": {
      "text/html": [
       "<div>\n",
       "<style scoped>\n",
       "    .dataframe tbody tr th:only-of-type {\n",
       "        vertical-align: middle;\n",
       "    }\n",
       "\n",
       "    .dataframe tbody tr th {\n",
       "        vertical-align: top;\n",
       "    }\n",
       "\n",
       "    .dataframe thead th {\n",
       "        text-align: right;\n",
       "    }\n",
       "</style>\n",
       "<table border=\"1\" class=\"dataframe\">\n",
       "  <thead>\n",
       "    <tr style=\"text-align: right;\">\n",
       "      <th></th>\n",
       "      <th>index</th>\n",
       "      <th>event_name</th>\n",
       "      <th>unique_users</th>\n",
       "      <th>user_prop%</th>\n",
       "    </tr>\n",
       "  </thead>\n",
       "  <tbody>\n",
       "    <tr>\n",
       "      <th>0</th>\n",
       "      <td>1</td>\n",
       "      <td>MainScreenAppear</td>\n",
       "      <td>7419</td>\n",
       "      <td>98.5</td>\n",
       "    </tr>\n",
       "    <tr>\n",
       "      <th>1</th>\n",
       "      <td>2</td>\n",
       "      <td>OffersScreenAppear</td>\n",
       "      <td>4593</td>\n",
       "      <td>61.0</td>\n",
       "    </tr>\n",
       "    <tr>\n",
       "      <th>2</th>\n",
       "      <td>0</td>\n",
       "      <td>CartScreenAppear</td>\n",
       "      <td>3734</td>\n",
       "      <td>49.6</td>\n",
       "    </tr>\n",
       "    <tr>\n",
       "      <th>3</th>\n",
       "      <td>3</td>\n",
       "      <td>PaymentScreenSuccessful</td>\n",
       "      <td>3539</td>\n",
       "      <td>47.0</td>\n",
       "    </tr>\n",
       "    <tr>\n",
       "      <th>4</th>\n",
       "      <td>4</td>\n",
       "      <td>Tutorial</td>\n",
       "      <td>840</td>\n",
       "      <td>11.1</td>\n",
       "    </tr>\n",
       "  </tbody>\n",
       "</table>\n",
       "</div>"
      ],
      "text/plain": [
       "   index               event_name  unique_users  user_prop%\n",
       "0      1         MainScreenAppear          7419        98.5\n",
       "1      2       OffersScreenAppear          4593        61.0\n",
       "2      0         CartScreenAppear          3734        49.6\n",
       "3      3  PaymentScreenSuccessful          3539        47.0\n",
       "4      4                 Tutorial           840        11.1"
      ]
     },
     "execution_count": 80,
     "metadata": {},
     "output_type": "execute_result"
    }
   ],
   "source": [
    "data_by_users['user_prop%'] = ((data_by_users['unique_users']) / (data_new['user_id'].nunique())*100).round(1)\n",
    "data_by_users = data_by_users.reset_index()\n",
    "data_by_users"
   ]
  },
  {
   "cell_type": "markdown",
   "metadata": {},
   "source": [
    "#### Event funnel"
   ]
  },
  {
   "cell_type": "markdown",
   "metadata": {},
   "source": [
    "Tutorial screen is not necceserily the part of the purchasing sequence.\n",
    "So, logically. the order should be like this:\n",
    "1. Main screen appear\n",
    "2. Offer screen appear \n",
    "3. Cart screen appear\n",
    "4. Payment screen successful\n",
    "\n",
    "Apparently, not all of our unique users started the process from logically \"first\" event in sequence. Probably, that's why we see only 98.5% at the first stage."
   ]
  },
  {
   "cell_type": "code",
   "execution_count": 81,
   "metadata": {},
   "outputs": [
    {
     "data": {
      "text/html": [
       "<div>\n",
       "<style scoped>\n",
       "    .dataframe tbody tr th:only-of-type {\n",
       "        vertical-align: middle;\n",
       "    }\n",
       "\n",
       "    .dataframe tbody tr th {\n",
       "        vertical-align: top;\n",
       "    }\n",
       "\n",
       "    .dataframe thead th {\n",
       "        text-align: right;\n",
       "    }\n",
       "</style>\n",
       "<table border=\"1\" class=\"dataframe\">\n",
       "  <thead>\n",
       "    <tr style=\"text-align: right;\">\n",
       "      <th></th>\n",
       "      <th>index</th>\n",
       "      <th>event_name</th>\n",
       "      <th>unique_users</th>\n",
       "      <th>user_prop%</th>\n",
       "    </tr>\n",
       "  </thead>\n",
       "  <tbody>\n",
       "    <tr>\n",
       "      <th>0</th>\n",
       "      <td>1</td>\n",
       "      <td>MainScreenAppear</td>\n",
       "      <td>7419</td>\n",
       "      <td>98.5</td>\n",
       "    </tr>\n",
       "    <tr>\n",
       "      <th>1</th>\n",
       "      <td>2</td>\n",
       "      <td>OffersScreenAppear</td>\n",
       "      <td>4593</td>\n",
       "      <td>61.0</td>\n",
       "    </tr>\n",
       "    <tr>\n",
       "      <th>2</th>\n",
       "      <td>0</td>\n",
       "      <td>CartScreenAppear</td>\n",
       "      <td>3734</td>\n",
       "      <td>49.6</td>\n",
       "    </tr>\n",
       "    <tr>\n",
       "      <th>3</th>\n",
       "      <td>3</td>\n",
       "      <td>PaymentScreenSuccessful</td>\n",
       "      <td>3539</td>\n",
       "      <td>47.0</td>\n",
       "    </tr>\n",
       "  </tbody>\n",
       "</table>\n",
       "</div>"
      ],
      "text/plain": [
       "   index               event_name  unique_users  user_prop%\n",
       "0      1         MainScreenAppear          7419        98.5\n",
       "1      2       OffersScreenAppear          4593        61.0\n",
       "2      0         CartScreenAppear          3734        49.6\n",
       "3      3  PaymentScreenSuccessful          3539        47.0"
      ]
     },
     "execution_count": 81,
     "metadata": {},
     "output_type": "execute_result"
    }
   ],
   "source": [
    "event_funnel = data_by_users.drop([4])\n",
    "event_funnel"
   ]
  },
  {
   "cell_type": "markdown",
   "metadata": {},
   "source": [
    "Let's take a look at the shares of people at every stage in relation to the initial number of users"
   ]
  },
  {
   "cell_type": "code",
   "execution_count": 82,
   "metadata": {},
   "outputs": [
    {
     "data": {
      "application/vnd.plotly.v1+json": {
       "config": {
        "plotlyServerURL": "https://plot.ly"
       },
       "data": [
        {
         "textinfo": "label+value+percent initial",
         "type": "funnel",
         "x": [
          7419,
          4593,
          3734,
          3539
         ],
         "y": [
          "MainScreenAppear",
          "OffersScreenAppear",
          "CartScreenAppear",
          "PaymentScreenSuccessful"
         ]
        }
       ],
       "layout": {
        "template": {
         "data": {
          "bar": [
           {
            "error_x": {
             "color": "#2a3f5f"
            },
            "error_y": {
             "color": "#2a3f5f"
            },
            "marker": {
             "line": {
              "color": "#E5ECF6",
              "width": 0.5
             },
             "pattern": {
              "fillmode": "overlay",
              "size": 10,
              "solidity": 0.2
             }
            },
            "type": "bar"
           }
          ],
          "barpolar": [
           {
            "marker": {
             "line": {
              "color": "#E5ECF6",
              "width": 0.5
             },
             "pattern": {
              "fillmode": "overlay",
              "size": 10,
              "solidity": 0.2
             }
            },
            "type": "barpolar"
           }
          ],
          "carpet": [
           {
            "aaxis": {
             "endlinecolor": "#2a3f5f",
             "gridcolor": "white",
             "linecolor": "white",
             "minorgridcolor": "white",
             "startlinecolor": "#2a3f5f"
            },
            "baxis": {
             "endlinecolor": "#2a3f5f",
             "gridcolor": "white",
             "linecolor": "white",
             "minorgridcolor": "white",
             "startlinecolor": "#2a3f5f"
            },
            "type": "carpet"
           }
          ],
          "choropleth": [
           {
            "colorbar": {
             "outlinewidth": 0,
             "ticks": ""
            },
            "type": "choropleth"
           }
          ],
          "contour": [
           {
            "colorbar": {
             "outlinewidth": 0,
             "ticks": ""
            },
            "colorscale": [
             [
              0,
              "#0d0887"
             ],
             [
              0.1111111111111111,
              "#46039f"
             ],
             [
              0.2222222222222222,
              "#7201a8"
             ],
             [
              0.3333333333333333,
              "#9c179e"
             ],
             [
              0.4444444444444444,
              "#bd3786"
             ],
             [
              0.5555555555555556,
              "#d8576b"
             ],
             [
              0.6666666666666666,
              "#ed7953"
             ],
             [
              0.7777777777777778,
              "#fb9f3a"
             ],
             [
              0.8888888888888888,
              "#fdca26"
             ],
             [
              1,
              "#f0f921"
             ]
            ],
            "type": "contour"
           }
          ],
          "contourcarpet": [
           {
            "colorbar": {
             "outlinewidth": 0,
             "ticks": ""
            },
            "type": "contourcarpet"
           }
          ],
          "heatmap": [
           {
            "colorbar": {
             "outlinewidth": 0,
             "ticks": ""
            },
            "colorscale": [
             [
              0,
              "#0d0887"
             ],
             [
              0.1111111111111111,
              "#46039f"
             ],
             [
              0.2222222222222222,
              "#7201a8"
             ],
             [
              0.3333333333333333,
              "#9c179e"
             ],
             [
              0.4444444444444444,
              "#bd3786"
             ],
             [
              0.5555555555555556,
              "#d8576b"
             ],
             [
              0.6666666666666666,
              "#ed7953"
             ],
             [
              0.7777777777777778,
              "#fb9f3a"
             ],
             [
              0.8888888888888888,
              "#fdca26"
             ],
             [
              1,
              "#f0f921"
             ]
            ],
            "type": "heatmap"
           }
          ],
          "heatmapgl": [
           {
            "colorbar": {
             "outlinewidth": 0,
             "ticks": ""
            },
            "colorscale": [
             [
              0,
              "#0d0887"
             ],
             [
              0.1111111111111111,
              "#46039f"
             ],
             [
              0.2222222222222222,
              "#7201a8"
             ],
             [
              0.3333333333333333,
              "#9c179e"
             ],
             [
              0.4444444444444444,
              "#bd3786"
             ],
             [
              0.5555555555555556,
              "#d8576b"
             ],
             [
              0.6666666666666666,
              "#ed7953"
             ],
             [
              0.7777777777777778,
              "#fb9f3a"
             ],
             [
              0.8888888888888888,
              "#fdca26"
             ],
             [
              1,
              "#f0f921"
             ]
            ],
            "type": "heatmapgl"
           }
          ],
          "histogram": [
           {
            "marker": {
             "pattern": {
              "fillmode": "overlay",
              "size": 10,
              "solidity": 0.2
             }
            },
            "type": "histogram"
           }
          ],
          "histogram2d": [
           {
            "colorbar": {
             "outlinewidth": 0,
             "ticks": ""
            },
            "colorscale": [
             [
              0,
              "#0d0887"
             ],
             [
              0.1111111111111111,
              "#46039f"
             ],
             [
              0.2222222222222222,
              "#7201a8"
             ],
             [
              0.3333333333333333,
              "#9c179e"
             ],
             [
              0.4444444444444444,
              "#bd3786"
             ],
             [
              0.5555555555555556,
              "#d8576b"
             ],
             [
              0.6666666666666666,
              "#ed7953"
             ],
             [
              0.7777777777777778,
              "#fb9f3a"
             ],
             [
              0.8888888888888888,
              "#fdca26"
             ],
             [
              1,
              "#f0f921"
             ]
            ],
            "type": "histogram2d"
           }
          ],
          "histogram2dcontour": [
           {
            "colorbar": {
             "outlinewidth": 0,
             "ticks": ""
            },
            "colorscale": [
             [
              0,
              "#0d0887"
             ],
             [
              0.1111111111111111,
              "#46039f"
             ],
             [
              0.2222222222222222,
              "#7201a8"
             ],
             [
              0.3333333333333333,
              "#9c179e"
             ],
             [
              0.4444444444444444,
              "#bd3786"
             ],
             [
              0.5555555555555556,
              "#d8576b"
             ],
             [
              0.6666666666666666,
              "#ed7953"
             ],
             [
              0.7777777777777778,
              "#fb9f3a"
             ],
             [
              0.8888888888888888,
              "#fdca26"
             ],
             [
              1,
              "#f0f921"
             ]
            ],
            "type": "histogram2dcontour"
           }
          ],
          "mesh3d": [
           {
            "colorbar": {
             "outlinewidth": 0,
             "ticks": ""
            },
            "type": "mesh3d"
           }
          ],
          "parcoords": [
           {
            "line": {
             "colorbar": {
              "outlinewidth": 0,
              "ticks": ""
             }
            },
            "type": "parcoords"
           }
          ],
          "pie": [
           {
            "automargin": true,
            "type": "pie"
           }
          ],
          "scatter": [
           {
            "marker": {
             "colorbar": {
              "outlinewidth": 0,
              "ticks": ""
             }
            },
            "type": "scatter"
           }
          ],
          "scatter3d": [
           {
            "line": {
             "colorbar": {
              "outlinewidth": 0,
              "ticks": ""
             }
            },
            "marker": {
             "colorbar": {
              "outlinewidth": 0,
              "ticks": ""
             }
            },
            "type": "scatter3d"
           }
          ],
          "scattercarpet": [
           {
            "marker": {
             "colorbar": {
              "outlinewidth": 0,
              "ticks": ""
             }
            },
            "type": "scattercarpet"
           }
          ],
          "scattergeo": [
           {
            "marker": {
             "colorbar": {
              "outlinewidth": 0,
              "ticks": ""
             }
            },
            "type": "scattergeo"
           }
          ],
          "scattergl": [
           {
            "marker": {
             "colorbar": {
              "outlinewidth": 0,
              "ticks": ""
             }
            },
            "type": "scattergl"
           }
          ],
          "scattermapbox": [
           {
            "marker": {
             "colorbar": {
              "outlinewidth": 0,
              "ticks": ""
             }
            },
            "type": "scattermapbox"
           }
          ],
          "scatterpolar": [
           {
            "marker": {
             "colorbar": {
              "outlinewidth": 0,
              "ticks": ""
             }
            },
            "type": "scatterpolar"
           }
          ],
          "scatterpolargl": [
           {
            "marker": {
             "colorbar": {
              "outlinewidth": 0,
              "ticks": ""
             }
            },
            "type": "scatterpolargl"
           }
          ],
          "scatterternary": [
           {
            "marker": {
             "colorbar": {
              "outlinewidth": 0,
              "ticks": ""
             }
            },
            "type": "scatterternary"
           }
          ],
          "surface": [
           {
            "colorbar": {
             "outlinewidth": 0,
             "ticks": ""
            },
            "colorscale": [
             [
              0,
              "#0d0887"
             ],
             [
              0.1111111111111111,
              "#46039f"
             ],
             [
              0.2222222222222222,
              "#7201a8"
             ],
             [
              0.3333333333333333,
              "#9c179e"
             ],
             [
              0.4444444444444444,
              "#bd3786"
             ],
             [
              0.5555555555555556,
              "#d8576b"
             ],
             [
              0.6666666666666666,
              "#ed7953"
             ],
             [
              0.7777777777777778,
              "#fb9f3a"
             ],
             [
              0.8888888888888888,
              "#fdca26"
             ],
             [
              1,
              "#f0f921"
             ]
            ],
            "type": "surface"
           }
          ],
          "table": [
           {
            "cells": {
             "fill": {
              "color": "#EBF0F8"
             },
             "line": {
              "color": "white"
             }
            },
            "header": {
             "fill": {
              "color": "#C8D4E3"
             },
             "line": {
              "color": "white"
             }
            },
            "type": "table"
           }
          ]
         },
         "layout": {
          "annotationdefaults": {
           "arrowcolor": "#2a3f5f",
           "arrowhead": 0,
           "arrowwidth": 1
          },
          "autotypenumbers": "strict",
          "coloraxis": {
           "colorbar": {
            "outlinewidth": 0,
            "ticks": ""
           }
          },
          "colorscale": {
           "diverging": [
            [
             0,
             "#8e0152"
            ],
            [
             0.1,
             "#c51b7d"
            ],
            [
             0.2,
             "#de77ae"
            ],
            [
             0.3,
             "#f1b6da"
            ],
            [
             0.4,
             "#fde0ef"
            ],
            [
             0.5,
             "#f7f7f7"
            ],
            [
             0.6,
             "#e6f5d0"
            ],
            [
             0.7,
             "#b8e186"
            ],
            [
             0.8,
             "#7fbc41"
            ],
            [
             0.9,
             "#4d9221"
            ],
            [
             1,
             "#276419"
            ]
           ],
           "sequential": [
            [
             0,
             "#0d0887"
            ],
            [
             0.1111111111111111,
             "#46039f"
            ],
            [
             0.2222222222222222,
             "#7201a8"
            ],
            [
             0.3333333333333333,
             "#9c179e"
            ],
            [
             0.4444444444444444,
             "#bd3786"
            ],
            [
             0.5555555555555556,
             "#d8576b"
            ],
            [
             0.6666666666666666,
             "#ed7953"
            ],
            [
             0.7777777777777778,
             "#fb9f3a"
            ],
            [
             0.8888888888888888,
             "#fdca26"
            ],
            [
             1,
             "#f0f921"
            ]
           ],
           "sequentialminus": [
            [
             0,
             "#0d0887"
            ],
            [
             0.1111111111111111,
             "#46039f"
            ],
            [
             0.2222222222222222,
             "#7201a8"
            ],
            [
             0.3333333333333333,
             "#9c179e"
            ],
            [
             0.4444444444444444,
             "#bd3786"
            ],
            [
             0.5555555555555556,
             "#d8576b"
            ],
            [
             0.6666666666666666,
             "#ed7953"
            ],
            [
             0.7777777777777778,
             "#fb9f3a"
            ],
            [
             0.8888888888888888,
             "#fdca26"
            ],
            [
             1,
             "#f0f921"
            ]
           ]
          },
          "colorway": [
           "#636efa",
           "#EF553B",
           "#00cc96",
           "#ab63fa",
           "#FFA15A",
           "#19d3f3",
           "#FF6692",
           "#B6E880",
           "#FF97FF",
           "#FECB52"
          ],
          "font": {
           "color": "#2a3f5f"
          },
          "geo": {
           "bgcolor": "white",
           "lakecolor": "white",
           "landcolor": "#E5ECF6",
           "showlakes": true,
           "showland": true,
           "subunitcolor": "white"
          },
          "hoverlabel": {
           "align": "left"
          },
          "hovermode": "closest",
          "mapbox": {
           "style": "light"
          },
          "paper_bgcolor": "white",
          "plot_bgcolor": "#E5ECF6",
          "polar": {
           "angularaxis": {
            "gridcolor": "white",
            "linecolor": "white",
            "ticks": ""
           },
           "bgcolor": "#E5ECF6",
           "radialaxis": {
            "gridcolor": "white",
            "linecolor": "white",
            "ticks": ""
           }
          },
          "scene": {
           "xaxis": {
            "backgroundcolor": "#E5ECF6",
            "gridcolor": "white",
            "gridwidth": 2,
            "linecolor": "white",
            "showbackground": true,
            "ticks": "",
            "zerolinecolor": "white"
           },
           "yaxis": {
            "backgroundcolor": "#E5ECF6",
            "gridcolor": "white",
            "gridwidth": 2,
            "linecolor": "white",
            "showbackground": true,
            "ticks": "",
            "zerolinecolor": "white"
           },
           "zaxis": {
            "backgroundcolor": "#E5ECF6",
            "gridcolor": "white",
            "gridwidth": 2,
            "linecolor": "white",
            "showbackground": true,
            "ticks": "",
            "zerolinecolor": "white"
           }
          },
          "shapedefaults": {
           "line": {
            "color": "#2a3f5f"
           }
          },
          "ternary": {
           "aaxis": {
            "gridcolor": "white",
            "linecolor": "white",
            "ticks": ""
           },
           "baxis": {
            "gridcolor": "white",
            "linecolor": "white",
            "ticks": ""
           },
           "bgcolor": "#E5ECF6",
           "caxis": {
            "gridcolor": "white",
            "linecolor": "white",
            "ticks": ""
           }
          },
          "title": {
           "x": 0.05
          },
          "xaxis": {
           "automargin": true,
           "gridcolor": "white",
           "linecolor": "white",
           "ticks": "",
           "title": {
            "standoff": 15
           },
           "zerolinecolor": "white",
           "zerolinewidth": 2
          },
          "yaxis": {
           "automargin": true,
           "gridcolor": "white",
           "linecolor": "white",
           "ticks": "",
           "title": {
            "standoff": 15
           },
           "zerolinecolor": "white",
           "zerolinewidth": 2
          }
         }
        },
        "title": {
         "text": "Events Funnel by Number of Users"
        }
       }
      },
      "text/html": [
       "<div>                            <div id=\"888ab500-6f1e-4928-9751-ab3f58781131\" class=\"plotly-graph-div\" style=\"height:525px; width:100%;\"></div>            <script type=\"text/javascript\">                require([\"plotly\"], function(Plotly) {                    window.PLOTLYENV=window.PLOTLYENV || {};                                    if (document.getElementById(\"888ab500-6f1e-4928-9751-ab3f58781131\")) {                    Plotly.newPlot(                        \"888ab500-6f1e-4928-9751-ab3f58781131\",                        [{\"textinfo\":\"label+value+percent initial\",\"x\":[7419,4593,3734,3539],\"y\":[\"MainScreenAppear\",\"OffersScreenAppear\",\"CartScreenAppear\",\"PaymentScreenSuccessful\"],\"type\":\"funnel\"}],                        {\"template\":{\"data\":{\"bar\":[{\"error_x\":{\"color\":\"#2a3f5f\"},\"error_y\":{\"color\":\"#2a3f5f\"},\"marker\":{\"line\":{\"color\":\"#E5ECF6\",\"width\":0.5},\"pattern\":{\"fillmode\":\"overlay\",\"size\":10,\"solidity\":0.2}},\"type\":\"bar\"}],\"barpolar\":[{\"marker\":{\"line\":{\"color\":\"#E5ECF6\",\"width\":0.5},\"pattern\":{\"fillmode\":\"overlay\",\"size\":10,\"solidity\":0.2}},\"type\":\"barpolar\"}],\"carpet\":[{\"aaxis\":{\"endlinecolor\":\"#2a3f5f\",\"gridcolor\":\"white\",\"linecolor\":\"white\",\"minorgridcolor\":\"white\",\"startlinecolor\":\"#2a3f5f\"},\"baxis\":{\"endlinecolor\":\"#2a3f5f\",\"gridcolor\":\"white\",\"linecolor\":\"white\",\"minorgridcolor\":\"white\",\"startlinecolor\":\"#2a3f5f\"},\"type\":\"carpet\"}],\"choropleth\":[{\"colorbar\":{\"outlinewidth\":0,\"ticks\":\"\"},\"type\":\"choropleth\"}],\"contour\":[{\"colorbar\":{\"outlinewidth\":0,\"ticks\":\"\"},\"colorscale\":[[0.0,\"#0d0887\"],[0.1111111111111111,\"#46039f\"],[0.2222222222222222,\"#7201a8\"],[0.3333333333333333,\"#9c179e\"],[0.4444444444444444,\"#bd3786\"],[0.5555555555555556,\"#d8576b\"],[0.6666666666666666,\"#ed7953\"],[0.7777777777777778,\"#fb9f3a\"],[0.8888888888888888,\"#fdca26\"],[1.0,\"#f0f921\"]],\"type\":\"contour\"}],\"contourcarpet\":[{\"colorbar\":{\"outlinewidth\":0,\"ticks\":\"\"},\"type\":\"contourcarpet\"}],\"heatmap\":[{\"colorbar\":{\"outlinewidth\":0,\"ticks\":\"\"},\"colorscale\":[[0.0,\"#0d0887\"],[0.1111111111111111,\"#46039f\"],[0.2222222222222222,\"#7201a8\"],[0.3333333333333333,\"#9c179e\"],[0.4444444444444444,\"#bd3786\"],[0.5555555555555556,\"#d8576b\"],[0.6666666666666666,\"#ed7953\"],[0.7777777777777778,\"#fb9f3a\"],[0.8888888888888888,\"#fdca26\"],[1.0,\"#f0f921\"]],\"type\":\"heatmap\"}],\"heatmapgl\":[{\"colorbar\":{\"outlinewidth\":0,\"ticks\":\"\"},\"colorscale\":[[0.0,\"#0d0887\"],[0.1111111111111111,\"#46039f\"],[0.2222222222222222,\"#7201a8\"],[0.3333333333333333,\"#9c179e\"],[0.4444444444444444,\"#bd3786\"],[0.5555555555555556,\"#d8576b\"],[0.6666666666666666,\"#ed7953\"],[0.7777777777777778,\"#fb9f3a\"],[0.8888888888888888,\"#fdca26\"],[1.0,\"#f0f921\"]],\"type\":\"heatmapgl\"}],\"histogram\":[{\"marker\":{\"pattern\":{\"fillmode\":\"overlay\",\"size\":10,\"solidity\":0.2}},\"type\":\"histogram\"}],\"histogram2d\":[{\"colorbar\":{\"outlinewidth\":0,\"ticks\":\"\"},\"colorscale\":[[0.0,\"#0d0887\"],[0.1111111111111111,\"#46039f\"],[0.2222222222222222,\"#7201a8\"],[0.3333333333333333,\"#9c179e\"],[0.4444444444444444,\"#bd3786\"],[0.5555555555555556,\"#d8576b\"],[0.6666666666666666,\"#ed7953\"],[0.7777777777777778,\"#fb9f3a\"],[0.8888888888888888,\"#fdca26\"],[1.0,\"#f0f921\"]],\"type\":\"histogram2d\"}],\"histogram2dcontour\":[{\"colorbar\":{\"outlinewidth\":0,\"ticks\":\"\"},\"colorscale\":[[0.0,\"#0d0887\"],[0.1111111111111111,\"#46039f\"],[0.2222222222222222,\"#7201a8\"],[0.3333333333333333,\"#9c179e\"],[0.4444444444444444,\"#bd3786\"],[0.5555555555555556,\"#d8576b\"],[0.6666666666666666,\"#ed7953\"],[0.7777777777777778,\"#fb9f3a\"],[0.8888888888888888,\"#fdca26\"],[1.0,\"#f0f921\"]],\"type\":\"histogram2dcontour\"}],\"mesh3d\":[{\"colorbar\":{\"outlinewidth\":0,\"ticks\":\"\"},\"type\":\"mesh3d\"}],\"parcoords\":[{\"line\":{\"colorbar\":{\"outlinewidth\":0,\"ticks\":\"\"}},\"type\":\"parcoords\"}],\"pie\":[{\"automargin\":true,\"type\":\"pie\"}],\"scatter\":[{\"marker\":{\"colorbar\":{\"outlinewidth\":0,\"ticks\":\"\"}},\"type\":\"scatter\"}],\"scatter3d\":[{\"line\":{\"colorbar\":{\"outlinewidth\":0,\"ticks\":\"\"}},\"marker\":{\"colorbar\":{\"outlinewidth\":0,\"ticks\":\"\"}},\"type\":\"scatter3d\"}],\"scattercarpet\":[{\"marker\":{\"colorbar\":{\"outlinewidth\":0,\"ticks\":\"\"}},\"type\":\"scattercarpet\"}],\"scattergeo\":[{\"marker\":{\"colorbar\":{\"outlinewidth\":0,\"ticks\":\"\"}},\"type\":\"scattergeo\"}],\"scattergl\":[{\"marker\":{\"colorbar\":{\"outlinewidth\":0,\"ticks\":\"\"}},\"type\":\"scattergl\"}],\"scattermapbox\":[{\"marker\":{\"colorbar\":{\"outlinewidth\":0,\"ticks\":\"\"}},\"type\":\"scattermapbox\"}],\"scatterpolar\":[{\"marker\":{\"colorbar\":{\"outlinewidth\":0,\"ticks\":\"\"}},\"type\":\"scatterpolar\"}],\"scatterpolargl\":[{\"marker\":{\"colorbar\":{\"outlinewidth\":0,\"ticks\":\"\"}},\"type\":\"scatterpolargl\"}],\"scatterternary\":[{\"marker\":{\"colorbar\":{\"outlinewidth\":0,\"ticks\":\"\"}},\"type\":\"scatterternary\"}],\"surface\":[{\"colorbar\":{\"outlinewidth\":0,\"ticks\":\"\"},\"colorscale\":[[0.0,\"#0d0887\"],[0.1111111111111111,\"#46039f\"],[0.2222222222222222,\"#7201a8\"],[0.3333333333333333,\"#9c179e\"],[0.4444444444444444,\"#bd3786\"],[0.5555555555555556,\"#d8576b\"],[0.6666666666666666,\"#ed7953\"],[0.7777777777777778,\"#fb9f3a\"],[0.8888888888888888,\"#fdca26\"],[1.0,\"#f0f921\"]],\"type\":\"surface\"}],\"table\":[{\"cells\":{\"fill\":{\"color\":\"#EBF0F8\"},\"line\":{\"color\":\"white\"}},\"header\":{\"fill\":{\"color\":\"#C8D4E3\"},\"line\":{\"color\":\"white\"}},\"type\":\"table\"}]},\"layout\":{\"annotationdefaults\":{\"arrowcolor\":\"#2a3f5f\",\"arrowhead\":0,\"arrowwidth\":1},\"autotypenumbers\":\"strict\",\"coloraxis\":{\"colorbar\":{\"outlinewidth\":0,\"ticks\":\"\"}},\"colorscale\":{\"diverging\":[[0,\"#8e0152\"],[0.1,\"#c51b7d\"],[0.2,\"#de77ae\"],[0.3,\"#f1b6da\"],[0.4,\"#fde0ef\"],[0.5,\"#f7f7f7\"],[0.6,\"#e6f5d0\"],[0.7,\"#b8e186\"],[0.8,\"#7fbc41\"],[0.9,\"#4d9221\"],[1,\"#276419\"]],\"sequential\":[[0.0,\"#0d0887\"],[0.1111111111111111,\"#46039f\"],[0.2222222222222222,\"#7201a8\"],[0.3333333333333333,\"#9c179e\"],[0.4444444444444444,\"#bd3786\"],[0.5555555555555556,\"#d8576b\"],[0.6666666666666666,\"#ed7953\"],[0.7777777777777778,\"#fb9f3a\"],[0.8888888888888888,\"#fdca26\"],[1.0,\"#f0f921\"]],\"sequentialminus\":[[0.0,\"#0d0887\"],[0.1111111111111111,\"#46039f\"],[0.2222222222222222,\"#7201a8\"],[0.3333333333333333,\"#9c179e\"],[0.4444444444444444,\"#bd3786\"],[0.5555555555555556,\"#d8576b\"],[0.6666666666666666,\"#ed7953\"],[0.7777777777777778,\"#fb9f3a\"],[0.8888888888888888,\"#fdca26\"],[1.0,\"#f0f921\"]]},\"colorway\":[\"#636efa\",\"#EF553B\",\"#00cc96\",\"#ab63fa\",\"#FFA15A\",\"#19d3f3\",\"#FF6692\",\"#B6E880\",\"#FF97FF\",\"#FECB52\"],\"font\":{\"color\":\"#2a3f5f\"},\"geo\":{\"bgcolor\":\"white\",\"lakecolor\":\"white\",\"landcolor\":\"#E5ECF6\",\"showlakes\":true,\"showland\":true,\"subunitcolor\":\"white\"},\"hoverlabel\":{\"align\":\"left\"},\"hovermode\":\"closest\",\"mapbox\":{\"style\":\"light\"},\"paper_bgcolor\":\"white\",\"plot_bgcolor\":\"#E5ECF6\",\"polar\":{\"angularaxis\":{\"gridcolor\":\"white\",\"linecolor\":\"white\",\"ticks\":\"\"},\"bgcolor\":\"#E5ECF6\",\"radialaxis\":{\"gridcolor\":\"white\",\"linecolor\":\"white\",\"ticks\":\"\"}},\"scene\":{\"xaxis\":{\"backgroundcolor\":\"#E5ECF6\",\"gridcolor\":\"white\",\"gridwidth\":2,\"linecolor\":\"white\",\"showbackground\":true,\"ticks\":\"\",\"zerolinecolor\":\"white\"},\"yaxis\":{\"backgroundcolor\":\"#E5ECF6\",\"gridcolor\":\"white\",\"gridwidth\":2,\"linecolor\":\"white\",\"showbackground\":true,\"ticks\":\"\",\"zerolinecolor\":\"white\"},\"zaxis\":{\"backgroundcolor\":\"#E5ECF6\",\"gridcolor\":\"white\",\"gridwidth\":2,\"linecolor\":\"white\",\"showbackground\":true,\"ticks\":\"\",\"zerolinecolor\":\"white\"}},\"shapedefaults\":{\"line\":{\"color\":\"#2a3f5f\"}},\"ternary\":{\"aaxis\":{\"gridcolor\":\"white\",\"linecolor\":\"white\",\"ticks\":\"\"},\"baxis\":{\"gridcolor\":\"white\",\"linecolor\":\"white\",\"ticks\":\"\"},\"bgcolor\":\"#E5ECF6\",\"caxis\":{\"gridcolor\":\"white\",\"linecolor\":\"white\",\"ticks\":\"\"}},\"title\":{\"x\":0.05},\"xaxis\":{\"automargin\":true,\"gridcolor\":\"white\",\"linecolor\":\"white\",\"ticks\":\"\",\"title\":{\"standoff\":15},\"zerolinecolor\":\"white\",\"zerolinewidth\":2},\"yaxis\":{\"automargin\":true,\"gridcolor\":\"white\",\"linecolor\":\"white\",\"ticks\":\"\",\"title\":{\"standoff\":15},\"zerolinecolor\":\"white\",\"zerolinewidth\":2}}},\"title\":{\"text\":\"Events Funnel by Number of Users\"}},                        {\"responsive\": true}                    ).then(function(){\n",
       "                            \n",
       "var gd = document.getElementById('888ab500-6f1e-4928-9751-ab3f58781131');\n",
       "var x = new MutationObserver(function (mutations, observer) {{\n",
       "        var display = window.getComputedStyle(gd).display;\n",
       "        if (!display || display === 'none') {{\n",
       "            console.log([gd, 'removed!']);\n",
       "            Plotly.purge(gd);\n",
       "            observer.disconnect();\n",
       "        }}\n",
       "}});\n",
       "\n",
       "// Listen for the removal of the full notebook cells\n",
       "var notebookContainer = gd.closest('#notebook-container');\n",
       "if (notebookContainer) {{\n",
       "    x.observe(notebookContainer, {childList: true});\n",
       "}}\n",
       "\n",
       "// Listen for the clearing of the current output cell\n",
       "var outputEl = gd.closest('.output');\n",
       "if (outputEl) {{\n",
       "    x.observe(outputEl, {childList: true});\n",
       "}}\n",
       "\n",
       "                        })                };                });            </script>        </div>"
      ]
     },
     "metadata": {},
     "output_type": "display_data"
    }
   ],
   "source": [
    "fig = go.Figure(go.Funnel(\n",
    "    y = event_funnel[\"event_name\"],\n",
    "    x = event_funnel['unique_users'], textinfo = \"label+value+percent initial\"))\n",
    "fig.update_layout(title='Events Funnel by Number of Users')\n",
    "fig.show()"
   ]
  },
  {
   "cell_type": "markdown",
   "metadata": {},
   "source": [
    "48% of initial users  make the entire journey from their first event to payment"
   ]
  },
  {
   "cell_type": "markdown",
   "metadata": {},
   "source": [
    "Let's calculate the share of users that proceeds from event to event"
   ]
  },
  {
   "cell_type": "code",
   "execution_count": 83,
   "metadata": {},
   "outputs": [],
   "source": [
    "share=[100]\n",
    "for j in range(1,len(event_funnel['unique_users'])):\n",
    "    share.append(int(round(event_funnel['unique_users'][j]/event_funnel['unique_users'][j-1]*100)))"
   ]
  },
  {
   "cell_type": "code",
   "execution_count": 84,
   "metadata": {},
   "outputs": [
    {
     "data": {
      "text/plain": [
       "[100, 62, 81, 95]"
      ]
     },
     "execution_count": 84,
     "metadata": {},
     "output_type": "execute_result"
    }
   ],
   "source": [
    "share"
   ]
  },
  {
   "cell_type": "code",
   "execution_count": 85,
   "metadata": {},
   "outputs": [
    {
     "data": {
      "text/html": [
       "<div>\n",
       "<style scoped>\n",
       "    .dataframe tbody tr th:only-of-type {\n",
       "        vertical-align: middle;\n",
       "    }\n",
       "\n",
       "    .dataframe tbody tr th {\n",
       "        vertical-align: top;\n",
       "    }\n",
       "\n",
       "    .dataframe thead th {\n",
       "        text-align: right;\n",
       "    }\n",
       "</style>\n",
       "<table border=\"1\" class=\"dataframe\">\n",
       "  <thead>\n",
       "    <tr style=\"text-align: right;\">\n",
       "      <th></th>\n",
       "      <th>index</th>\n",
       "      <th>event_name</th>\n",
       "      <th>unique_users</th>\n",
       "      <th>user_prop%</th>\n",
       "      <th>share_that_proceeds%</th>\n",
       "    </tr>\n",
       "  </thead>\n",
       "  <tbody>\n",
       "    <tr>\n",
       "      <th>0</th>\n",
       "      <td>1</td>\n",
       "      <td>MainScreenAppear</td>\n",
       "      <td>7419</td>\n",
       "      <td>98.5</td>\n",
       "      <td>100</td>\n",
       "    </tr>\n",
       "    <tr>\n",
       "      <th>1</th>\n",
       "      <td>2</td>\n",
       "      <td>OffersScreenAppear</td>\n",
       "      <td>4593</td>\n",
       "      <td>61.0</td>\n",
       "      <td>62</td>\n",
       "    </tr>\n",
       "    <tr>\n",
       "      <th>2</th>\n",
       "      <td>0</td>\n",
       "      <td>CartScreenAppear</td>\n",
       "      <td>3734</td>\n",
       "      <td>49.6</td>\n",
       "      <td>81</td>\n",
       "    </tr>\n",
       "    <tr>\n",
       "      <th>3</th>\n",
       "      <td>3</td>\n",
       "      <td>PaymentScreenSuccessful</td>\n",
       "      <td>3539</td>\n",
       "      <td>47.0</td>\n",
       "      <td>95</td>\n",
       "    </tr>\n",
       "  </tbody>\n",
       "</table>\n",
       "</div>"
      ],
      "text/plain": [
       "   index               event_name  unique_users  user_prop%  \\\n",
       "0      1         MainScreenAppear          7419        98.5   \n",
       "1      2       OffersScreenAppear          4593        61.0   \n",
       "2      0         CartScreenAppear          3734        49.6   \n",
       "3      3  PaymentScreenSuccessful          3539        47.0   \n",
       "\n",
       "   share_that_proceeds%  \n",
       "0                   100  \n",
       "1                    62  \n",
       "2                    81  \n",
       "3                    95  "
      ]
     },
     "execution_count": 85,
     "metadata": {},
     "output_type": "execute_result"
    }
   ],
   "source": [
    "event_funnel['share_that_proceeds%'] = share\n",
    "event_funnel"
   ]
  },
  {
   "cell_type": "markdown",
   "metadata": {},
   "source": [
    "Intemediate conslusion:\n",
    "\n",
    "    - 48% of initial users  make the entire journey from their first event to payment;\n",
    "    - Most users (38%) are lost between the Main Screen and the Offers Screen stages;\n",
    "    - Almost all of the users who make it to the Cart stage, proceed to the Payment stage."
   ]
  },
  {
   "cell_type": "markdown",
   "metadata": {},
   "source": [
    "### Studying the results of the experiment"
   ]
  },
  {
   "cell_type": "markdown",
   "metadata": {},
   "source": [
    "We need to reveal the following:\n",
    "- The number of users in each group;\n",
    "- Find their share of users in each group who performed each action;\n",
    "- Determine wether the groups were split properly;\n",
    "- Check whether the difference between the groups is statistically significant;\n",
    "- Compare the results with the combined results for the control groups.\n"
   ]
  },
  {
   "cell_type": "markdown",
   "metadata": {},
   "source": [
    "#### Let's take a look at the number of people in each test group"
   ]
  },
  {
   "cell_type": "code",
   "execution_count": 86,
   "metadata": {},
   "outputs": [
    {
     "data": {
      "text/plain": [
       "test_n\n",
       "246    2484\n",
       "247    2513\n",
       "248    2537\n",
       "Name: user_id, dtype: int64"
      ]
     },
     "execution_count": 86,
     "metadata": {},
     "output_type": "execute_result"
    }
   ],
   "source": [
    "data_by_test = data_new.groupby(['test_n'])['user_id'].nunique()\n",
    "data_by_test"
   ]
  },
  {
   "cell_type": "code",
   "execution_count": 107,
   "metadata": {},
   "outputs": [],
   "source": [
    "control_group246 = data_new[data_new['test_n'] == '246']\n",
    "control_group247 = data_new[data_new['test_n'] == '247']\n",
    "control_group248 = data_new[data_new['test_n'] == '248']"
   ]
  },
  {
   "cell_type": "markdown",
   "metadata": {},
   "source": [
    "#### Let's find the frequencies of each event for every test group and share of users that made it through at each stage for every group."
   ]
  },
  {
   "cell_type": "code",
   "execution_count": 108,
   "metadata": {},
   "outputs": [],
   "source": [
    "control_group246_grouped = control_group246.groupby([\"event_name\"])['user_id'].nunique().reset_index()\n",
    "control_group246_grouped = control_group246_grouped.rename(columns={'user_id':'unique_users'}).sort_values(by='unique_users', ascending=False)"
   ]
  },
  {
   "cell_type": "code",
   "execution_count": 109,
   "metadata": {},
   "outputs": [],
   "source": [
    "control_group246_grouped['user_prop%'] = ((control_group246_grouped['unique_users']) / (control_group246['user_id'].nunique())*100).round(1)\n",
    "control_group246_grouped = control_group246_grouped.reset_index()"
   ]
  },
  {
   "cell_type": "code",
   "execution_count": 110,
   "metadata": {},
   "outputs": [],
   "source": [
    "control_group247_grouped = control_group247.groupby([\"event_name\"])['user_id'].nunique().reset_index()\n",
    "control_group247_grouped = control_group247_grouped.rename(columns={'user_id':'unique_users'}).sort_values(by='unique_users', ascending=False)"
   ]
  },
  {
   "cell_type": "code",
   "execution_count": 111,
   "metadata": {},
   "outputs": [],
   "source": [
    "control_group247_grouped['user_prop%'] = ((control_group247_grouped['unique_users']) / (control_group247['user_id'].nunique())*100).round(1)\n",
    "control_group247_grouped = control_group247_grouped.reset_index()"
   ]
  },
  {
   "cell_type": "code",
   "execution_count": 112,
   "metadata": {
    "scrolled": true
   },
   "outputs": [],
   "source": [
    "control_group248_grouped = control_group248.groupby([\"event_name\"])['user_id'].nunique().reset_index()\n",
    "control_group248_grouped = control_group248_grouped.rename(columns={'user_id':'unique_users'}).sort_values(by='unique_users', ascending=False)"
   ]
  },
  {
   "cell_type": "code",
   "execution_count": 113,
   "metadata": {},
   "outputs": [],
   "source": [
    "control_group248_grouped['user_prop%'] = ((control_group248_grouped['unique_users']) / (control_group248['user_id'].nunique())*100).round(1)\n",
    "control_group248_grouped = control_group248_grouped.reset_index()"
   ]
  },
  {
   "cell_type": "markdown",
   "metadata": {},
   "source": [
    "Now we can check whether the difference between the groups is statistically significant"
   ]
  },
  {
   "cell_type": "markdown",
   "metadata": {},
   "source": [
    "Let's combine all tests' data into one table for better clarity"
   ]
  },
  {
   "cell_type": "code",
   "execution_count": 114,
   "metadata": {},
   "outputs": [
    {
     "data": {
      "text/html": [
       "<div>\n",
       "<style scoped>\n",
       "    .dataframe tbody tr th:only-of-type {\n",
       "        vertical-align: middle;\n",
       "    }\n",
       "\n",
       "    .dataframe tbody tr th {\n",
       "        vertical-align: top;\n",
       "    }\n",
       "\n",
       "    .dataframe thead th {\n",
       "        text-align: right;\n",
       "    }\n",
       "</style>\n",
       "<table border=\"1\" class=\"dataframe\">\n",
       "  <thead>\n",
       "    <tr style=\"text-align: right;\">\n",
       "      <th></th>\n",
       "      <th>unique_users_246</th>\n",
       "      <th>user_prop%_246</th>\n",
       "      <th>unique_users_247</th>\n",
       "      <th>user_prop%_y</th>\n",
       "      <th>event_name</th>\n",
       "      <th>unique_users_248</th>\n",
       "      <th>user_prop%_248</th>\n",
       "    </tr>\n",
       "  </thead>\n",
       "  <tbody>\n",
       "  </tbody>\n",
       "</table>\n",
       "</div>"
      ],
      "text/plain": [
       "Empty DataFrame\n",
       "Columns: [unique_users_246, user_prop%_246, unique_users_247, user_prop%_y, event_name, unique_users_248, user_prop%_248]\n",
       "Index: []"
      ]
     },
     "execution_count": 114,
     "metadata": {},
     "output_type": "execute_result"
    }
   ],
   "source": [
    "table1 = control_group246_grouped.merge(control_group247_grouped, on='event_name', how='left')\n",
    "all_tests = table1.merge(control_group248_grouped, on='event_name', how='left')\n",
    "all_tests = all_tests.rename(columns={'unique_users_x': 'unique_users_246', 'unique_users_y':'unique_users_247', 'unique_users': 'unique_users_248', \n",
    "                                      'user_prop%_x':'user_prop%_246', 'user_prop%_247':'user_prop%_247', 'user_prop%':'user_prop%_248'}).drop(columns=['index_x', 'index_y', 'index'])"
   ]
  },
  {
   "cell_type": "code",
   "execution_count": 116,
   "metadata": {},
   "outputs": [],
   "source": [
    "all_tests['control_groups_sum'] = all_tests['unique_users_246']+all_tests['unique_users_247']"
   ]
  },
  {
   "cell_type": "markdown",
   "metadata": {},
   "source": [
    "#### Let's compare proportions of changes in users in our groups "
   ]
  },
  {
   "cell_type": "markdown",
   "metadata": {},
   "source": [
    "Hereinafter, I use proportion equality testing.\n",
    "\n",
    "Null hypothesis: \"There is no reason to consider the proportions different\".\n",
    "\n",
    "Alternative hypothesis: \"There is a significant difference between the proportions\""
   ]
  },
  {
   "cell_type": "markdown",
   "metadata": {},
   "source": [
    "Let's set the significance level at 5% for now."
   ]
  },
  {
   "cell_type": "code",
   "execution_count": 97,
   "metadata": {},
   "outputs": [],
   "source": [
    "alpha = 0.05"
   ]
  },
  {
   "cell_type": "markdown",
   "metadata": {},
   "source": [
    "Let's make a pivot table with the groups events and unique users "
   ]
  },
  {
   "cell_type": "code",
   "execution_count": 98,
   "metadata": {},
   "outputs": [
    {
     "data": {
      "text/html": [
       "<div>\n",
       "<style scoped>\n",
       "    .dataframe tbody tr th:only-of-type {\n",
       "        vertical-align: middle;\n",
       "    }\n",
       "\n",
       "    .dataframe tbody tr th {\n",
       "        vertical-align: top;\n",
       "    }\n",
       "\n",
       "    .dataframe thead th {\n",
       "        text-align: right;\n",
       "    }\n",
       "</style>\n",
       "<table border=\"1\" class=\"dataframe\">\n",
       "  <thead>\n",
       "    <tr style=\"text-align: right;\">\n",
       "      <th>test_n</th>\n",
       "      <th>event_name</th>\n",
       "      <th>246</th>\n",
       "      <th>247</th>\n",
       "      <th>248</th>\n",
       "    </tr>\n",
       "  </thead>\n",
       "  <tbody>\n",
       "    <tr>\n",
       "      <th>0</th>\n",
       "      <td>CartScreenAppear</td>\n",
       "      <td>1266</td>\n",
       "      <td>1238</td>\n",
       "      <td>1230</td>\n",
       "    </tr>\n",
       "    <tr>\n",
       "      <th>1</th>\n",
       "      <td>MainScreenAppear</td>\n",
       "      <td>2450</td>\n",
       "      <td>2476</td>\n",
       "      <td>2493</td>\n",
       "    </tr>\n",
       "    <tr>\n",
       "      <th>2</th>\n",
       "      <td>OffersScreenAppear</td>\n",
       "      <td>1542</td>\n",
       "      <td>1520</td>\n",
       "      <td>1531</td>\n",
       "    </tr>\n",
       "    <tr>\n",
       "      <th>3</th>\n",
       "      <td>PaymentScreenSuccessful</td>\n",
       "      <td>1200</td>\n",
       "      <td>1158</td>\n",
       "      <td>1181</td>\n",
       "    </tr>\n",
       "    <tr>\n",
       "      <th>4</th>\n",
       "      <td>Tutorial</td>\n",
       "      <td>278</td>\n",
       "      <td>283</td>\n",
       "      <td>279</td>\n",
       "    </tr>\n",
       "  </tbody>\n",
       "</table>\n",
       "</div>"
      ],
      "text/plain": [
       "test_n               event_name   246   247   248\n",
       "0              CartScreenAppear  1266  1238  1230\n",
       "1              MainScreenAppear  2450  2476  2493\n",
       "2            OffersScreenAppear  1542  1520  1531\n",
       "3       PaymentScreenSuccessful  1200  1158  1181\n",
       "4                      Tutorial   278   283   279"
      ]
     },
     "execution_count": 98,
     "metadata": {},
     "output_type": "execute_result"
    }
   ],
   "source": [
    "pivot = data_new.pivot_table(index='event_name', values='user_id', columns='test_n', aggfunc=lambda x: x.nunique()).reset_index()\n",
    "pivot"
   ]
  },
  {
   "cell_type": "code",
   "execution_count": 99,
   "metadata": {},
   "outputs": [],
   "source": [
    "def check_hypothesis(group1,group2, event, alpha=0.05):\n",
    "    successes1=pivot[pivot.event_name==event][group1].iloc[0]\n",
    "    successes2=pivot[pivot.event_name==event][group2].iloc[0]\n",
    "    \n",
    "    trials1=data_new[data_new.test_n==group1]['user_id'].nunique()\n",
    "    trials2=data_new[data_new.test_n==group2]['user_id'].nunique()\n",
    "\n",
    "    \n",
    "\n",
    "    p1 = successes1/trials1\n",
    "\n",
    "    p2 = successes2/trials2\n",
    "\n",
    "    p_combined = (successes1 + successes2) / (trials1 + trials2)\n",
    "\n",
    "  \n",
    "    difference = p1 - p2\n",
    "    \n",
    "    \n",
    "    z_value = difference / mth.sqrt(p_combined * (1 - p_combined) * (1/trials1 + 1/trials2))\n",
    "\n",
    "  \n",
    "    distr = stats.norm(0, 1) \n",
    "\n",
    "\n",
    "    p_value = (1 - distr.cdf(abs(z_value))) * 2\n",
    "\n",
    "    print('p-value: ', p_value)\n",
    "\n",
    "    if (p_value < alpha):\n",
    "        print(\"Reject null-hypothesis for\",event, 'and groups',group1,group2)\n",
    "    else:\n",
    "        print(\"Fail to Reject null-hypothesis for\", event,'and groups',group1,group2) "
   ]
  },
  {
   "cell_type": "markdown",
   "metadata": {},
   "source": [
    "Let's check the function by comparing proportions between the first and the second control groups upon the Main Screen event"
   ]
  },
  {
   "cell_type": "code",
   "execution_count": 100,
   "metadata": {},
   "outputs": [
    {
     "name": "stdout",
     "output_type": "stream",
     "text": [
      "p-value:  0.7570597232046099\n",
      "Fail to Reject null-hypothesis for MainScreenAppear and groups 246 247\n"
     ]
    }
   ],
   "source": [
    "check_hypothesis(246,247, 'MainScreenAppear', alpha=0.05)"
   ]
  },
  {
   "cell_type": "markdown",
   "metadata": {},
   "source": [
    "Now we can make a loop to run the function comparing proportions between all corresponding events of two groups."
   ]
  },
  {
   "cell_type": "code",
   "execution_count": 101,
   "metadata": {},
   "outputs": [
    {
     "name": "stdout",
     "output_type": "stream",
     "text": [
      "p-value:  0.07842923237520116\n",
      "Fail to Reject null-hypothesis for CartScreenAppear and groups 246 248\n",
      "p-value:  0.2949721933554552\n",
      "Fail to Reject null-hypothesis for MainScreenAppear and groups 246 248\n",
      "p-value:  0.20836205402738917\n",
      "Fail to Reject null-hypothesis for OffersScreenAppear and groups 246 248\n",
      "p-value:  0.2122553275697796\n",
      "Fail to Reject null-hypothesis for PaymentScreenSuccessful and groups 246 248\n",
      "p-value:  0.8264294010087645\n",
      "Fail to Reject null-hypothesis for Tutorial and groups 246 248\n"
     ]
    }
   ],
   "source": [
    "for i in pivot.event_name.unique():\n",
    "    check_hypothesis(246,248, i, alpha=0.05)"
   ]
  },
  {
   "cell_type": "markdown",
   "metadata": {},
   "source": [
    "At all stages we failed to reject the null hypothesis. So, there is no reason to consider the proportions different between the control groups combined and the test group."
   ]
  },
  {
   "cell_type": "markdown",
   "metadata": {},
   "source": [
    "##### Intermediate conclusion:\n",
    "After running 16 tests, we failed to reject the null hypothesis. That could mean that there is no reason to consider the proportions different between the control groups and the test group, i.e. the new fonts had no impact on the funnel. "
   ]
  },
  {
   "cell_type": "markdown",
   "metadata": {},
   "source": [
    "##### Changing Significance Level"
   ]
  },
  {
   "cell_type": "markdown",
   "metadata": {},
   "source": [
    "If we change significance level to 0.1, we can see a rejection of null-hypothes (meaning that there is a significant difference between the proportions) at the CartScreenAppear stage when comparing the first control group with the test group (246 vs 248). \n",
    "However, raising significance level would mean that we allow higher probability of incorrectly rejecting the null hypothesis which might be the case here. So, I think we should stick to the alpha = 0.05."
   ]
  },
  {
   "cell_type": "markdown",
   "metadata": {},
   "source": [
    "### Conclusions"
   ]
  },
  {
   "cell_type": "markdown",
   "metadata": {},
   "source": [
    "- About 46-48% of users make it to the payment stage.\n",
    "- The greatest loss of users happens between the first (Main screen) and the second (Offer screen) stages.\n",
    "- Nearly all the users who make it to the Cart stage, proceed to payment.\n",
    "- New fonts do not seem to make any significant change at all of the funnel's levels."
   ]
  }
 ],
 "metadata": {
  "ExecuteTimeLog": [
   {
    "duration": 51,
    "start_time": "2022-04-24T12:44:40.146Z"
   },
   {
    "duration": 1426,
    "start_time": "2022-04-24T12:45:02.160Z"
   },
   {
    "duration": 282,
    "start_time": "2022-04-24T12:45:03.588Z"
   },
   {
    "duration": 334,
    "start_time": "2022-04-24T12:45:08.799Z"
   },
   {
    "duration": 7,
    "start_time": "2022-04-24T12:45:35.393Z"
   },
   {
    "duration": 6,
    "start_time": "2022-04-24T12:50:47.348Z"
   },
   {
    "duration": 11,
    "start_time": "2022-04-24T12:50:53.203Z"
   },
   {
    "duration": 106,
    "start_time": "2022-04-24T12:54:54.884Z"
   },
   {
    "duration": 3528,
    "start_time": "2022-04-24T12:55:00.602Z"
   },
   {
    "duration": 3203,
    "start_time": "2022-04-24T12:56:10.047Z"
   },
   {
    "duration": 323,
    "start_time": "2022-04-24T12:57:56.846Z"
   },
   {
    "duration": 595,
    "start_time": "2022-04-24T12:58:42.186Z"
   },
   {
    "duration": 415,
    "start_time": "2022-04-24T12:59:06.609Z"
   },
   {
    "duration": 432,
    "start_time": "2022-04-24T12:59:48.759Z"
   },
   {
    "duration": 456,
    "start_time": "2022-04-24T13:00:32.867Z"
   },
   {
    "duration": 410,
    "start_time": "2022-04-24T13:01:10.832Z"
   },
   {
    "duration": 316,
    "start_time": "2022-04-24T13:01:47.300Z"
   },
   {
    "duration": 343,
    "start_time": "2022-04-24T13:01:51.247Z"
   },
   {
    "duration": 359,
    "start_time": "2022-04-24T13:02:08.907Z"
   },
   {
    "duration": 401,
    "start_time": "2022-04-24T13:03:30.733Z"
   },
   {
    "duration": 18,
    "start_time": "2022-04-24T13:04:27.512Z"
   },
   {
    "duration": 3238,
    "start_time": "2022-04-24T13:05:32.737Z"
   },
   {
    "duration": 178,
    "start_time": "2022-04-24T13:06:01.868Z"
   },
   {
    "duration": 12,
    "start_time": "2022-04-24T13:06:52.044Z"
   },
   {
    "duration": 40,
    "start_time": "2022-04-24T13:07:50.229Z"
   },
   {
    "duration": 0,
    "start_time": "2022-04-24T13:08:00.564Z"
   },
   {
    "duration": 3221,
    "start_time": "2022-04-24T13:08:26.287Z"
   },
   {
    "duration": 3792,
    "start_time": "2022-04-24T13:08:40.152Z"
   },
   {
    "duration": 3194,
    "start_time": "2022-04-24T13:08:45.649Z"
   },
   {
    "duration": 1347,
    "start_time": "2022-04-24T13:09:23.621Z"
   },
   {
    "duration": 297,
    "start_time": "2022-04-24T13:09:24.970Z"
   },
   {
    "duration": 7,
    "start_time": "2022-04-24T13:09:25.268Z"
   },
   {
    "duration": 141,
    "start_time": "2022-04-24T13:09:25.277Z"
   },
   {
    "duration": 49,
    "start_time": "2022-04-24T13:09:25.419Z"
   },
   {
    "duration": 136,
    "start_time": "2022-04-24T13:09:25.470Z"
   },
   {
    "duration": 545,
    "start_time": "2022-04-24T13:11:45.435Z"
   },
   {
    "duration": 575,
    "start_time": "2022-04-24T13:12:18.721Z"
   },
   {
    "duration": 445,
    "start_time": "2022-04-24T13:12:29.944Z"
   },
   {
    "duration": 510,
    "start_time": "2022-04-24T13:13:02.653Z"
   },
   {
    "duration": 572,
    "start_time": "2022-04-24T13:14:33.025Z"
   },
   {
    "duration": 458,
    "start_time": "2022-04-24T13:17:02.609Z"
   },
   {
    "duration": 210,
    "start_time": "2022-04-24T13:17:25.136Z"
   },
   {
    "duration": 462,
    "start_time": "2022-04-24T13:19:26.045Z"
   },
   {
    "duration": 1329,
    "start_time": "2022-04-24T13:20:58.753Z"
   },
   {
    "duration": 314,
    "start_time": "2022-04-24T13:21:00.084Z"
   },
   {
    "duration": 7,
    "start_time": "2022-04-24T13:21:00.400Z"
   },
   {
    "duration": 157,
    "start_time": "2022-04-24T13:21:00.409Z"
   },
   {
    "duration": 206,
    "start_time": "2022-04-24T13:21:00.567Z"
   },
   {
    "duration": 0,
    "start_time": "2022-04-24T13:21:00.775Z"
   },
   {
    "duration": 0,
    "start_time": "2022-04-24T13:21:00.779Z"
   },
   {
    "duration": 210,
    "start_time": "2022-04-24T13:21:21.434Z"
   },
   {
    "duration": 683,
    "start_time": "2022-04-24T13:24:02.610Z"
   },
   {
    "duration": 3476,
    "start_time": "2022-04-24T13:24:18.169Z"
   },
   {
    "duration": 844,
    "start_time": "2022-04-24T13:24:33.959Z"
   },
   {
    "duration": 1175,
    "start_time": "2022-04-24T13:24:48.583Z"
   },
   {
    "duration": 12,
    "start_time": "2022-04-24T14:14:29.649Z"
   },
   {
    "duration": 129,
    "start_time": "2022-04-24T14:14:54.875Z"
   },
   {
    "duration": 10,
    "start_time": "2022-04-24T14:17:12.775Z"
   },
   {
    "duration": 10,
    "start_time": "2022-04-24T14:19:29.011Z"
   },
   {
    "duration": 159,
    "start_time": "2022-04-24T14:19:57.271Z"
   },
   {
    "duration": 1713,
    "start_time": "2022-04-24T14:22:10.647Z"
   },
   {
    "duration": 12,
    "start_time": "2022-04-24T14:27:15.568Z"
   },
   {
    "duration": 238,
    "start_time": "2022-04-24T14:28:25.538Z"
   },
   {
    "duration": 338,
    "start_time": "2022-04-24T14:28:35.459Z"
   },
   {
    "duration": 3420,
    "start_time": "2022-04-24T14:30:31.265Z"
   },
   {
    "duration": 3395,
    "start_time": "2022-04-24T14:30:37.112Z"
   },
   {
    "duration": 1228,
    "start_time": "2022-04-24T14:30:54.078Z"
   },
   {
    "duration": 273,
    "start_time": "2022-04-24T14:30:55.308Z"
   },
   {
    "duration": 6,
    "start_time": "2022-04-24T14:30:55.583Z"
   },
   {
    "duration": 137,
    "start_time": "2022-04-24T14:30:55.591Z"
   },
   {
    "duration": 791,
    "start_time": "2022-04-24T14:30:55.730Z"
   },
   {
    "duration": 151,
    "start_time": "2022-04-24T14:30:56.523Z"
   },
   {
    "duration": 11,
    "start_time": "2022-04-24T14:30:56.676Z"
   },
   {
    "duration": 101,
    "start_time": "2022-04-24T14:30:56.690Z"
   },
   {
    "duration": 318,
    "start_time": "2022-04-24T14:30:56.793Z"
   },
   {
    "duration": 3370,
    "start_time": "2022-04-24T14:30:57.113Z"
   },
   {
    "duration": 8,
    "start_time": "2022-04-24T14:35:10.705Z"
   },
   {
    "duration": 317,
    "start_time": "2022-04-24T14:35:16.075Z"
   },
   {
    "duration": 8,
    "start_time": "2022-04-24T14:35:19.494Z"
   },
   {
    "duration": 9,
    "start_time": "2022-04-24T14:38:47.360Z"
   },
   {
    "duration": 19,
    "start_time": "2022-04-24T14:39:22.754Z"
   },
   {
    "duration": 1617,
    "start_time": "2022-04-24T14:41:48.213Z"
   },
   {
    "duration": 17,
    "start_time": "2022-04-24T14:48:15.488Z"
   },
   {
    "duration": 20,
    "start_time": "2022-04-24T14:48:47.632Z"
   },
   {
    "duration": 21,
    "start_time": "2022-04-24T14:50:14.909Z"
   },
   {
    "duration": 43,
    "start_time": "2022-04-24T14:50:21.470Z"
   },
   {
    "duration": 1245,
    "start_time": "2022-04-24T14:51:48.797Z"
   },
   {
    "duration": 273,
    "start_time": "2022-04-24T14:51:50.044Z"
   },
   {
    "duration": 5,
    "start_time": "2022-04-24T14:51:50.322Z"
   },
   {
    "duration": 11,
    "start_time": "2022-04-24T14:51:50.329Z"
   },
   {
    "duration": 772,
    "start_time": "2022-04-24T14:51:50.341Z"
   },
   {
    "duration": 142,
    "start_time": "2022-04-24T14:51:51.115Z"
   },
   {
    "duration": 10,
    "start_time": "2022-04-24T14:51:51.260Z"
   },
   {
    "duration": 111,
    "start_time": "2022-04-24T14:51:51.272Z"
   },
   {
    "duration": 305,
    "start_time": "2022-04-24T14:51:51.385Z"
   },
   {
    "duration": 112,
    "start_time": "2022-04-24T14:51:51.693Z"
   },
   {
    "duration": 0,
    "start_time": "2022-04-24T14:51:51.807Z"
   },
   {
    "duration": 530,
    "start_time": "2022-04-24T14:53:49.352Z"
   },
   {
    "duration": 19,
    "start_time": "2022-04-24T14:54:58.791Z"
   },
   {
    "duration": 36,
    "start_time": "2022-04-24T14:55:58.691Z"
   },
   {
    "duration": 17,
    "start_time": "2022-04-24T14:56:01.520Z"
   },
   {
    "duration": 18,
    "start_time": "2022-04-24T14:57:23.787Z"
   },
   {
    "duration": 17,
    "start_time": "2022-04-24T14:59:46.321Z"
   },
   {
    "duration": 4,
    "start_time": "2022-04-24T15:01:19.788Z"
   },
   {
    "duration": 5,
    "start_time": "2022-04-24T15:01:28.766Z"
   },
   {
    "duration": 11,
    "start_time": "2022-04-24T15:02:20.891Z"
   },
   {
    "duration": 17,
    "start_time": "2022-04-24T15:02:48.132Z"
   },
   {
    "duration": 16,
    "start_time": "2022-04-24T15:06:35.627Z"
   },
   {
    "duration": 1181,
    "start_time": "2022-04-24T15:11:51.707Z"
   },
   {
    "duration": 269,
    "start_time": "2022-04-24T15:11:52.890Z"
   },
   {
    "duration": 6,
    "start_time": "2022-04-24T15:11:53.160Z"
   },
   {
    "duration": 134,
    "start_time": "2022-04-24T15:11:53.167Z"
   },
   {
    "duration": 765,
    "start_time": "2022-04-24T15:11:53.303Z"
   },
   {
    "duration": 129,
    "start_time": "2022-04-24T15:11:54.069Z"
   },
   {
    "duration": 9,
    "start_time": "2022-04-24T15:11:54.200Z"
   },
   {
    "duration": 82,
    "start_time": "2022-04-24T15:11:54.223Z"
   },
   {
    "duration": 290,
    "start_time": "2022-04-24T15:11:54.323Z"
   },
   {
    "duration": 112,
    "start_time": "2022-04-24T15:11:54.615Z"
   },
   {
    "duration": 1487,
    "start_time": "2022-04-25T11:41:59.301Z"
   },
   {
    "duration": 307,
    "start_time": "2022-04-25T11:42:00.790Z"
   },
   {
    "duration": 9,
    "start_time": "2022-04-25T11:42:01.100Z"
   },
   {
    "duration": 23,
    "start_time": "2022-04-25T11:42:01.112Z"
   },
   {
    "duration": 741,
    "start_time": "2022-04-25T11:42:01.137Z"
   },
   {
    "duration": 123,
    "start_time": "2022-04-25T11:42:01.880Z"
   },
   {
    "duration": 13,
    "start_time": "2022-04-25T11:42:02.005Z"
   },
   {
    "duration": 98,
    "start_time": "2022-04-25T11:42:02.020Z"
   },
   {
    "duration": 418,
    "start_time": "2022-04-25T11:42:02.120Z"
   },
   {
    "duration": 134,
    "start_time": "2022-04-25T11:42:02.541Z"
   },
   {
    "duration": 5,
    "start_time": "2022-04-25T11:44:02.837Z"
   },
   {
    "duration": 294,
    "start_time": "2022-04-25T11:44:03.299Z"
   },
   {
    "duration": 7,
    "start_time": "2022-04-25T11:44:03.595Z"
   },
   {
    "duration": 2401,
    "start_time": "2022-04-25T11:44:05.224Z"
   },
   {
    "duration": 0,
    "start_time": "2022-04-25T11:44:07.627Z"
   },
   {
    "duration": 0,
    "start_time": "2022-04-25T11:44:07.628Z"
   },
   {
    "duration": 22,
    "start_time": "2022-04-25T11:44:07.891Z"
   },
   {
    "duration": 1178,
    "start_time": "2022-04-25T11:44:21.803Z"
   },
   {
    "duration": 288,
    "start_time": "2022-04-25T11:44:22.984Z"
   },
   {
    "duration": 6,
    "start_time": "2022-04-25T11:44:23.274Z"
   },
   {
    "duration": 2290,
    "start_time": "2022-04-25T11:44:23.282Z"
   },
   {
    "duration": 0,
    "start_time": "2022-04-25T11:44:25.573Z"
   },
   {
    "duration": 0,
    "start_time": "2022-04-25T11:44:25.574Z"
   },
   {
    "duration": 0,
    "start_time": "2022-04-25T11:44:25.576Z"
   },
   {
    "duration": 0,
    "start_time": "2022-04-25T11:44:25.576Z"
   },
   {
    "duration": 0,
    "start_time": "2022-04-25T11:44:25.577Z"
   },
   {
    "duration": 0,
    "start_time": "2022-04-25T11:44:25.578Z"
   },
   {
    "duration": 2437,
    "start_time": "2022-04-25T11:44:39.217Z"
   },
   {
    "duration": 728,
    "start_time": "2022-04-25T11:44:57.165Z"
   },
   {
    "duration": 96,
    "start_time": "2022-04-25T11:45:09.681Z"
   },
   {
    "duration": 11,
    "start_time": "2022-04-25T11:45:11.201Z"
   },
   {
    "duration": 76,
    "start_time": "2022-04-25T11:45:12.051Z"
   },
   {
    "duration": 388,
    "start_time": "2022-04-25T11:45:13.658Z"
   },
   {
    "duration": 18,
    "start_time": "2022-04-25T11:45:16.578Z"
   },
   {
    "duration": 21,
    "start_time": "2022-04-25T11:46:04.543Z"
   },
   {
    "duration": 20,
    "start_time": "2022-04-25T11:49:12.353Z"
   },
   {
    "duration": 19,
    "start_time": "2022-04-25T11:49:36.338Z"
   },
   {
    "duration": 1191,
    "start_time": "2022-04-25T11:52:25.979Z"
   },
   {
    "duration": 279,
    "start_time": "2022-04-25T11:52:27.172Z"
   },
   {
    "duration": 6,
    "start_time": "2022-04-25T11:52:27.453Z"
   },
   {
    "duration": 772,
    "start_time": "2022-04-25T11:52:27.460Z"
   },
   {
    "duration": 134,
    "start_time": "2022-04-25T11:52:28.235Z"
   },
   {
    "duration": 23,
    "start_time": "2022-04-25T11:52:28.371Z"
   },
   {
    "duration": 97,
    "start_time": "2022-04-25T11:52:28.396Z"
   },
   {
    "duration": 329,
    "start_time": "2022-04-25T11:52:28.495Z"
   },
   {
    "duration": 116,
    "start_time": "2022-04-25T11:52:28.826Z"
   },
   {
    "duration": 0,
    "start_time": "2022-04-25T11:52:28.943Z"
   },
   {
    "duration": 1236,
    "start_time": "2022-04-25T11:54:05.487Z"
   },
   {
    "duration": 288,
    "start_time": "2022-04-25T11:54:06.725Z"
   },
   {
    "duration": 6,
    "start_time": "2022-04-25T11:54:07.015Z"
   },
   {
    "duration": 811,
    "start_time": "2022-04-25T11:54:08.765Z"
   },
   {
    "duration": 128,
    "start_time": "2022-04-25T11:54:11.352Z"
   },
   {
    "duration": 211,
    "start_time": "2022-04-25T11:54:12.243Z"
   },
   {
    "duration": 11,
    "start_time": "2022-04-25T11:54:14.122Z"
   },
   {
    "duration": 85,
    "start_time": "2022-04-25T11:54:16.294Z"
   },
   {
    "duration": 323,
    "start_time": "2022-04-25T11:54:17.648Z"
   },
   {
    "duration": 1231,
    "start_time": "2022-04-25T11:54:46.756Z"
   },
   {
    "duration": 283,
    "start_time": "2022-04-25T11:54:47.989Z"
   },
   {
    "duration": 6,
    "start_time": "2022-04-25T11:54:48.274Z"
   },
   {
    "duration": 795,
    "start_time": "2022-04-25T11:54:49.439Z"
   },
   {
    "duration": 123,
    "start_time": "2022-04-25T11:54:54.783Z"
   },
   {
    "duration": 236,
    "start_time": "2022-04-25T11:54:55.696Z"
   },
   {
    "duration": 12,
    "start_time": "2022-04-25T11:55:03.464Z"
   },
   {
    "duration": 2752,
    "start_time": "2022-04-25T11:55:14.629Z"
   },
   {
    "duration": 1347,
    "start_time": "2022-04-25T11:55:25.984Z"
   },
   {
    "duration": 305,
    "start_time": "2022-04-25T11:55:27.333Z"
   },
   {
    "duration": 7,
    "start_time": "2022-04-25T11:55:27.640Z"
   },
   {
    "duration": 809,
    "start_time": "2022-04-25T11:55:27.650Z"
   },
   {
    "duration": 140,
    "start_time": "2022-04-25T11:55:28.461Z"
   },
   {
    "duration": 267,
    "start_time": "2022-04-25T11:55:28.604Z"
   },
   {
    "duration": 24,
    "start_time": "2022-04-25T11:55:28.873Z"
   },
   {
    "duration": 72,
    "start_time": "2022-04-25T11:55:28.900Z"
   },
   {
    "duration": 250,
    "start_time": "2022-04-25T11:55:28.974Z"
   },
   {
    "duration": 767,
    "start_time": "2022-04-25T11:55:29.226Z"
   },
   {
    "duration": 1195,
    "start_time": "2022-04-25T11:56:42.122Z"
   },
   {
    "duration": 274,
    "start_time": "2022-04-25T11:56:43.319Z"
   },
   {
    "duration": 7,
    "start_time": "2022-04-25T11:56:43.596Z"
   },
   {
    "duration": 735,
    "start_time": "2022-04-25T11:56:44.412Z"
   },
   {
    "duration": 119,
    "start_time": "2022-04-25T11:56:45.149Z"
   },
   {
    "duration": 255,
    "start_time": "2022-04-25T11:56:45.270Z"
   },
   {
    "duration": 804,
    "start_time": "2022-04-25T11:56:46.130Z"
   },
   {
    "duration": 0,
    "start_time": "2022-04-25T11:56:46.936Z"
   },
   {
    "duration": 12,
    "start_time": "2022-04-25T11:57:00.495Z"
   },
   {
    "duration": 744,
    "start_time": "2022-04-25T11:57:13.466Z"
   },
   {
    "duration": 273,
    "start_time": "2022-04-25T11:58:22.803Z"
   },
   {
    "duration": 12,
    "start_time": "2022-04-25T12:00:12.073Z"
   },
   {
    "duration": 1327,
    "start_time": "2022-04-25T12:06:03.067Z"
   },
   {
    "duration": 298,
    "start_time": "2022-04-25T12:06:04.444Z"
   },
   {
    "duration": 7,
    "start_time": "2022-04-25T12:06:05.485Z"
   },
   {
    "duration": 728,
    "start_time": "2022-04-25T12:06:07.609Z"
   },
   {
    "duration": 122,
    "start_time": "2022-04-25T12:06:08.472Z"
   },
   {
    "duration": 230,
    "start_time": "2022-04-25T12:06:08.905Z"
   },
   {
    "duration": 12,
    "start_time": "2022-04-25T12:06:09.446Z"
   },
   {
    "duration": 107,
    "start_time": "2022-04-25T12:06:09.696Z"
   },
   {
    "duration": 778,
    "start_time": "2022-04-25T12:06:10.110Z"
   },
   {
    "duration": 13,
    "start_time": "2022-04-25T12:06:54.508Z"
   },
   {
    "duration": 12,
    "start_time": "2022-04-25T12:07:45.912Z"
   },
   {
    "duration": 15,
    "start_time": "2022-04-25T12:08:48.167Z"
   },
   {
    "duration": 1209,
    "start_time": "2022-04-25T12:11:16.371Z"
   },
   {
    "duration": 278,
    "start_time": "2022-04-25T12:11:17.582Z"
   },
   {
    "duration": 7,
    "start_time": "2022-04-25T12:11:17.862Z"
   },
   {
    "duration": 722,
    "start_time": "2022-04-25T12:11:18.304Z"
   },
   {
    "duration": 107,
    "start_time": "2022-04-25T12:11:19.086Z"
   },
   {
    "duration": 235,
    "start_time": "2022-04-25T12:11:19.486Z"
   },
   {
    "duration": 112,
    "start_time": "2022-04-25T12:11:19.908Z"
   },
   {
    "duration": 144,
    "start_time": "2022-04-25T12:11:20.332Z"
   },
   {
    "duration": 79,
    "start_time": "2022-04-25T12:11:57.692Z"
   },
   {
    "duration": 85,
    "start_time": "2022-04-25T12:13:02.913Z"
   },
   {
    "duration": 13,
    "start_time": "2022-04-25T12:13:08.622Z"
   },
   {
    "duration": 987,
    "start_time": "2022-04-25T12:13:11.554Z"
   },
   {
    "duration": 292,
    "start_time": "2022-04-25T12:13:16.033Z"
   },
   {
    "duration": 315,
    "start_time": "2022-04-25T12:26:05.204Z"
   },
   {
    "duration": 1194,
    "start_time": "2022-04-25T12:28:09.685Z"
   },
   {
    "duration": 277,
    "start_time": "2022-04-25T12:28:10.881Z"
   },
   {
    "duration": 6,
    "start_time": "2022-04-25T12:28:11.160Z"
   },
   {
    "duration": 729,
    "start_time": "2022-04-25T12:28:11.923Z"
   },
   {
    "duration": 115,
    "start_time": "2022-04-25T12:28:12.655Z"
   },
   {
    "duration": 231,
    "start_time": "2022-04-25T12:28:12.851Z"
   },
   {
    "duration": 77,
    "start_time": "2022-04-25T12:28:13.321Z"
   },
   {
    "duration": 12,
    "start_time": "2022-04-25T12:28:13.824Z"
   },
   {
    "duration": 983,
    "start_time": "2022-04-25T12:28:14.297Z"
   },
   {
    "duration": 98,
    "start_time": "2022-04-25T12:28:15.282Z"
   },
   {
    "duration": 311,
    "start_time": "2022-04-25T12:28:15.555Z"
   },
   {
    "duration": 72,
    "start_time": "2022-04-25T12:30:12.206Z"
   },
   {
    "duration": 112,
    "start_time": "2022-04-25T12:32:13.926Z"
   },
   {
    "duration": 37,
    "start_time": "2022-04-25T12:32:21.234Z"
   },
   {
    "duration": 24,
    "start_time": "2022-04-25T12:32:38.262Z"
   },
   {
    "duration": 81,
    "start_time": "2022-04-25T12:35:51.642Z"
   },
   {
    "duration": 62,
    "start_time": "2022-04-25T12:36:52.627Z"
   },
   {
    "duration": 68,
    "start_time": "2022-04-25T12:37:05.219Z"
   },
   {
    "duration": 64,
    "start_time": "2022-04-25T12:37:16.373Z"
   },
   {
    "duration": 60,
    "start_time": "2022-04-25T12:37:31.933Z"
   },
   {
    "duration": 60,
    "start_time": "2022-04-25T12:37:46.724Z"
   },
   {
    "duration": 54,
    "start_time": "2022-04-25T12:39:03.816Z"
   },
   {
    "duration": 22,
    "start_time": "2022-04-25T12:39:16.813Z"
   },
   {
    "duration": 46,
    "start_time": "2022-04-25T12:39:21.561Z"
   },
   {
    "duration": 26,
    "start_time": "2022-04-25T12:39:50.573Z"
   },
   {
    "duration": 26,
    "start_time": "2022-04-25T12:40:00.805Z"
   },
   {
    "duration": 9,
    "start_time": "2022-04-25T12:48:45.641Z"
   },
   {
    "duration": 93,
    "start_time": "2022-04-25T12:51:01.894Z"
   },
   {
    "duration": 37,
    "start_time": "2022-04-25T12:51:07.143Z"
   },
   {
    "duration": 20,
    "start_time": "2022-04-25T12:51:36.985Z"
   },
   {
    "duration": 27,
    "start_time": "2022-04-25T12:53:06.388Z"
   },
   {
    "duration": 1279,
    "start_time": "2022-04-25T12:57:14.017Z"
   },
   {
    "duration": 282,
    "start_time": "2022-04-25T12:57:15.298Z"
   },
   {
    "duration": 11,
    "start_time": "2022-04-25T12:57:15.582Z"
   },
   {
    "duration": 761,
    "start_time": "2022-04-25T12:57:15.594Z"
   },
   {
    "duration": 114,
    "start_time": "2022-04-25T12:57:16.357Z"
   },
   {
    "duration": 229,
    "start_time": "2022-04-25T12:57:16.473Z"
   },
   {
    "duration": 90,
    "start_time": "2022-04-25T12:57:16.704Z"
   },
   {
    "duration": 12,
    "start_time": "2022-04-25T12:57:16.796Z"
   },
   {
    "duration": 211,
    "start_time": "2022-04-25T12:57:16.810Z"
   },
   {
    "duration": 88,
    "start_time": "2022-04-25T12:57:17.023Z"
   },
   {
    "duration": 313,
    "start_time": "2022-04-25T12:57:17.112Z"
   },
   {
    "duration": 26,
    "start_time": "2022-04-25T12:57:17.427Z"
   },
   {
    "duration": 87,
    "start_time": "2022-04-25T12:57:17.455Z"
   },
   {
    "duration": 100,
    "start_time": "2022-04-25T12:57:17.545Z"
   },
   {
    "duration": 24,
    "start_time": "2022-04-25T12:57:17.647Z"
   },
   {
    "duration": 39,
    "start_time": "2022-04-25T12:57:17.673Z"
   },
   {
    "duration": 134,
    "start_time": "2022-04-25T12:57:17.714Z"
   },
   {
    "duration": 27,
    "start_time": "2022-04-25T13:14:43.166Z"
   },
   {
    "duration": 19,
    "start_time": "2022-04-25T13:15:10.695Z"
   },
   {
    "duration": 29,
    "start_time": "2022-04-25T13:15:31.289Z"
   },
   {
    "duration": 412,
    "start_time": "2022-04-25T13:15:47.209Z"
   },
   {
    "duration": 20,
    "start_time": "2022-04-25T13:17:01.537Z"
   },
   {
    "duration": 4,
    "start_time": "2022-04-25T13:17:30.752Z"
   },
   {
    "duration": 338,
    "start_time": "2022-04-25T13:17:30.758Z"
   },
   {
    "duration": 7,
    "start_time": "2022-04-25T13:17:31.098Z"
   },
   {
    "duration": 853,
    "start_time": "2022-04-25T13:17:31.112Z"
   },
   {
    "duration": 99,
    "start_time": "2022-04-25T13:17:31.967Z"
   },
   {
    "duration": 249,
    "start_time": "2022-04-25T13:17:32.067Z"
   },
   {
    "duration": 97,
    "start_time": "2022-04-25T13:17:32.318Z"
   },
   {
    "duration": 17,
    "start_time": "2022-04-25T13:17:32.417Z"
   },
   {
    "duration": 209,
    "start_time": "2022-04-25T13:17:32.437Z"
   },
   {
    "duration": 89,
    "start_time": "2022-04-25T13:17:32.647Z"
   },
   {
    "duration": 336,
    "start_time": "2022-04-25T13:17:32.738Z"
   },
   {
    "duration": 39,
    "start_time": "2022-04-25T13:17:33.076Z"
   },
   {
    "duration": 77,
    "start_time": "2022-04-25T13:17:33.117Z"
   },
   {
    "duration": 100,
    "start_time": "2022-04-25T13:17:33.195Z"
   },
   {
    "duration": 29,
    "start_time": "2022-04-25T13:17:33.298Z"
   },
   {
    "duration": 29,
    "start_time": "2022-04-25T13:17:33.329Z"
   },
   {
    "duration": 279,
    "start_time": "2022-04-25T13:17:33.359Z"
   },
   {
    "duration": 5,
    "start_time": "2022-04-25T13:18:16.768Z"
   },
   {
    "duration": 339,
    "start_time": "2022-04-25T13:18:16.869Z"
   },
   {
    "duration": 7,
    "start_time": "2022-04-25T13:18:17.210Z"
   },
   {
    "duration": 1129,
    "start_time": "2022-04-25T13:18:18.666Z"
   },
   {
    "duration": 94,
    "start_time": "2022-04-25T13:18:20.479Z"
   },
   {
    "duration": 241,
    "start_time": "2022-04-25T13:18:22.373Z"
   },
   {
    "duration": 2884,
    "start_time": "2022-04-25T13:18:24.349Z"
   },
   {
    "duration": 125,
    "start_time": "2022-04-25T13:18:39.560Z"
   },
   {
    "duration": 197,
    "start_time": "2022-04-25T13:18:46.910Z"
   },
   {
    "duration": 119,
    "start_time": "2022-04-25T13:18:55.150Z"
   },
   {
    "duration": 13,
    "start_time": "2022-04-25T13:19:00.052Z"
   },
   {
    "duration": 142,
    "start_time": "2022-04-25T13:19:04.025Z"
   },
   {
    "duration": 83,
    "start_time": "2022-04-25T13:19:05.743Z"
   },
   {
    "duration": 342,
    "start_time": "2022-04-25T13:19:07.499Z"
   },
   {
    "duration": 26,
    "start_time": "2022-04-25T13:19:11.001Z"
   },
   {
    "duration": 72,
    "start_time": "2022-04-25T13:19:11.401Z"
   },
   {
    "duration": 95,
    "start_time": "2022-04-25T13:19:11.757Z"
   },
   {
    "duration": 10,
    "start_time": "2022-04-25T13:19:12.149Z"
   },
   {
    "duration": 247,
    "start_time": "2022-04-25T13:19:15.420Z"
   },
   {
    "duration": 30,
    "start_time": "2022-04-25T13:19:51.620Z"
   },
   {
    "duration": 246,
    "start_time": "2022-04-25T13:19:58.465Z"
   },
   {
    "duration": 301,
    "start_time": "2022-04-25T13:20:11.636Z"
   },
   {
    "duration": 282,
    "start_time": "2022-04-25T13:20:34.219Z"
   },
   {
    "duration": 287,
    "start_time": "2022-04-25T13:20:51.090Z"
   },
   {
    "duration": 291,
    "start_time": "2022-04-25T13:20:58.632Z"
   },
   {
    "duration": 313,
    "start_time": "2022-04-25T13:21:01.692Z"
   },
   {
    "duration": 291,
    "start_time": "2022-04-25T13:21:04.752Z"
   },
   {
    "duration": 13,
    "start_time": "2022-04-25T13:21:21.165Z"
   },
   {
    "duration": 271,
    "start_time": "2022-04-25T13:21:29.824Z"
   },
   {
    "duration": 19,
    "start_time": "2022-04-25T13:23:26.353Z"
   },
   {
    "duration": 26,
    "start_time": "2022-04-25T13:24:04.693Z"
   },
   {
    "duration": 337,
    "start_time": "2022-04-25T13:25:11.569Z"
   },
   {
    "duration": 283,
    "start_time": "2022-04-25T13:25:18.080Z"
   },
   {
    "duration": 303,
    "start_time": "2022-04-25T13:26:33.765Z"
   },
   {
    "duration": 285,
    "start_time": "2022-04-25T13:26:48.890Z"
   },
   {
    "duration": 311,
    "start_time": "2022-04-25T13:27:58.163Z"
   },
   {
    "duration": 296,
    "start_time": "2022-04-25T13:28:11.638Z"
   },
   {
    "duration": 255,
    "start_time": "2022-04-25T13:28:19.304Z"
   },
   {
    "duration": 395,
    "start_time": "2022-04-25T13:28:24.971Z"
   },
   {
    "duration": 310,
    "start_time": "2022-04-25T13:30:38.844Z"
   },
   {
    "duration": 323,
    "start_time": "2022-04-25T13:31:55.764Z"
   },
   {
    "duration": 309,
    "start_time": "2022-04-25T13:32:11.210Z"
   },
   {
    "duration": 529,
    "start_time": "2022-04-25T13:32:44.433Z"
   },
   {
    "duration": 22,
    "start_time": "2022-04-25T13:38:33.542Z"
   },
   {
    "duration": 19,
    "start_time": "2022-04-25T13:38:48.642Z"
   },
   {
    "duration": 9,
    "start_time": "2022-04-25T13:38:57.175Z"
   },
   {
    "duration": 18,
    "start_time": "2022-04-25T13:39:06.401Z"
   },
   {
    "duration": 86,
    "start_time": "2022-04-25T13:47:53.672Z"
   },
   {
    "duration": 126,
    "start_time": "2022-04-25T13:50:16.889Z"
   },
   {
    "duration": 577,
    "start_time": "2022-04-25T13:50:23.480Z"
   },
   {
    "duration": 585,
    "start_time": "2022-04-25T13:50:31.137Z"
   },
   {
    "duration": 558,
    "start_time": "2022-04-25T13:50:56.007Z"
   },
   {
    "duration": 76,
    "start_time": "2022-04-25T13:51:35.588Z"
   },
   {
    "duration": 74,
    "start_time": "2022-04-25T13:51:56.935Z"
   },
   {
    "duration": 1253,
    "start_time": "2022-04-25T13:52:11.504Z"
   },
   {
    "duration": 274,
    "start_time": "2022-04-25T13:52:12.759Z"
   },
   {
    "duration": 6,
    "start_time": "2022-04-25T13:52:13.034Z"
   },
   {
    "duration": 758,
    "start_time": "2022-04-25T13:52:14.084Z"
   },
   {
    "duration": 129,
    "start_time": "2022-04-25T13:52:14.843Z"
   },
   {
    "duration": 227,
    "start_time": "2022-04-25T13:52:14.974Z"
   },
   {
    "duration": 113,
    "start_time": "2022-04-25T13:52:15.387Z"
   },
   {
    "duration": 12,
    "start_time": "2022-04-25T13:52:16.507Z"
   },
   {
    "duration": 148,
    "start_time": "2022-04-25T13:52:16.521Z"
   },
   {
    "duration": 83,
    "start_time": "2022-04-25T13:52:16.671Z"
   },
   {
    "duration": 298,
    "start_time": "2022-04-25T13:52:16.768Z"
   },
   {
    "duration": 25,
    "start_time": "2022-04-25T13:52:18.339Z"
   },
   {
    "duration": 82,
    "start_time": "2022-04-25T13:52:19.415Z"
   },
   {
    "duration": 98,
    "start_time": "2022-04-25T13:52:20.995Z"
   },
   {
    "duration": 21,
    "start_time": "2022-04-25T13:52:21.919Z"
   },
   {
    "duration": 445,
    "start_time": "2022-04-25T13:52:22.968Z"
   },
   {
    "duration": 73,
    "start_time": "2022-04-25T13:52:31.633Z"
   },
   {
    "duration": 4,
    "start_time": "2022-04-25T14:03:14.061Z"
   },
   {
    "duration": 214,
    "start_time": "2022-04-25T14:03:17.620Z"
   },
   {
    "duration": 12,
    "start_time": "2022-04-25T14:03:25.293Z"
   },
   {
    "duration": 161,
    "start_time": "2022-04-25T14:03:48.652Z"
   },
   {
    "duration": 212,
    "start_time": "2022-04-25T14:03:59.441Z"
   },
   {
    "duration": 10,
    "start_time": "2022-04-25T14:04:06.577Z"
   },
   {
    "duration": 4,
    "start_time": "2022-04-25T14:05:26.500Z"
   },
   {
    "duration": 107,
    "start_time": "2022-04-25T14:05:38.229Z"
   },
   {
    "duration": 16,
    "start_time": "2022-04-25T14:05:54.797Z"
   },
   {
    "duration": 141,
    "start_time": "2022-04-25T14:05:59.703Z"
   },
   {
    "duration": 156,
    "start_time": "2022-04-25T14:06:07.630Z"
   },
   {
    "duration": 16,
    "start_time": "2022-04-25T14:06:17.438Z"
   },
   {
    "duration": 16,
    "start_time": "2022-04-25T14:07:17.275Z"
   },
   {
    "duration": 25,
    "start_time": "2022-04-25T14:07:24.070Z"
   },
   {
    "duration": 17,
    "start_time": "2022-04-25T14:07:29.242Z"
   },
   {
    "duration": 17,
    "start_time": "2022-04-25T14:07:43.012Z"
   },
   {
    "duration": 1707,
    "start_time": "2022-04-25T14:08:39.542Z"
   },
   {
    "duration": 391,
    "start_time": "2022-04-25T14:08:41.252Z"
   },
   {
    "duration": 8,
    "start_time": "2022-04-25T14:08:41.645Z"
   },
   {
    "duration": 1038,
    "start_time": "2022-04-25T14:08:42.036Z"
   },
   {
    "duration": 148,
    "start_time": "2022-04-25T14:08:43.077Z"
   },
   {
    "duration": 335,
    "start_time": "2022-04-25T14:08:43.226Z"
   },
   {
    "duration": 174,
    "start_time": "2022-04-25T14:08:43.563Z"
   },
   {
    "duration": 18,
    "start_time": "2022-04-25T14:08:43.740Z"
   },
   {
    "duration": 217,
    "start_time": "2022-04-25T14:08:43.795Z"
   },
   {
    "duration": 113,
    "start_time": "2022-04-25T14:08:44.015Z"
   },
   {
    "duration": 409,
    "start_time": "2022-04-25T14:08:44.186Z"
   },
   {
    "duration": 25,
    "start_time": "2022-04-25T14:08:44.802Z"
   },
   {
    "duration": 78,
    "start_time": "2022-04-25T14:08:45.191Z"
   },
   {
    "duration": 123,
    "start_time": "2022-04-25T14:08:45.570Z"
   },
   {
    "duration": 31,
    "start_time": "2022-04-25T14:08:45.983Z"
   },
   {
    "duration": 708,
    "start_time": "2022-04-25T14:08:46.503Z"
   },
   {
    "duration": 785,
    "start_time": "2022-04-25T14:08:47.213Z"
   },
   {
    "duration": 601,
    "start_time": "2022-04-25T14:09:36.071Z"
   },
   {
    "duration": 481,
    "start_time": "2022-04-25T14:09:47.985Z"
   },
   {
    "duration": 472,
    "start_time": "2022-04-25T14:09:52.109Z"
   },
   {
    "duration": 506,
    "start_time": "2022-04-25T14:09:59.974Z"
   },
   {
    "duration": 2660,
    "start_time": "2022-04-25T14:11:23.094Z"
   },
   {
    "duration": 15,
    "start_time": "2022-04-25T14:11:37.152Z"
   },
   {
    "duration": 196,
    "start_time": "2022-04-25T14:11:59.439Z"
   },
   {
    "duration": 145,
    "start_time": "2022-04-25T14:12:07.929Z"
   },
   {
    "duration": 15,
    "start_time": "2022-04-25T14:12:16.801Z"
   },
   {
    "duration": 14,
    "start_time": "2022-04-25T14:12:31.525Z"
   },
   {
    "duration": 3,
    "start_time": "2022-04-25T14:12:35.598Z"
   },
   {
    "duration": 14,
    "start_time": "2022-04-25T14:15:23.708Z"
   },
   {
    "duration": 1233,
    "start_time": "2022-04-25T14:15:37.106Z"
   },
   {
    "duration": 289,
    "start_time": "2022-04-25T14:15:38.341Z"
   },
   {
    "duration": 7,
    "start_time": "2022-04-25T14:15:38.631Z"
   },
   {
    "duration": 756,
    "start_time": "2022-04-25T14:15:39.510Z"
   },
   {
    "duration": 135,
    "start_time": "2022-04-25T14:15:40.268Z"
   },
   {
    "duration": 235,
    "start_time": "2022-04-25T14:15:40.448Z"
   },
   {
    "duration": 127,
    "start_time": "2022-04-25T14:15:41.034Z"
   },
   {
    "duration": 13,
    "start_time": "2022-04-25T14:15:41.478Z"
   },
   {
    "duration": 154,
    "start_time": "2022-04-25T14:15:41.885Z"
   },
   {
    "duration": 79,
    "start_time": "2022-04-25T14:15:42.112Z"
   },
   {
    "duration": 306,
    "start_time": "2022-04-25T14:15:42.535Z"
   },
   {
    "duration": 29,
    "start_time": "2022-04-25T14:15:44.679Z"
   },
   {
    "duration": 78,
    "start_time": "2022-04-25T14:15:45.807Z"
   },
   {
    "duration": 98,
    "start_time": "2022-04-25T14:15:46.807Z"
   },
   {
    "duration": 23,
    "start_time": "2022-04-25T14:15:47.588Z"
   },
   {
    "duration": 493,
    "start_time": "2022-04-25T14:15:48.814Z"
   },
   {
    "duration": 120,
    "start_time": "2022-04-25T14:15:51.700Z"
   },
   {
    "duration": 200,
    "start_time": "2022-04-25T14:16:56.758Z"
   },
   {
    "duration": 254,
    "start_time": "2022-04-25T14:17:20.638Z"
   },
   {
    "duration": 250,
    "start_time": "2022-04-25T14:17:24.166Z"
   },
   {
    "duration": 200,
    "start_time": "2022-04-25T14:17:29.404Z"
   },
   {
    "duration": 11,
    "start_time": "2022-04-25T14:18:47.719Z"
   },
   {
    "duration": 9,
    "start_time": "2022-04-25T14:18:53.181Z"
   },
   {
    "duration": 13,
    "start_time": "2022-04-25T14:18:58.062Z"
   },
   {
    "duration": 12,
    "start_time": "2022-04-25T14:19:11.994Z"
   },
   {
    "duration": 1255,
    "start_time": "2022-04-25T14:19:54.499Z"
   },
   {
    "duration": 293,
    "start_time": "2022-04-25T14:19:55.756Z"
   },
   {
    "duration": 6,
    "start_time": "2022-04-25T14:19:56.051Z"
   },
   {
    "duration": 758,
    "start_time": "2022-04-25T14:19:56.383Z"
   },
   {
    "duration": 125,
    "start_time": "2022-04-25T14:19:57.143Z"
   },
   {
    "duration": 229,
    "start_time": "2022-04-25T14:19:57.270Z"
   },
   {
    "duration": 116,
    "start_time": "2022-04-25T14:19:57.619Z"
   },
   {
    "duration": 12,
    "start_time": "2022-04-25T14:19:57.952Z"
   },
   {
    "duration": 189,
    "start_time": "2022-04-25T14:19:58.490Z"
   },
   {
    "duration": 88,
    "start_time": "2022-04-25T14:19:58.681Z"
   },
   {
    "duration": 317,
    "start_time": "2022-04-25T14:19:58.994Z"
   },
   {
    "duration": 25,
    "start_time": "2022-04-25T14:19:59.698Z"
   },
   {
    "duration": 82,
    "start_time": "2022-04-25T14:20:00.636Z"
   },
   {
    "duration": 96,
    "start_time": "2022-04-25T14:20:01.166Z"
   },
   {
    "duration": 27,
    "start_time": "2022-04-25T14:20:01.850Z"
   },
   {
    "duration": 514,
    "start_time": "2022-04-25T14:20:02.508Z"
   },
   {
    "duration": 116,
    "start_time": "2022-04-25T14:20:09.161Z"
   },
   {
    "duration": 13,
    "start_time": "2022-04-25T14:20:49.181Z"
   },
   {
    "duration": 14,
    "start_time": "2022-04-25T14:21:35.864Z"
   },
   {
    "duration": 10,
    "start_time": "2022-04-25T14:24:39.400Z"
   },
   {
    "duration": 12,
    "start_time": "2022-04-25T14:25:16.676Z"
   },
   {
    "duration": 4,
    "start_time": "2022-04-25T14:26:08.431Z"
   },
   {
    "duration": 23,
    "start_time": "2022-04-25T14:26:15.613Z"
   },
   {
    "duration": 14,
    "start_time": "2022-04-25T14:28:55.106Z"
   },
   {
    "duration": 15,
    "start_time": "2022-04-25T14:29:09.043Z"
   },
   {
    "duration": 13,
    "start_time": "2022-04-25T14:29:14.148Z"
   },
   {
    "duration": 3,
    "start_time": "2022-04-25T14:30:11.681Z"
   },
   {
    "duration": 479,
    "start_time": "2022-04-25T14:30:47.530Z"
   },
   {
    "duration": 467,
    "start_time": "2022-04-25T14:30:57.788Z"
   },
   {
    "duration": 489,
    "start_time": "2022-04-25T14:31:23.325Z"
   },
   {
    "duration": 13,
    "start_time": "2022-04-25T14:31:26.872Z"
   },
   {
    "duration": 21,
    "start_time": "2022-04-25T14:32:34.561Z"
   },
   {
    "duration": 12,
    "start_time": "2022-04-25T14:32:48.760Z"
   },
   {
    "duration": 13,
    "start_time": "2022-04-25T14:32:53.831Z"
   },
   {
    "duration": 6,
    "start_time": "2022-04-25T14:37:54.828Z"
   },
   {
    "duration": 13,
    "start_time": "2022-04-25T14:38:29.854Z"
   },
   {
    "duration": 13,
    "start_time": "2022-04-25T14:38:36.791Z"
   },
   {
    "duration": 13,
    "start_time": "2022-04-25T14:39:23.305Z"
   },
   {
    "duration": 1255,
    "start_time": "2022-04-25T14:39:48.001Z"
   },
   {
    "duration": 279,
    "start_time": "2022-04-25T14:39:49.258Z"
   },
   {
    "duration": 6,
    "start_time": "2022-04-25T14:39:49.538Z"
   },
   {
    "duration": 765,
    "start_time": "2022-04-25T14:39:50.658Z"
   },
   {
    "duration": 127,
    "start_time": "2022-04-25T14:39:51.425Z"
   },
   {
    "duration": 216,
    "start_time": "2022-04-25T14:39:51.822Z"
   },
   {
    "duration": 118,
    "start_time": "2022-04-25T14:39:52.297Z"
   },
   {
    "duration": 13,
    "start_time": "2022-04-25T14:39:52.623Z"
   },
   {
    "duration": 156,
    "start_time": "2022-04-25T14:39:52.913Z"
   },
   {
    "duration": 85,
    "start_time": "2022-04-25T14:39:53.071Z"
   },
   {
    "duration": 312,
    "start_time": "2022-04-25T14:39:53.294Z"
   },
   {
    "duration": 25,
    "start_time": "2022-04-25T14:39:54.751Z"
   },
   {
    "duration": 83,
    "start_time": "2022-04-25T14:39:55.215Z"
   },
   {
    "duration": 99,
    "start_time": "2022-04-25T14:39:56.553Z"
   },
   {
    "duration": 22,
    "start_time": "2022-04-25T14:39:58.700Z"
   },
   {
    "duration": 490,
    "start_time": "2022-04-25T14:40:00.891Z"
   },
   {
    "duration": 17,
    "start_time": "2022-04-25T14:40:01.392Z"
   },
   {
    "duration": 114,
    "start_time": "2022-04-25T14:40:04.106Z"
   },
   {
    "duration": 12,
    "start_time": "2022-04-25T14:40:25.270Z"
   },
   {
    "duration": 525,
    "start_time": "2022-04-25T14:42:37.546Z"
   },
   {
    "duration": 539,
    "start_time": "2022-04-25T14:42:40.921Z"
   },
   {
    "duration": 165,
    "start_time": "2022-04-25T14:43:37.445Z"
   },
   {
    "duration": 160,
    "start_time": "2022-04-25T14:43:41.019Z"
   },
   {
    "duration": 10,
    "start_time": "2022-04-25T14:43:49.521Z"
   },
   {
    "duration": 1373,
    "start_time": "2022-04-25T14:44:11.467Z"
   },
   {
    "duration": 396,
    "start_time": "2022-04-25T14:44:12.843Z"
   },
   {
    "duration": 9,
    "start_time": "2022-04-25T14:44:13.241Z"
   },
   {
    "duration": 826,
    "start_time": "2022-04-25T14:44:13.331Z"
   },
   {
    "duration": 141,
    "start_time": "2022-04-25T14:44:14.159Z"
   },
   {
    "duration": 338,
    "start_time": "2022-04-25T14:44:14.513Z"
   },
   {
    "duration": 193,
    "start_time": "2022-04-25T14:44:14.872Z"
   },
   {
    "duration": 25,
    "start_time": "2022-04-25T14:44:15.185Z"
   },
   {
    "duration": 229,
    "start_time": "2022-04-25T14:44:15.584Z"
   },
   {
    "duration": 91,
    "start_time": "2022-04-25T14:44:16.593Z"
   },
   {
    "duration": 327,
    "start_time": "2022-04-25T14:44:16.691Z"
   },
   {
    "duration": 26,
    "start_time": "2022-04-25T14:44:17.241Z"
   },
   {
    "duration": 88,
    "start_time": "2022-04-25T14:44:18.236Z"
   },
   {
    "duration": 102,
    "start_time": "2022-04-25T14:44:18.852Z"
   },
   {
    "duration": 21,
    "start_time": "2022-04-25T14:44:19.448Z"
   },
   {
    "duration": 498,
    "start_time": "2022-04-25T14:44:20.086Z"
   },
   {
    "duration": 20,
    "start_time": "2022-04-25T14:44:20.586Z"
   },
   {
    "duration": 124,
    "start_time": "2022-04-25T14:44:20.608Z"
   },
   {
    "duration": 0,
    "start_time": "2022-04-25T14:44:20.734Z"
   },
   {
    "duration": 10,
    "start_time": "2022-04-25T14:44:33.006Z"
   },
   {
    "duration": 25,
    "start_time": "2022-04-25T14:44:58.767Z"
   },
   {
    "duration": 4,
    "start_time": "2022-04-25T14:45:15.138Z"
   },
   {
    "duration": 730,
    "start_time": "2022-04-25T14:46:35.306Z"
   },
   {
    "duration": 531,
    "start_time": "2022-04-25T14:48:48.817Z"
   },
   {
    "duration": 495,
    "start_time": "2022-04-25T14:48:53.160Z"
   },
   {
    "duration": 128,
    "start_time": "2022-04-25T14:49:14.449Z"
   },
   {
    "duration": 11,
    "start_time": "2022-04-25T14:49:18.479Z"
   },
   {
    "duration": 513,
    "start_time": "2022-04-25T14:49:25.122Z"
   },
   {
    "duration": 3,
    "start_time": "2022-04-25T14:51:34.404Z"
   },
   {
    "duration": 15,
    "start_time": "2022-04-25T14:52:10.981Z"
   },
   {
    "duration": 12,
    "start_time": "2022-04-25T14:52:17.189Z"
   },
   {
    "duration": 13,
    "start_time": "2022-04-25T14:52:25.201Z"
   },
   {
    "duration": 141,
    "start_time": "2022-04-25T14:52:32.089Z"
   },
   {
    "duration": 12,
    "start_time": "2022-04-25T14:52:34.423Z"
   },
   {
    "duration": 15,
    "start_time": "2022-04-25T14:53:13.241Z"
   },
   {
    "duration": 1191,
    "start_time": "2022-04-25T14:53:32.106Z"
   },
   {
    "duration": 259,
    "start_time": "2022-04-25T14:53:33.299Z"
   },
   {
    "duration": 6,
    "start_time": "2022-04-25T14:53:33.559Z"
   },
   {
    "duration": 778,
    "start_time": "2022-04-25T14:53:33.566Z"
   },
   {
    "duration": 126,
    "start_time": "2022-04-25T14:53:34.346Z"
   },
   {
    "duration": 224,
    "start_time": "2022-04-25T14:53:34.474Z"
   },
   {
    "duration": 120,
    "start_time": "2022-04-25T14:53:34.700Z"
   },
   {
    "duration": 11,
    "start_time": "2022-04-25T14:53:34.822Z"
   },
   {
    "duration": 171,
    "start_time": "2022-04-25T14:53:34.835Z"
   },
   {
    "duration": 90,
    "start_time": "2022-04-25T14:53:35.008Z"
   },
   {
    "duration": 407,
    "start_time": "2022-04-25T14:53:35.256Z"
   },
   {
    "duration": 25,
    "start_time": "2022-04-25T14:53:35.952Z"
   },
   {
    "duration": 80,
    "start_time": "2022-04-25T14:53:36.388Z"
   },
   {
    "duration": 93,
    "start_time": "2022-04-25T14:54:14.896Z"
   },
   {
    "duration": 19,
    "start_time": "2022-04-25T14:54:15.434Z"
   },
   {
    "duration": 445,
    "start_time": "2022-04-25T14:54:15.884Z"
   },
   {
    "duration": 11,
    "start_time": "2022-04-25T14:54:16.727Z"
   },
   {
    "duration": 105,
    "start_time": "2022-04-25T14:54:16.740Z"
   },
   {
    "duration": 51,
    "start_time": "2022-04-25T14:54:18.315Z"
   },
   {
    "duration": 52,
    "start_time": "2022-04-25T14:55:03.097Z"
   },
   {
    "duration": 40,
    "start_time": "2022-04-25T14:55:34.302Z"
   },
   {
    "duration": 19,
    "start_time": "2022-04-25T14:59:30.171Z"
   },
   {
    "duration": 17,
    "start_time": "2022-04-25T15:04:19.757Z"
   },
   {
    "duration": 18,
    "start_time": "2022-04-25T15:04:37.428Z"
   },
   {
    "duration": 20,
    "start_time": "2022-04-25T15:07:44.911Z"
   },
   {
    "duration": 12,
    "start_time": "2022-04-25T15:08:30.696Z"
   },
   {
    "duration": 271,
    "start_time": "2022-04-25T15:08:31.358Z"
   },
   {
    "duration": 8,
    "start_time": "2022-04-25T15:08:31.637Z"
   },
   {
    "duration": 857,
    "start_time": "2022-04-25T15:08:32.783Z"
   },
   {
    "duration": 108,
    "start_time": "2022-04-25T15:08:33.642Z"
   },
   {
    "duration": 297,
    "start_time": "2022-04-25T15:08:33.752Z"
   },
   {
    "duration": 120,
    "start_time": "2022-04-25T15:08:34.051Z"
   },
   {
    "duration": 19,
    "start_time": "2022-04-25T15:08:34.173Z"
   },
   {
    "duration": 131,
    "start_time": "2022-04-25T15:08:34.522Z"
   },
   {
    "duration": 72,
    "start_time": "2022-04-25T15:08:34.933Z"
   },
   {
    "duration": 298,
    "start_time": "2022-04-25T15:08:35.449Z"
   },
   {
    "duration": 21,
    "start_time": "2022-04-25T15:08:36.675Z"
   },
   {
    "duration": 74,
    "start_time": "2022-04-25T15:08:37.468Z"
   },
   {
    "duration": 85,
    "start_time": "2022-04-25T15:08:38.213Z"
   },
   {
    "duration": 20,
    "start_time": "2022-04-25T15:08:38.876Z"
   },
   {
    "duration": 297,
    "start_time": "2022-04-25T15:08:40.229Z"
   },
   {
    "duration": 11,
    "start_time": "2022-04-25T15:08:45.929Z"
   },
   {
    "duration": 34,
    "start_time": "2022-04-25T15:08:53.398Z"
   },
   {
    "duration": 18,
    "start_time": "2022-04-25T15:08:55.414Z"
   },
   {
    "duration": 207,
    "start_time": "2022-04-25T15:10:32.333Z"
   },
   {
    "duration": 212,
    "start_time": "2022-04-25T15:10:45.653Z"
   },
   {
    "duration": 12,
    "start_time": "2022-04-25T15:11:06.156Z"
   },
   {
    "duration": 18,
    "start_time": "2022-04-25T15:11:45.930Z"
   },
   {
    "duration": 17,
    "start_time": "2022-04-25T15:11:50.364Z"
   },
   {
    "duration": 443,
    "start_time": "2022-04-25T15:12:04.088Z"
   },
   {
    "duration": 293,
    "start_time": "2022-04-25T15:12:17.704Z"
   },
   {
    "duration": 13,
    "start_time": "2022-04-25T15:12:41.686Z"
   },
   {
    "duration": 144,
    "start_time": "2022-04-25T15:12:53.786Z"
   },
   {
    "duration": 34,
    "start_time": "2022-04-25T15:13:01.829Z"
   },
   {
    "duration": 1219,
    "start_time": "2022-04-25T15:15:55.827Z"
   },
   {
    "duration": 278,
    "start_time": "2022-04-25T15:15:57.048Z"
   },
   {
    "duration": 7,
    "start_time": "2022-04-25T15:15:58.008Z"
   },
   {
    "duration": 799,
    "start_time": "2022-04-25T15:16:06.959Z"
   },
   {
    "duration": 164,
    "start_time": "2022-04-25T15:16:07.761Z"
   },
   {
    "duration": 209,
    "start_time": "2022-04-25T15:16:08.127Z"
   },
   {
    "duration": 111,
    "start_time": "2022-04-25T15:16:08.843Z"
   },
   {
    "duration": 13,
    "start_time": "2022-04-25T15:16:09.566Z"
   },
   {
    "duration": 149,
    "start_time": "2022-04-25T15:16:10.427Z"
   },
   {
    "duration": 82,
    "start_time": "2022-04-25T15:16:10.722Z"
   },
   {
    "duration": 305,
    "start_time": "2022-04-25T15:16:12.151Z"
   },
   {
    "duration": 36,
    "start_time": "2022-04-25T15:16:17.284Z"
   },
   {
    "duration": 117,
    "start_time": "2022-04-25T15:16:18.769Z"
   },
   {
    "duration": 99,
    "start_time": "2022-04-25T15:16:19.936Z"
   },
   {
    "duration": 21,
    "start_time": "2022-04-25T15:16:21.170Z"
   },
   {
    "duration": 447,
    "start_time": "2022-04-25T15:16:23.379Z"
   },
   {
    "duration": 11,
    "start_time": "2022-04-25T15:16:26.753Z"
   },
   {
    "duration": 39,
    "start_time": "2022-04-25T15:16:31.844Z"
   },
   {
    "duration": 11,
    "start_time": "2022-04-25T15:16:34.318Z"
   },
   {
    "duration": 1341,
    "start_time": "2022-04-25T15:18:15.698Z"
   },
   {
    "duration": 295,
    "start_time": "2022-04-25T15:18:17.041Z"
   },
   {
    "duration": 8,
    "start_time": "2022-04-25T15:18:17.338Z"
   },
   {
    "duration": 829,
    "start_time": "2022-04-25T15:18:17.348Z"
   },
   {
    "duration": 143,
    "start_time": "2022-04-25T15:18:18.179Z"
   },
   {
    "duration": 222,
    "start_time": "2022-04-25T15:18:18.324Z"
   },
   {
    "duration": 128,
    "start_time": "2022-04-25T15:18:18.548Z"
   },
   {
    "duration": 31,
    "start_time": "2022-04-25T15:18:18.678Z"
   },
   {
    "duration": 168,
    "start_time": "2022-04-25T15:18:18.711Z"
   },
   {
    "duration": 90,
    "start_time": "2022-04-25T15:18:18.881Z"
   },
   {
    "duration": 344,
    "start_time": "2022-04-25T15:18:18.972Z"
   },
   {
    "duration": 28,
    "start_time": "2022-04-25T15:18:19.318Z"
   },
   {
    "duration": 101,
    "start_time": "2022-04-25T15:18:19.348Z"
   },
   {
    "duration": 104,
    "start_time": "2022-04-25T15:18:19.452Z"
   },
   {
    "duration": 19,
    "start_time": "2022-04-25T15:18:19.558Z"
   },
   {
    "duration": 492,
    "start_time": "2022-04-25T15:18:19.579Z"
   },
   {
    "duration": 21,
    "start_time": "2022-04-25T15:18:20.072Z"
   },
   {
    "duration": 175,
    "start_time": "2022-04-25T15:18:20.095Z"
   },
   {
    "duration": 0,
    "start_time": "2022-04-25T15:18:20.271Z"
   },
   {
    "duration": 0,
    "start_time": "2022-04-25T15:18:20.272Z"
   },
   {
    "duration": 0,
    "start_time": "2022-04-25T15:18:20.273Z"
   },
   {
    "duration": 0,
    "start_time": "2022-04-25T15:18:20.274Z"
   },
   {
    "duration": 0,
    "start_time": "2022-04-25T15:18:20.275Z"
   },
   {
    "duration": 4,
    "start_time": "2022-04-25T15:19:16.078Z"
   },
   {
    "duration": 293,
    "start_time": "2022-04-25T15:19:16.639Z"
   },
   {
    "duration": 8,
    "start_time": "2022-04-25T15:19:17.119Z"
   },
   {
    "duration": 1021,
    "start_time": "2022-04-25T15:19:18.548Z"
   },
   {
    "duration": 118,
    "start_time": "2022-04-25T15:19:20.954Z"
   },
   {
    "duration": 234,
    "start_time": "2022-04-25T15:19:21.510Z"
   },
   {
    "duration": 145,
    "start_time": "2022-04-25T15:19:22.196Z"
   },
   {
    "duration": 12,
    "start_time": "2022-04-25T15:19:22.641Z"
   },
   {
    "duration": 148,
    "start_time": "2022-04-25T15:19:23.024Z"
   },
   {
    "duration": 81,
    "start_time": "2022-04-25T15:19:23.402Z"
   },
   {
    "duration": 335,
    "start_time": "2022-04-25T15:19:23.815Z"
   },
   {
    "duration": 30,
    "start_time": "2022-04-25T15:19:26.313Z"
   },
   {
    "duration": 80,
    "start_time": "2022-04-25T15:19:28.009Z"
   },
   {
    "duration": 124,
    "start_time": "2022-04-25T15:19:29.116Z"
   },
   {
    "duration": 30,
    "start_time": "2022-04-25T15:19:30.026Z"
   },
   {
    "duration": 356,
    "start_time": "2022-04-25T15:19:31.118Z"
   },
   {
    "duration": 17,
    "start_time": "2022-04-25T15:19:31.477Z"
   },
   {
    "duration": 18,
    "start_time": "2022-04-25T15:19:34.084Z"
   },
   {
    "duration": 717,
    "start_time": "2022-04-25T15:19:36.060Z"
   },
   {
    "duration": 1418,
    "start_time": "2022-04-25T15:19:58.993Z"
   },
   {
    "duration": 296,
    "start_time": "2022-04-25T15:20:00.413Z"
   },
   {
    "duration": 6,
    "start_time": "2022-04-25T15:20:00.711Z"
   },
   {
    "duration": 881,
    "start_time": "2022-04-25T15:20:00.719Z"
   },
   {
    "duration": 147,
    "start_time": "2022-04-25T15:20:01.602Z"
   },
   {
    "duration": 302,
    "start_time": "2022-04-25T15:20:01.751Z"
   },
   {
    "duration": 157,
    "start_time": "2022-04-25T15:20:02.054Z"
   },
   {
    "duration": 15,
    "start_time": "2022-04-25T15:20:02.214Z"
   },
   {
    "duration": 183,
    "start_time": "2022-04-25T15:20:02.230Z"
   },
   {
    "duration": 101,
    "start_time": "2022-04-25T15:20:02.415Z"
   },
   {
    "duration": 525,
    "start_time": "2022-04-25T15:20:02.518Z"
   },
   {
    "duration": 39,
    "start_time": "2022-04-25T15:20:03.219Z"
   },
   {
    "duration": 110,
    "start_time": "2022-04-25T15:20:03.652Z"
   },
   {
    "duration": 121,
    "start_time": "2022-04-25T15:20:04.063Z"
   },
   {
    "duration": 22,
    "start_time": "2022-04-25T15:20:04.906Z"
   },
   {
    "duration": 507,
    "start_time": "2022-04-25T15:20:05.890Z"
   },
   {
    "duration": 12,
    "start_time": "2022-04-25T15:20:06.399Z"
   },
   {
    "duration": 116,
    "start_time": "2022-04-25T15:20:06.609Z"
   },
   {
    "duration": 42,
    "start_time": "2022-04-25T15:20:10.158Z"
   },
   {
    "duration": 12,
    "start_time": "2022-04-25T15:20:11.132Z"
   },
   {
    "duration": 1248,
    "start_time": "2022-04-25T15:23:57.644Z"
   },
   {
    "duration": 292,
    "start_time": "2022-04-25T15:23:58.894Z"
   },
   {
    "duration": 9,
    "start_time": "2022-04-25T15:23:59.192Z"
   },
   {
    "duration": 846,
    "start_time": "2022-04-25T15:23:59.204Z"
   },
   {
    "duration": 142,
    "start_time": "2022-04-25T15:24:00.052Z"
   },
   {
    "duration": 261,
    "start_time": "2022-04-25T15:24:00.196Z"
   },
   {
    "duration": 127,
    "start_time": "2022-04-25T15:24:00.459Z"
   },
   {
    "duration": 20,
    "start_time": "2022-04-25T15:24:00.587Z"
   },
   {
    "duration": 172,
    "start_time": "2022-04-25T15:24:00.610Z"
   },
   {
    "duration": 82,
    "start_time": "2022-04-25T15:24:00.783Z"
   },
   {
    "duration": 356,
    "start_time": "2022-04-25T15:24:00.867Z"
   },
   {
    "duration": 31,
    "start_time": "2022-04-25T15:24:01.225Z"
   },
   {
    "duration": 102,
    "start_time": "2022-04-25T15:24:01.259Z"
   },
   {
    "duration": 112,
    "start_time": "2022-04-25T15:24:01.365Z"
   },
   {
    "duration": 36,
    "start_time": "2022-04-25T15:24:01.478Z"
   },
   {
    "duration": 533,
    "start_time": "2022-04-25T15:24:01.516Z"
   },
   {
    "duration": 12,
    "start_time": "2022-04-25T15:24:02.052Z"
   },
   {
    "duration": 126,
    "start_time": "2022-04-25T15:24:02.066Z"
   },
   {
    "duration": 0,
    "start_time": "2022-04-25T15:24:02.194Z"
   },
   {
    "duration": 0,
    "start_time": "2022-04-25T15:24:02.195Z"
   },
   {
    "duration": 0,
    "start_time": "2022-04-25T15:24:02.196Z"
   },
   {
    "duration": 0,
    "start_time": "2022-04-25T15:24:02.197Z"
   },
   {
    "duration": 43,
    "start_time": "2022-04-25T15:24:06.512Z"
   },
   {
    "duration": 11,
    "start_time": "2022-04-25T15:24:07.738Z"
   },
   {
    "duration": 25,
    "start_time": "2022-04-25T15:24:10.781Z"
   },
   {
    "duration": 25,
    "start_time": "2022-04-25T15:27:58.916Z"
   },
   {
    "duration": 19,
    "start_time": "2022-04-25T15:28:14.606Z"
   },
   {
    "duration": 1503,
    "start_time": "2022-04-25T15:39:01.168Z"
   },
   {
    "duration": 308,
    "start_time": "2022-04-25T15:39:02.673Z"
   },
   {
    "duration": 15,
    "start_time": "2022-04-25T15:39:02.982Z"
   },
   {
    "duration": 830,
    "start_time": "2022-04-25T15:39:03.000Z"
   },
   {
    "duration": 149,
    "start_time": "2022-04-25T15:39:03.833Z"
   },
   {
    "duration": 267,
    "start_time": "2022-04-25T15:39:03.984Z"
   },
   {
    "duration": 158,
    "start_time": "2022-04-25T15:39:04.253Z"
   },
   {
    "duration": 17,
    "start_time": "2022-04-25T15:39:04.413Z"
   },
   {
    "duration": 162,
    "start_time": "2022-04-25T15:39:04.641Z"
   },
   {
    "duration": 104,
    "start_time": "2022-04-25T15:39:04.807Z"
   },
   {
    "duration": 349,
    "start_time": "2022-04-25T15:39:05.731Z"
   },
   {
    "duration": 24,
    "start_time": "2022-04-25T15:39:08.645Z"
   },
   {
    "duration": 97,
    "start_time": "2022-04-25T15:39:10.249Z"
   },
   {
    "duration": 101,
    "start_time": "2022-04-25T15:39:14.629Z"
   },
   {
    "duration": 19,
    "start_time": "2022-04-25T15:39:14.731Z"
   },
   {
    "duration": 488,
    "start_time": "2022-04-25T15:39:16.993Z"
   },
   {
    "duration": 25,
    "start_time": "2022-04-25T15:39:17.484Z"
   },
   {
    "duration": 121,
    "start_time": "2022-04-25T15:39:26.807Z"
   },
   {
    "duration": 38,
    "start_time": "2022-04-25T15:39:31.819Z"
   },
   {
    "duration": 11,
    "start_time": "2022-04-25T15:39:32.857Z"
   },
   {
    "duration": 19,
    "start_time": "2022-04-25T15:39:35.364Z"
   },
   {
    "duration": 1426,
    "start_time": "2022-04-25T15:43:59.810Z"
   },
   {
    "duration": 308,
    "start_time": "2022-04-25T15:44:01.238Z"
   },
   {
    "duration": 6,
    "start_time": "2022-04-25T15:44:01.547Z"
   },
   {
    "duration": 869,
    "start_time": "2022-04-25T15:44:01.562Z"
   },
   {
    "duration": 138,
    "start_time": "2022-04-25T15:44:02.433Z"
   },
   {
    "duration": 264,
    "start_time": "2022-04-25T15:44:02.572Z"
   },
   {
    "duration": 159,
    "start_time": "2022-04-25T15:44:02.838Z"
   },
   {
    "duration": 18,
    "start_time": "2022-04-25T15:44:02.999Z"
   },
   {
    "duration": 159,
    "start_time": "2022-04-25T15:44:03.217Z"
   },
   {
    "duration": 97,
    "start_time": "2022-04-25T15:44:03.378Z"
   },
   {
    "duration": 322,
    "start_time": "2022-04-25T15:44:03.606Z"
   },
   {
    "duration": 26,
    "start_time": "2022-04-25T15:44:04.650Z"
   },
   {
    "duration": 87,
    "start_time": "2022-04-25T15:44:05.318Z"
   },
   {
    "duration": 109,
    "start_time": "2022-04-25T15:44:06.053Z"
   },
   {
    "duration": 25,
    "start_time": "2022-04-25T15:44:07.388Z"
   },
   {
    "duration": 491,
    "start_time": "2022-04-25T15:44:08.449Z"
   },
   {
    "duration": 12,
    "start_time": "2022-04-25T15:44:08.941Z"
   },
   {
    "duration": 117,
    "start_time": "2022-04-25T15:44:09.441Z"
   },
   {
    "duration": 53,
    "start_time": "2022-04-25T15:44:15.272Z"
   },
   {
    "duration": 11,
    "start_time": "2022-04-25T15:44:16.646Z"
   },
   {
    "duration": 52,
    "start_time": "2022-04-25T15:53:40.209Z"
   },
   {
    "duration": 7,
    "start_time": "2022-04-25T15:53:53.446Z"
   },
   {
    "duration": 1420,
    "start_time": "2022-04-25T15:54:04.055Z"
   },
   {
    "duration": 361,
    "start_time": "2022-04-25T15:54:05.477Z"
   },
   {
    "duration": 6,
    "start_time": "2022-04-25T15:54:05.840Z"
   },
   {
    "duration": 930,
    "start_time": "2022-04-25T15:54:05.848Z"
   },
   {
    "duration": 149,
    "start_time": "2022-04-25T15:54:06.780Z"
   },
   {
    "duration": 249,
    "start_time": "2022-04-25T15:54:06.931Z"
   },
   {
    "duration": 145,
    "start_time": "2022-04-25T15:54:07.195Z"
   },
   {
    "duration": 11,
    "start_time": "2022-04-25T15:54:07.343Z"
   },
   {
    "duration": 167,
    "start_time": "2022-04-25T15:54:07.723Z"
   },
   {
    "duration": 91,
    "start_time": "2022-04-25T15:54:07.959Z"
   },
   {
    "duration": 329,
    "start_time": "2022-04-25T15:54:08.534Z"
   },
   {
    "duration": 25,
    "start_time": "2022-04-25T15:54:09.950Z"
   },
   {
    "duration": 98,
    "start_time": "2022-04-25T15:54:10.586Z"
   },
   {
    "duration": 107,
    "start_time": "2022-04-25T15:54:11.137Z"
   },
   {
    "duration": 21,
    "start_time": "2022-04-25T15:54:11.641Z"
   },
   {
    "duration": 524,
    "start_time": "2022-04-25T15:54:12.416Z"
   },
   {
    "duration": 11,
    "start_time": "2022-04-25T15:54:12.953Z"
   },
   {
    "duration": 124,
    "start_time": "2022-04-25T15:54:13.255Z"
   },
   {
    "duration": 46,
    "start_time": "2022-04-25T15:54:15.808Z"
   },
   {
    "duration": 11,
    "start_time": "2022-04-25T15:54:16.076Z"
   },
   {
    "duration": 19,
    "start_time": "2022-04-25T15:54:16.372Z"
   },
   {
    "duration": 1376,
    "start_time": "2022-04-25T15:59:07.069Z"
   },
   {
    "duration": 310,
    "start_time": "2022-04-25T15:59:08.447Z"
   },
   {
    "duration": 6,
    "start_time": "2022-04-25T15:59:08.759Z"
   },
   {
    "duration": 943,
    "start_time": "2022-04-25T15:59:08.767Z"
   },
   {
    "duration": 143,
    "start_time": "2022-04-25T15:59:09.715Z"
   },
   {
    "duration": 265,
    "start_time": "2022-04-25T15:59:09.860Z"
   },
   {
    "duration": 155,
    "start_time": "2022-04-25T15:59:10.128Z"
   },
   {
    "duration": 28,
    "start_time": "2022-04-25T15:59:10.285Z"
   },
   {
    "duration": 171,
    "start_time": "2022-04-25T15:59:10.315Z"
   },
   {
    "duration": 90,
    "start_time": "2022-04-25T15:59:10.488Z"
   },
   {
    "duration": 364,
    "start_time": "2022-04-25T15:59:10.580Z"
   },
   {
    "duration": 27,
    "start_time": "2022-04-25T15:59:10.946Z"
   },
   {
    "duration": 104,
    "start_time": "2022-04-25T15:59:10.975Z"
   },
   {
    "duration": 128,
    "start_time": "2022-04-25T15:59:11.092Z"
   },
   {
    "duration": 43,
    "start_time": "2022-04-25T15:59:11.229Z"
   },
   {
    "duration": 723,
    "start_time": "2022-04-25T15:59:11.289Z"
   },
   {
    "duration": 15,
    "start_time": "2022-04-25T15:59:12.015Z"
   },
   {
    "duration": 174,
    "start_time": "2022-04-25T15:59:12.033Z"
   },
   {
    "duration": 0,
    "start_time": "2022-04-25T15:59:12.209Z"
   },
   {
    "duration": 0,
    "start_time": "2022-04-25T15:59:12.211Z"
   },
   {
    "duration": 0,
    "start_time": "2022-04-25T15:59:12.213Z"
   },
   {
    "duration": 1,
    "start_time": "2022-04-25T15:59:12.214Z"
   },
   {
    "duration": 0,
    "start_time": "2022-04-25T15:59:12.217Z"
   },
   {
    "duration": 0,
    "start_time": "2022-04-25T15:59:12.218Z"
   },
   {
    "duration": 5,
    "start_time": "2022-04-25T16:00:13.691Z"
   },
   {
    "duration": 299,
    "start_time": "2022-04-25T16:00:14.229Z"
   },
   {
    "duration": 7,
    "start_time": "2022-04-25T16:00:14.530Z"
   },
   {
    "duration": 949,
    "start_time": "2022-04-25T16:00:15.642Z"
   },
   {
    "duration": 125,
    "start_time": "2022-04-25T16:00:16.597Z"
   },
   {
    "duration": 253,
    "start_time": "2022-04-25T16:00:17.381Z"
   },
   {
    "duration": 121,
    "start_time": "2022-04-25T16:00:18.018Z"
   },
   {
    "duration": 13,
    "start_time": "2022-04-25T16:00:18.584Z"
   },
   {
    "duration": 165,
    "start_time": "2022-04-25T16:00:19.146Z"
   },
   {
    "duration": 92,
    "start_time": "2022-04-25T16:00:19.434Z"
   },
   {
    "duration": 341,
    "start_time": "2022-04-25T16:00:20.417Z"
   },
   {
    "duration": 26,
    "start_time": "2022-04-25T16:00:22.613Z"
   },
   {
    "duration": 81,
    "start_time": "2022-04-25T16:00:24.109Z"
   },
   {
    "duration": 103,
    "start_time": "2022-04-25T16:00:25.811Z"
   },
   {
    "duration": 32,
    "start_time": "2022-04-25T16:00:27.389Z"
   },
   {
    "duration": 350,
    "start_time": "2022-04-25T16:00:28.874Z"
   },
   {
    "duration": 43,
    "start_time": "2022-04-25T16:00:35.635Z"
   },
   {
    "duration": 11,
    "start_time": "2022-04-25T16:00:36.455Z"
   },
   {
    "duration": 25,
    "start_time": "2022-04-25T16:00:40.987Z"
   },
   {
    "duration": 20,
    "start_time": "2022-04-25T16:01:10.041Z"
   },
   {
    "duration": 11,
    "start_time": "2022-04-25T16:05:58.940Z"
   },
   {
    "duration": 21,
    "start_time": "2022-04-25T16:06:07.584Z"
   },
   {
    "duration": 19,
    "start_time": "2022-04-25T16:09:47.734Z"
   },
   {
    "duration": 13,
    "start_time": "2022-04-25T16:11:26.519Z"
   },
   {
    "duration": 20,
    "start_time": "2022-04-25T16:11:38.013Z"
   },
   {
    "duration": 565,
    "start_time": "2022-04-25T16:22:53.163Z"
   },
   {
    "duration": 564,
    "start_time": "2022-04-25T16:22:59.243Z"
   },
   {
    "duration": 30,
    "start_time": "2022-04-25T16:23:49.900Z"
   },
   {
    "duration": 1291,
    "start_time": "2022-04-25T16:24:15.019Z"
   },
   {
    "duration": 280,
    "start_time": "2022-04-25T16:24:16.313Z"
   },
   {
    "duration": 7,
    "start_time": "2022-04-25T16:24:16.595Z"
   },
   {
    "duration": 790,
    "start_time": "2022-04-25T16:24:16.605Z"
   },
   {
    "duration": 146,
    "start_time": "2022-04-25T16:24:17.398Z"
   },
   {
    "duration": 239,
    "start_time": "2022-04-25T16:24:17.769Z"
   },
   {
    "duration": 126,
    "start_time": "2022-04-25T16:24:18.489Z"
   },
   {
    "duration": 13,
    "start_time": "2022-04-25T16:24:19.239Z"
   },
   {
    "duration": 221,
    "start_time": "2022-04-25T16:24:19.999Z"
   },
   {
    "duration": 110,
    "start_time": "2022-04-25T16:24:20.257Z"
   },
   {
    "duration": 336,
    "start_time": "2022-04-25T16:24:20.883Z"
   },
   {
    "duration": 26,
    "start_time": "2022-04-25T16:24:22.409Z"
   },
   {
    "duration": 83,
    "start_time": "2022-04-25T16:24:23.245Z"
   },
   {
    "duration": 97,
    "start_time": "2022-04-25T16:24:24.099Z"
   },
   {
    "duration": 24,
    "start_time": "2022-04-25T16:24:24.949Z"
   },
   {
    "duration": 487,
    "start_time": "2022-04-25T16:24:25.768Z"
   },
   {
    "duration": 12,
    "start_time": "2022-04-25T16:24:26.258Z"
   },
   {
    "duration": 105,
    "start_time": "2022-04-25T16:24:26.338Z"
   },
   {
    "duration": 45,
    "start_time": "2022-04-25T16:24:28.856Z"
   },
   {
    "duration": 15,
    "start_time": "2022-04-25T16:24:29.232Z"
   },
   {
    "duration": 21,
    "start_time": "2022-04-25T16:24:29.661Z"
   },
   {
    "duration": 16,
    "start_time": "2022-04-25T16:24:30.102Z"
   },
   {
    "duration": 736,
    "start_time": "2022-04-25T16:24:32.551Z"
   },
   {
    "duration": 0,
    "start_time": "2022-04-25T16:24:33.289Z"
   },
   {
    "duration": 21,
    "start_time": "2022-04-25T16:24:35.961Z"
   },
   {
    "duration": 52,
    "start_time": "2022-04-25T16:24:36.338Z"
   },
   {
    "duration": 28,
    "start_time": "2022-04-25T16:25:24.473Z"
   },
   {
    "duration": 16,
    "start_time": "2022-04-25T16:25:36.994Z"
   },
   {
    "duration": 30,
    "start_time": "2022-04-25T16:25:45.255Z"
   },
   {
    "duration": 29,
    "start_time": "2022-04-25T16:29:24.072Z"
   },
   {
    "duration": 16,
    "start_time": "2022-04-25T16:29:46.935Z"
   },
   {
    "duration": 47,
    "start_time": "2022-04-25T16:31:13.276Z"
   },
   {
    "duration": 39,
    "start_time": "2022-04-25T16:31:50.417Z"
   },
   {
    "duration": 579,
    "start_time": "2022-04-25T16:31:57.276Z"
   },
   {
    "duration": 595,
    "start_time": "2022-04-25T16:32:09.132Z"
   },
   {
    "duration": 777,
    "start_time": "2022-04-25T16:32:33.730Z"
   },
   {
    "duration": 553,
    "start_time": "2022-04-25T16:32:41.143Z"
   },
   {
    "duration": 4,
    "start_time": "2022-04-25T17:56:26.477Z"
   },
   {
    "duration": 296,
    "start_time": "2022-04-25T17:56:26.963Z"
   },
   {
    "duration": 7,
    "start_time": "2022-04-25T17:56:27.261Z"
   },
   {
    "duration": 897,
    "start_time": "2022-04-25T17:56:27.584Z"
   },
   {
    "duration": 142,
    "start_time": "2022-04-25T17:56:28.484Z"
   },
   {
    "duration": 245,
    "start_time": "2022-04-25T17:56:28.700Z"
   },
   {
    "duration": 123,
    "start_time": "2022-04-25T17:56:29.102Z"
   },
   {
    "duration": 14,
    "start_time": "2022-04-25T17:56:29.460Z"
   },
   {
    "duration": 157,
    "start_time": "2022-04-25T17:56:29.616Z"
   },
   {
    "duration": 85,
    "start_time": "2022-04-25T17:56:30.506Z"
   },
   {
    "duration": 342,
    "start_time": "2022-04-25T17:56:31.045Z"
   },
   {
    "duration": 25,
    "start_time": "2022-04-25T17:56:31.721Z"
   },
   {
    "duration": 82,
    "start_time": "2022-04-25T17:56:33.035Z"
   },
   {
    "duration": 99,
    "start_time": "2022-04-25T17:56:33.981Z"
   },
   {
    "duration": 23,
    "start_time": "2022-04-25T17:56:35.263Z"
   },
   {
    "duration": 325,
    "start_time": "2022-04-25T17:56:35.890Z"
   },
   {
    "duration": 12,
    "start_time": "2022-04-25T17:56:37.046Z"
   },
   {
    "duration": 14,
    "start_time": "2022-04-25T17:56:37.277Z"
   },
   {
    "duration": 2227,
    "start_time": "2022-04-25T17:58:04.282Z"
   },
   {
    "duration": 12,
    "start_time": "2022-04-25T17:58:22.889Z"
   },
   {
    "duration": 17,
    "start_time": "2022-04-25T18:00:45.934Z"
   },
   {
    "duration": 724,
    "start_time": "2022-04-25T18:00:47.312Z"
   },
   {
    "duration": 0,
    "start_time": "2022-04-25T18:00:48.038Z"
   },
   {
    "duration": 20,
    "start_time": "2022-04-25T18:00:49.883Z"
   },
   {
    "duration": 627,
    "start_time": "2022-04-25T18:00:50.132Z"
   },
   {
    "duration": 39,
    "start_time": "2022-04-25T18:00:50.761Z"
   },
   {
    "duration": 605,
    "start_time": "2022-04-25T18:00:50.845Z"
   },
   {
    "duration": 593,
    "start_time": "2022-04-25T18:01:09.980Z"
   },
   {
    "duration": 584,
    "start_time": "2022-04-25T18:14:05.358Z"
   },
   {
    "duration": 573,
    "start_time": "2022-04-25T18:15:10.470Z"
   },
   {
    "duration": 559,
    "start_time": "2022-04-25T18:15:14.367Z"
   },
   {
    "duration": 574,
    "start_time": "2022-04-25T18:16:24.407Z"
   },
   {
    "duration": 575,
    "start_time": "2022-04-25T18:16:45.100Z"
   },
   {
    "duration": 20,
    "start_time": "2022-04-25T18:37:16.859Z"
   },
   {
    "duration": 1762,
    "start_time": "2022-04-25T18:43:46.415Z"
   },
   {
    "duration": 305,
    "start_time": "2022-04-25T18:43:48.180Z"
   },
   {
    "duration": 7,
    "start_time": "2022-04-25T18:43:48.487Z"
   },
   {
    "duration": 814,
    "start_time": "2022-04-25T18:43:48.547Z"
   },
   {
    "duration": 142,
    "start_time": "2022-04-25T18:43:49.363Z"
   },
   {
    "duration": 209,
    "start_time": "2022-04-25T18:43:50.197Z"
   },
   {
    "duration": 118,
    "start_time": "2022-04-25T18:43:50.640Z"
   },
   {
    "duration": 37,
    "start_time": "2022-04-25T18:43:53.606Z"
   },
   {
    "duration": 709,
    "start_time": "2022-04-25T18:43:57.726Z"
   },
   {
    "duration": 0,
    "start_time": "2022-04-25T18:43:58.437Z"
   },
   {
    "duration": 339,
    "start_time": "2022-04-25T18:43:58.725Z"
   },
   {
    "duration": 23,
    "start_time": "2022-04-25T18:44:00.067Z"
   },
   {
    "duration": 90,
    "start_time": "2022-04-25T18:44:00.808Z"
   },
   {
    "duration": 90,
    "start_time": "2022-04-25T18:44:01.222Z"
   },
   {
    "duration": 15,
    "start_time": "2022-04-25T18:44:01.646Z"
   },
   {
    "duration": 771,
    "start_time": "2022-04-25T18:44:02.205Z"
   },
   {
    "duration": 19,
    "start_time": "2022-04-25T18:44:02.979Z"
   },
   {
    "duration": 25,
    "start_time": "2022-04-25T18:44:03.000Z"
   },
   {
    "duration": 50,
    "start_time": "2022-04-25T18:44:03.028Z"
   },
   {
    "duration": 45,
    "start_time": "2022-04-25T18:44:04.550Z"
   },
   {
    "duration": 13,
    "start_time": "2022-04-25T18:44:04.686Z"
   },
   {
    "duration": 167,
    "start_time": "2022-04-25T18:44:04.992Z"
   },
   {
    "duration": 32,
    "start_time": "2022-04-25T18:44:05.161Z"
   },
   {
    "duration": 183,
    "start_time": "2022-04-25T18:44:06.494Z"
   },
   {
    "duration": 138,
    "start_time": "2022-04-25T18:44:06.955Z"
   },
   {
    "duration": 108,
    "start_time": "2022-04-25T18:44:32.836Z"
   },
   {
    "duration": 21,
    "start_time": "2022-04-25T18:44:45.377Z"
   },
   {
    "duration": 108,
    "start_time": "2022-04-25T18:44:58.462Z"
   },
   {
    "duration": 100,
    "start_time": "2022-04-25T18:45:06.215Z"
   },
   {
    "duration": 15,
    "start_time": "2022-04-25T18:45:06.750Z"
   },
   {
    "duration": 46,
    "start_time": "2022-04-25T18:45:07.081Z"
   },
   {
    "duration": 39,
    "start_time": "2022-04-25T18:45:07.357Z"
   },
   {
    "duration": 114,
    "start_time": "2022-04-25T18:45:17.038Z"
   },
   {
    "duration": 39,
    "start_time": "2022-04-25T18:45:24.378Z"
   },
   {
    "duration": 55,
    "start_time": "2022-04-25T18:47:22.985Z"
   },
   {
    "duration": 51,
    "start_time": "2022-04-25T18:49:48.022Z"
   },
   {
    "duration": 54,
    "start_time": "2022-04-25T18:50:05.021Z"
   },
   {
    "duration": 52,
    "start_time": "2022-04-25T18:50:09.195Z"
   },
   {
    "duration": 53,
    "start_time": "2022-04-25T18:50:17.948Z"
   },
   {
    "duration": 74,
    "start_time": "2022-04-25T18:50:25.369Z"
   },
   {
    "duration": 53,
    "start_time": "2022-04-25T18:50:37.265Z"
   },
   {
    "duration": 53,
    "start_time": "2022-04-25T18:50:54.488Z"
   },
   {
    "duration": 1324,
    "start_time": "2022-04-25T18:51:14.527Z"
   },
   {
    "duration": 304,
    "start_time": "2022-04-25T18:51:15.853Z"
   },
   {
    "duration": 7,
    "start_time": "2022-04-25T18:51:16.159Z"
   },
   {
    "duration": 825,
    "start_time": "2022-04-25T18:51:16.168Z"
   },
   {
    "duration": 141,
    "start_time": "2022-04-25T18:51:16.995Z"
   },
   {
    "duration": 235,
    "start_time": "2022-04-25T18:51:17.138Z"
   },
   {
    "duration": 129,
    "start_time": "2022-04-25T18:51:17.375Z"
   },
   {
    "duration": 34,
    "start_time": "2022-04-25T18:51:17.506Z"
   },
   {
    "duration": 670,
    "start_time": "2022-04-25T18:51:17.542Z"
   },
   {
    "duration": 0,
    "start_time": "2022-04-25T18:51:18.214Z"
   },
   {
    "duration": 0,
    "start_time": "2022-04-25T18:51:18.215Z"
   },
   {
    "duration": 23,
    "start_time": "2022-04-25T18:51:18.770Z"
   },
   {
    "duration": 78,
    "start_time": "2022-04-25T18:51:19.425Z"
   },
   {
    "duration": 89,
    "start_time": "2022-04-25T18:51:19.920Z"
   },
   {
    "duration": 17,
    "start_time": "2022-04-25T18:51:20.443Z"
   },
   {
    "duration": 461,
    "start_time": "2022-04-25T18:51:21.225Z"
   },
   {
    "duration": 11,
    "start_time": "2022-04-25T18:51:21.691Z"
   },
   {
    "duration": 52,
    "start_time": "2022-04-25T18:51:21.854Z"
   },
   {
    "duration": 37,
    "start_time": "2022-04-25T18:51:22.168Z"
   },
   {
    "duration": 66,
    "start_time": "2022-04-25T18:51:38.958Z"
   },
   {
    "duration": 46,
    "start_time": "2022-04-25T18:51:46.093Z"
   },
   {
    "duration": 52,
    "start_time": "2022-04-25T18:51:51.386Z"
   },
   {
    "duration": 1266,
    "start_time": "2022-04-25T18:52:06.437Z"
   },
   {
    "duration": 302,
    "start_time": "2022-04-25T18:52:07.706Z"
   },
   {
    "duration": 6,
    "start_time": "2022-04-25T18:52:08.010Z"
   },
   {
    "duration": 841,
    "start_time": "2022-04-25T18:52:08.018Z"
   },
   {
    "duration": 150,
    "start_time": "2022-04-25T18:52:08.860Z"
   },
   {
    "duration": 397,
    "start_time": "2022-04-25T18:52:09.012Z"
   },
   {
    "duration": 222,
    "start_time": "2022-04-25T18:52:09.412Z"
   },
   {
    "duration": 59,
    "start_time": "2022-04-25T18:52:09.636Z"
   },
   {
    "duration": 798,
    "start_time": "2022-04-25T18:52:09.697Z"
   },
   {
    "duration": 0,
    "start_time": "2022-04-25T18:52:10.497Z"
   },
   {
    "duration": 0,
    "start_time": "2022-04-25T18:52:10.499Z"
   },
   {
    "duration": 1,
    "start_time": "2022-04-25T18:52:10.500Z"
   },
   {
    "duration": 83,
    "start_time": "2022-04-25T18:52:10.970Z"
   },
   {
    "duration": 577,
    "start_time": "2022-04-25T18:52:45.856Z"
   },
   {
    "duration": 0,
    "start_time": "2022-04-25T18:52:46.435Z"
   },
   {
    "duration": 491,
    "start_time": "2022-04-25T18:52:46.788Z"
   },
   {
    "duration": 57,
    "start_time": "2022-04-25T18:52:49.347Z"
   },
   {
    "duration": 72,
    "start_time": "2022-04-25T18:52:52.545Z"
   },
   {
    "duration": 99,
    "start_time": "2022-04-25T18:52:55.094Z"
   },
   {
    "duration": 15,
    "start_time": "2022-04-25T18:52:56.988Z"
   },
   {
    "duration": 485,
    "start_time": "2022-04-25T18:53:09.543Z"
   },
   {
    "duration": 12,
    "start_time": "2022-04-25T18:53:10.162Z"
   },
   {
    "duration": 47,
    "start_time": "2022-04-25T18:53:10.443Z"
   },
   {
    "duration": 52,
    "start_time": "2022-04-25T18:53:23.341Z"
   },
   {
    "duration": 50,
    "start_time": "2022-04-25T18:53:29.888Z"
   },
   {
    "duration": 51,
    "start_time": "2022-04-25T18:53:33.485Z"
   },
   {
    "duration": 52,
    "start_time": "2022-04-25T18:53:41.730Z"
   },
   {
    "duration": 55,
    "start_time": "2022-04-25T18:53:55.907Z"
   },
   {
    "duration": 11,
    "start_time": "2022-04-25T18:53:58.932Z"
   },
   {
    "duration": 51,
    "start_time": "2022-04-25T18:53:59.465Z"
   },
   {
    "duration": 8,
    "start_time": "2022-04-25T18:54:06.074Z"
   },
   {
    "duration": 52,
    "start_time": "2022-04-25T18:54:14.020Z"
   },
   {
    "duration": 51,
    "start_time": "2022-04-25T18:54:32.415Z"
   },
   {
    "duration": 9,
    "start_time": "2022-04-25T18:54:41.538Z"
   },
   {
    "duration": 12,
    "start_time": "2022-04-25T18:54:47.773Z"
   },
   {
    "duration": 51,
    "start_time": "2022-04-25T18:54:56.811Z"
   },
   {
    "duration": 8,
    "start_time": "2022-04-25T18:55:12.825Z"
   },
   {
    "duration": 20,
    "start_time": "2022-04-25T18:55:15.691Z"
   },
   {
    "duration": 26,
    "start_time": "2022-04-25T18:55:21.632Z"
   },
   {
    "duration": 50,
    "start_time": "2022-04-25T18:55:27.895Z"
   },
   {
    "duration": 112,
    "start_time": "2022-04-25T18:55:34.366Z"
   },
   {
    "duration": 15,
    "start_time": "2022-04-25T18:55:35.022Z"
   },
   {
    "duration": 67,
    "start_time": "2022-04-25T18:55:35.533Z"
   },
   {
    "duration": 53,
    "start_time": "2022-04-25T18:55:36.542Z"
   },
   {
    "duration": 1464,
    "start_time": "2022-04-25T18:55:37.139Z"
   },
   {
    "duration": 49,
    "start_time": "2022-04-25T18:55:38.605Z"
   },
   {
    "duration": 1277,
    "start_time": "2022-04-25T18:56:04.133Z"
   },
   {
    "duration": 78,
    "start_time": "2022-04-25T18:57:13.527Z"
   },
   {
    "duration": 45,
    "start_time": "2022-04-25T18:57:28.070Z"
   },
   {
    "duration": 39,
    "start_time": "2022-04-25T18:57:32.723Z"
   },
   {
    "duration": 40,
    "start_time": "2022-04-25T19:01:43.025Z"
   },
   {
    "duration": 1429,
    "start_time": "2022-04-26T07:04:04.686Z"
   },
   {
    "duration": 2616,
    "start_time": "2022-04-26T07:04:06.117Z"
   },
   {
    "duration": 8,
    "start_time": "2022-04-26T07:04:08.735Z"
   },
   {
    "duration": 827,
    "start_time": "2022-04-26T07:04:08.745Z"
   },
   {
    "duration": 139,
    "start_time": "2022-04-26T07:04:09.574Z"
   },
   {
    "duration": 211,
    "start_time": "2022-04-26T07:04:09.714Z"
   },
   {
    "duration": 123,
    "start_time": "2022-04-26T07:04:09.926Z"
   },
   {
    "duration": 46,
    "start_time": "2022-04-26T07:04:10.051Z"
   },
   {
    "duration": 634,
    "start_time": "2022-04-26T07:04:10.099Z"
   },
   {
    "duration": 0,
    "start_time": "2022-04-26T07:04:10.735Z"
   },
   {
    "duration": 0,
    "start_time": "2022-04-26T07:04:10.737Z"
   },
   {
    "duration": 0,
    "start_time": "2022-04-26T07:04:10.738Z"
   },
   {
    "duration": 0,
    "start_time": "2022-04-26T07:04:10.739Z"
   },
   {
    "duration": 0,
    "start_time": "2022-04-26T07:04:10.740Z"
   },
   {
    "duration": 0,
    "start_time": "2022-04-26T07:04:10.741Z"
   },
   {
    "duration": 0,
    "start_time": "2022-04-26T07:04:10.742Z"
   },
   {
    "duration": 0,
    "start_time": "2022-04-26T07:04:10.743Z"
   },
   {
    "duration": 0,
    "start_time": "2022-04-26T07:04:10.744Z"
   },
   {
    "duration": 0,
    "start_time": "2022-04-26T07:04:10.745Z"
   },
   {
    "duration": 0,
    "start_time": "2022-04-26T07:04:10.746Z"
   },
   {
    "duration": 0,
    "start_time": "2022-04-26T07:04:10.747Z"
   },
   {
    "duration": 0,
    "start_time": "2022-04-26T07:04:10.748Z"
   },
   {
    "duration": 0,
    "start_time": "2022-04-26T07:04:10.749Z"
   },
   {
    "duration": 0,
    "start_time": "2022-04-26T07:04:10.749Z"
   },
   {
    "duration": 0,
    "start_time": "2022-04-26T07:04:10.750Z"
   },
   {
    "duration": 0,
    "start_time": "2022-04-26T07:04:10.751Z"
   },
   {
    "duration": 0,
    "start_time": "2022-04-26T07:04:10.752Z"
   },
   {
    "duration": 0,
    "start_time": "2022-04-26T07:04:10.753Z"
   },
   {
    "duration": 0,
    "start_time": "2022-04-26T07:04:10.754Z"
   },
   {
    "duration": 0,
    "start_time": "2022-04-26T07:04:10.755Z"
   },
   {
    "duration": 0,
    "start_time": "2022-04-26T07:04:10.756Z"
   },
   {
    "duration": 2462,
    "start_time": "2022-04-26T10:16:59.649Z"
   },
   {
    "duration": 413,
    "start_time": "2022-04-26T10:17:02.114Z"
   },
   {
    "duration": 9,
    "start_time": "2022-04-26T10:17:02.530Z"
   },
   {
    "duration": 1135,
    "start_time": "2022-04-26T10:17:02.555Z"
   },
   {
    "duration": 177,
    "start_time": "2022-04-26T10:17:03.692Z"
   },
   {
    "duration": 340,
    "start_time": "2022-04-26T10:17:03.872Z"
   },
   {
    "duration": 204,
    "start_time": "2022-04-26T10:17:04.215Z"
   },
   {
    "duration": 60,
    "start_time": "2022-04-26T10:17:04.422Z"
   },
   {
    "duration": 649,
    "start_time": "2022-04-26T10:17:04.485Z"
   },
   {
    "duration": 0,
    "start_time": "2022-04-26T10:17:05.139Z"
   },
   {
    "duration": 0,
    "start_time": "2022-04-26T10:17:05.142Z"
   },
   {
    "duration": 0,
    "start_time": "2022-04-26T10:17:05.144Z"
   },
   {
    "duration": 0,
    "start_time": "2022-04-26T10:17:05.147Z"
   },
   {
    "duration": 0,
    "start_time": "2022-04-26T10:17:05.148Z"
   },
   {
    "duration": 0,
    "start_time": "2022-04-26T10:17:05.150Z"
   },
   {
    "duration": 0,
    "start_time": "2022-04-26T10:17:05.151Z"
   },
   {
    "duration": 0,
    "start_time": "2022-04-26T10:17:05.154Z"
   },
   {
    "duration": 0,
    "start_time": "2022-04-26T10:17:05.156Z"
   },
   {
    "duration": 0,
    "start_time": "2022-04-26T10:17:05.159Z"
   },
   {
    "duration": 1,
    "start_time": "2022-04-26T10:17:05.160Z"
   },
   {
    "duration": 0,
    "start_time": "2022-04-26T10:17:05.163Z"
   },
   {
    "duration": 0,
    "start_time": "2022-04-26T10:17:05.166Z"
   },
   {
    "duration": 0,
    "start_time": "2022-04-26T10:17:05.169Z"
   },
   {
    "duration": 0,
    "start_time": "2022-04-26T10:17:05.172Z"
   },
   {
    "duration": 0,
    "start_time": "2022-04-26T10:17:05.174Z"
   },
   {
    "duration": 0,
    "start_time": "2022-04-26T10:17:05.176Z"
   },
   {
    "duration": 0,
    "start_time": "2022-04-26T10:17:05.178Z"
   },
   {
    "duration": 0,
    "start_time": "2022-04-26T10:17:05.180Z"
   },
   {
    "duration": 0,
    "start_time": "2022-04-26T10:17:05.181Z"
   },
   {
    "duration": 0,
    "start_time": "2022-04-26T10:17:05.182Z"
   },
   {
    "duration": 0,
    "start_time": "2022-04-26T10:17:05.184Z"
   },
   {
    "duration": 6,
    "start_time": "2022-04-26T10:20:13.722Z"
   },
   {
    "duration": 442,
    "start_time": "2022-04-26T10:20:13.733Z"
   },
   {
    "duration": 9,
    "start_time": "2022-04-26T10:20:14.178Z"
   },
   {
    "duration": 1174,
    "start_time": "2022-04-26T10:20:14.190Z"
   },
   {
    "duration": 155,
    "start_time": "2022-04-26T10:20:15.368Z"
   },
   {
    "duration": 338,
    "start_time": "2022-04-26T10:20:15.526Z"
   },
   {
    "duration": 306,
    "start_time": "2022-04-26T10:20:15.866Z"
   },
   {
    "duration": 45,
    "start_time": "2022-04-26T10:20:16.174Z"
   },
   {
    "duration": 623,
    "start_time": "2022-04-26T10:20:16.221Z"
   },
   {
    "duration": 0,
    "start_time": "2022-04-26T10:20:16.847Z"
   },
   {
    "duration": 0,
    "start_time": "2022-04-26T10:20:16.849Z"
   },
   {
    "duration": 0,
    "start_time": "2022-04-26T10:20:16.851Z"
   },
   {
    "duration": 0,
    "start_time": "2022-04-26T10:20:16.853Z"
   },
   {
    "duration": 0,
    "start_time": "2022-04-26T10:20:16.854Z"
   },
   {
    "duration": 0,
    "start_time": "2022-04-26T10:20:16.856Z"
   },
   {
    "duration": 0,
    "start_time": "2022-04-26T10:20:16.858Z"
   },
   {
    "duration": 0,
    "start_time": "2022-04-26T10:20:16.859Z"
   },
   {
    "duration": 0,
    "start_time": "2022-04-26T10:20:16.861Z"
   },
   {
    "duration": 0,
    "start_time": "2022-04-26T10:20:16.862Z"
   },
   {
    "duration": 0,
    "start_time": "2022-04-26T10:20:16.864Z"
   },
   {
    "duration": 0,
    "start_time": "2022-04-26T10:20:16.866Z"
   },
   {
    "duration": 0,
    "start_time": "2022-04-26T10:20:16.867Z"
   },
   {
    "duration": 0,
    "start_time": "2022-04-26T10:20:16.868Z"
   },
   {
    "duration": 0,
    "start_time": "2022-04-26T10:20:16.870Z"
   },
   {
    "duration": 0,
    "start_time": "2022-04-26T10:20:16.872Z"
   },
   {
    "duration": 0,
    "start_time": "2022-04-26T10:20:16.873Z"
   },
   {
    "duration": 0,
    "start_time": "2022-04-26T10:20:16.875Z"
   },
   {
    "duration": 0,
    "start_time": "2022-04-26T10:20:16.876Z"
   },
   {
    "duration": 0,
    "start_time": "2022-04-26T10:20:16.878Z"
   },
   {
    "duration": 0,
    "start_time": "2022-04-26T10:20:16.880Z"
   },
   {
    "duration": 0,
    "start_time": "2022-04-26T10:20:16.881Z"
   },
   {
    "duration": 120,
    "start_time": "2022-04-26T10:21:37.013Z"
   },
   {
    "duration": 542,
    "start_time": "2022-04-26T10:21:40.274Z"
   },
   {
    "duration": 35,
    "start_time": "2022-04-26T10:22:16.092Z"
   },
   {
    "duration": 87,
    "start_time": "2022-04-26T10:22:18.684Z"
   },
   {
    "duration": 103,
    "start_time": "2022-04-26T10:22:23.290Z"
   },
   {
    "duration": 27,
    "start_time": "2022-04-26T10:22:26.669Z"
   },
   {
    "duration": 825,
    "start_time": "2022-04-26T10:22:29.843Z"
   },
   {
    "duration": 22,
    "start_time": "2022-04-26T10:22:38.355Z"
   },
   {
    "duration": 56,
    "start_time": "2022-04-26T10:22:43.201Z"
   },
   {
    "duration": 136,
    "start_time": "2022-04-26T10:23:02.886Z"
   },
   {
    "duration": 2082,
    "start_time": "2022-04-26T10:29:24.906Z"
   },
   {
    "duration": 403,
    "start_time": "2022-04-26T10:29:26.992Z"
   },
   {
    "duration": 9,
    "start_time": "2022-04-26T10:29:27.398Z"
   },
   {
    "duration": 1368,
    "start_time": "2022-04-26T10:29:27.410Z"
   },
   {
    "duration": 204,
    "start_time": "2022-04-26T10:29:28.781Z"
   },
   {
    "duration": 664,
    "start_time": "2022-04-26T10:29:28.990Z"
   },
   {
    "duration": 309,
    "start_time": "2022-04-26T10:29:29.657Z"
   },
   {
    "duration": 44,
    "start_time": "2022-04-26T10:29:29.970Z"
   },
   {
    "duration": 125,
    "start_time": "2022-04-26T10:29:30.016Z"
   },
   {
    "duration": 452,
    "start_time": "2022-04-26T10:29:30.153Z"
   },
   {
    "duration": 24,
    "start_time": "2022-04-26T10:29:30.609Z"
   },
   {
    "duration": 105,
    "start_time": "2022-04-26T10:29:31.537Z"
   },
   {
    "duration": 120,
    "start_time": "2022-04-26T10:29:32.579Z"
   },
   {
    "duration": 25,
    "start_time": "2022-04-26T10:29:33.478Z"
   },
   {
    "duration": 828,
    "start_time": "2022-04-26T10:29:34.281Z"
   },
   {
    "duration": 146,
    "start_time": "2022-04-26T10:29:35.112Z"
   },
   {
    "duration": 99,
    "start_time": "2022-04-26T10:29:50.450Z"
   },
   {
    "duration": 144,
    "start_time": "2022-04-26T10:30:19.701Z"
   },
   {
    "duration": 89,
    "start_time": "2022-04-26T10:30:21.989Z"
   },
   {
    "duration": 135,
    "start_time": "2022-04-26T10:31:08.401Z"
   },
   {
    "duration": 91,
    "start_time": "2022-04-26T10:31:12.144Z"
   },
   {
    "duration": 75,
    "start_time": "2022-04-26T10:36:00.764Z"
   },
   {
    "duration": 136,
    "start_time": "2022-04-26T10:38:55.908Z"
   },
   {
    "duration": 98,
    "start_time": "2022-04-26T10:39:08.340Z"
   },
   {
    "duration": 103,
    "start_time": "2022-04-26T10:40:07.338Z"
   },
   {
    "duration": 80,
    "start_time": "2022-04-26T10:40:14.276Z"
   },
   {
    "duration": 52,
    "start_time": "2022-04-26T10:44:00.269Z"
   },
   {
    "duration": 67,
    "start_time": "2022-04-26T10:44:16.038Z"
   },
   {
    "duration": 427,
    "start_time": "2022-04-26T10:44:46.786Z"
   },
   {
    "duration": 611,
    "start_time": "2022-04-26T10:44:55.487Z"
   },
   {
    "duration": 328,
    "start_time": "2022-04-26T10:45:53.736Z"
   },
   {
    "duration": 195,
    "start_time": "2022-04-26T10:47:34.293Z"
   },
   {
    "duration": 12,
    "start_time": "2022-04-26T10:48:48.726Z"
   },
   {
    "duration": 268,
    "start_time": "2022-04-26T10:49:06.214Z"
   },
   {
    "duration": 277,
    "start_time": "2022-04-26T10:49:11.389Z"
   },
   {
    "duration": 8,
    "start_time": "2022-04-26T10:50:24.752Z"
   },
   {
    "duration": 8,
    "start_time": "2022-04-26T10:50:29.730Z"
   },
   {
    "duration": 203,
    "start_time": "2022-04-26T10:51:59.520Z"
   },
   {
    "duration": 190,
    "start_time": "2022-04-26T10:53:11.448Z"
   },
   {
    "duration": 294,
    "start_time": "2022-04-26T10:53:16.348Z"
   },
   {
    "duration": 257,
    "start_time": "2022-04-26T10:53:25.771Z"
   },
   {
    "duration": 126,
    "start_time": "2022-04-26T10:59:51.912Z"
   },
   {
    "duration": 239,
    "start_time": "2022-04-26T11:01:22.958Z"
   },
   {
    "duration": 208,
    "start_time": "2022-04-26T11:01:33.102Z"
   },
   {
    "duration": 212,
    "start_time": "2022-04-26T11:01:42.459Z"
   },
   {
    "duration": 213,
    "start_time": "2022-04-26T11:01:46.486Z"
   },
   {
    "duration": 220,
    "start_time": "2022-04-26T11:01:58.908Z"
   },
   {
    "duration": 2597,
    "start_time": "2022-04-26T11:02:28.125Z"
   },
   {
    "duration": 1820,
    "start_time": "2022-04-26T11:02:56.494Z"
   },
   {
    "duration": 1595,
    "start_time": "2022-04-26T11:50:52.830Z"
   },
   {
    "duration": 357,
    "start_time": "2022-04-26T11:50:54.428Z"
   },
   {
    "duration": 9,
    "start_time": "2022-04-26T11:50:54.787Z"
   },
   {
    "duration": 1029,
    "start_time": "2022-04-26T11:50:54.799Z"
   },
   {
    "duration": 173,
    "start_time": "2022-04-26T11:50:55.831Z"
   },
   {
    "duration": 311,
    "start_time": "2022-04-26T11:50:56.007Z"
   },
   {
    "duration": 174,
    "start_time": "2022-04-26T11:50:56.320Z"
   },
   {
    "duration": 57,
    "start_time": "2022-04-26T11:50:56.496Z"
   },
   {
    "duration": 110,
    "start_time": "2022-04-26T11:50:56.556Z"
   },
   {
    "duration": 412,
    "start_time": "2022-04-26T11:50:56.672Z"
   },
   {
    "duration": 28,
    "start_time": "2022-04-26T11:50:57.086Z"
   },
   {
    "duration": 106,
    "start_time": "2022-04-26T11:50:57.116Z"
   },
   {
    "duration": 103,
    "start_time": "2022-04-26T11:50:57.223Z"
   },
   {
    "duration": 35,
    "start_time": "2022-04-26T11:50:57.328Z"
   },
   {
    "duration": 710,
    "start_time": "2022-04-26T11:50:57.365Z"
   },
   {
    "duration": 147,
    "start_time": "2022-04-26T11:50:58.077Z"
   },
   {
    "duration": 87,
    "start_time": "2022-04-26T11:50:58.226Z"
   },
   {
    "duration": 85,
    "start_time": "2022-04-26T11:50:58.315Z"
   },
   {
    "duration": 67,
    "start_time": "2022-04-26T11:50:58.402Z"
   },
   {
    "duration": 95,
    "start_time": "2022-04-26T11:50:58.471Z"
   },
   {
    "duration": 140,
    "start_time": "2022-04-26T11:50:58.568Z"
   },
   {
    "duration": 1728,
    "start_time": "2022-04-26T11:50:58.710Z"
   },
   {
    "duration": 0,
    "start_time": "2022-04-26T11:51:00.441Z"
   },
   {
    "duration": 0,
    "start_time": "2022-04-26T11:51:00.443Z"
   },
   {
    "duration": 0,
    "start_time": "2022-04-26T11:51:00.444Z"
   },
   {
    "duration": 0,
    "start_time": "2022-04-26T11:51:00.446Z"
   },
   {
    "duration": 0,
    "start_time": "2022-04-26T11:51:00.448Z"
   },
   {
    "duration": 0,
    "start_time": "2022-04-26T11:51:00.450Z"
   },
   {
    "duration": 0,
    "start_time": "2022-04-26T11:51:00.452Z"
   },
   {
    "duration": 0,
    "start_time": "2022-04-26T11:51:00.453Z"
   },
   {
    "duration": 7,
    "start_time": "2022-04-26T11:51:28.340Z"
   },
   {
    "duration": 1608,
    "start_time": "2022-04-26T11:51:47.915Z"
   },
   {
    "duration": 7,
    "start_time": "2022-04-26T11:52:21.845Z"
   },
   {
    "duration": 6,
    "start_time": "2022-04-26T11:53:52.339Z"
   },
   {
    "duration": 5,
    "start_time": "2022-04-26T11:53:59.085Z"
   },
   {
    "duration": 157,
    "start_time": "2022-04-26T11:54:31.314Z"
   },
   {
    "duration": 91,
    "start_time": "2022-04-26T11:54:32.395Z"
   },
   {
    "duration": 76,
    "start_time": "2022-04-26T11:54:34.266Z"
   },
   {
    "duration": 47,
    "start_time": "2022-04-26T11:54:36.595Z"
   },
   {
    "duration": 90,
    "start_time": "2022-04-26T11:54:38.113Z"
   },
   {
    "duration": 143,
    "start_time": "2022-04-26T11:54:41.064Z"
   },
   {
    "duration": 6,
    "start_time": "2022-04-26T11:54:42.368Z"
   },
   {
    "duration": 1513,
    "start_time": "2022-04-26T11:55:03.997Z"
   },
   {
    "duration": 354,
    "start_time": "2022-04-26T11:55:05.512Z"
   },
   {
    "duration": 9,
    "start_time": "2022-04-26T11:55:05.868Z"
   },
   {
    "duration": 1033,
    "start_time": "2022-04-26T11:55:05.879Z"
   },
   {
    "duration": 171,
    "start_time": "2022-04-26T11:55:06.914Z"
   },
   {
    "duration": 333,
    "start_time": "2022-04-26T11:55:07.088Z"
   },
   {
    "duration": 176,
    "start_time": "2022-04-26T11:55:07.423Z"
   },
   {
    "duration": 59,
    "start_time": "2022-04-26T11:55:07.602Z"
   },
   {
    "duration": 107,
    "start_time": "2022-04-26T11:55:07.664Z"
   },
   {
    "duration": 438,
    "start_time": "2022-04-26T11:55:07.777Z"
   },
   {
    "duration": 36,
    "start_time": "2022-04-26T11:55:08.217Z"
   },
   {
    "duration": 98,
    "start_time": "2022-04-26T11:55:08.255Z"
   },
   {
    "duration": 122,
    "start_time": "2022-04-26T11:55:08.355Z"
   },
   {
    "duration": 18,
    "start_time": "2022-04-26T11:55:08.480Z"
   },
   {
    "duration": 769,
    "start_time": "2022-04-26T11:55:08.501Z"
   },
   {
    "duration": 160,
    "start_time": "2022-04-26T11:55:09.273Z"
   },
   {
    "duration": 95,
    "start_time": "2022-04-26T11:55:09.436Z"
   },
   {
    "duration": 85,
    "start_time": "2022-04-26T11:55:09.533Z"
   },
   {
    "duration": 74,
    "start_time": "2022-04-26T11:55:09.620Z"
   },
   {
    "duration": 101,
    "start_time": "2022-04-26T11:55:09.696Z"
   },
   {
    "duration": 151,
    "start_time": "2022-04-26T11:55:09.799Z"
   },
   {
    "duration": 7,
    "start_time": "2022-04-26T11:55:09.952Z"
   },
   {
    "duration": 1917,
    "start_time": "2022-04-26T11:55:09.961Z"
   },
   {
    "duration": 0,
    "start_time": "2022-04-26T11:55:11.880Z"
   },
   {
    "duration": 0,
    "start_time": "2022-04-26T11:55:11.882Z"
   },
   {
    "duration": 0,
    "start_time": "2022-04-26T11:55:11.884Z"
   },
   {
    "duration": 0,
    "start_time": "2022-04-26T11:55:11.885Z"
   },
   {
    "duration": 0,
    "start_time": "2022-04-26T11:55:11.887Z"
   },
   {
    "duration": 0,
    "start_time": "2022-04-26T11:55:11.889Z"
   },
   {
    "duration": 0,
    "start_time": "2022-04-26T11:55:11.890Z"
   },
   {
    "duration": 1,
    "start_time": "2022-04-26T11:55:11.891Z"
   },
   {
    "duration": 207,
    "start_time": "2022-04-26T11:55:55.392Z"
   },
   {
    "duration": 81,
    "start_time": "2022-04-26T11:55:57.596Z"
   },
   {
    "duration": 74,
    "start_time": "2022-04-26T11:56:03.107Z"
   },
   {
    "duration": 46,
    "start_time": "2022-04-26T11:56:04.187Z"
   },
   {
    "duration": 77,
    "start_time": "2022-04-26T11:56:04.335Z"
   },
   {
    "duration": 139,
    "start_time": "2022-04-26T11:56:04.618Z"
   },
   {
    "duration": 7,
    "start_time": "2022-04-26T11:56:05.145Z"
   },
   {
    "duration": 1443,
    "start_time": "2022-04-26T11:56:05.331Z"
   },
   {
    "duration": 0,
    "start_time": "2022-04-26T11:56:06.777Z"
   },
   {
    "duration": 87,
    "start_time": "2022-04-26T11:57:53.272Z"
   },
   {
    "duration": 84,
    "start_time": "2022-04-26T11:58:22.998Z"
   },
   {
    "duration": 87,
    "start_time": "2022-04-26T11:58:28.571Z"
   },
   {
    "duration": 543,
    "start_time": "2022-04-26T12:20:42.535Z"
   },
   {
    "duration": 269,
    "start_time": "2022-04-26T12:22:22.567Z"
   },
   {
    "duration": 22,
    "start_time": "2022-04-26T12:22:35.865Z"
   },
   {
    "duration": 8,
    "start_time": "2022-04-26T12:22:54.954Z"
   },
   {
    "duration": 52,
    "start_time": "2022-04-26T12:22:59.338Z"
   },
   {
    "duration": 95,
    "start_time": "2022-04-26T12:23:13.656Z"
   },
   {
    "duration": 116,
    "start_time": "2022-04-26T12:23:19.343Z"
   },
   {
    "duration": 186,
    "start_time": "2022-04-26T12:23:24.431Z"
   },
   {
    "duration": 91,
    "start_time": "2022-04-26T12:23:26.524Z"
   },
   {
    "duration": 15,
    "start_time": "2022-04-26T12:24:06.508Z"
   },
   {
    "duration": 14,
    "start_time": "2022-04-26T12:24:47.395Z"
   },
   {
    "duration": 7,
    "start_time": "2022-04-26T12:26:29.755Z"
   },
   {
    "duration": 22,
    "start_time": "2022-04-26T12:26:47.188Z"
   },
   {
    "duration": 14,
    "start_time": "2022-04-26T12:26:52.875Z"
   },
   {
    "duration": 1734,
    "start_time": "2022-04-26T12:27:14.823Z"
   },
   {
    "duration": 393,
    "start_time": "2022-04-26T12:27:16.560Z"
   },
   {
    "duration": 13,
    "start_time": "2022-04-26T12:27:16.956Z"
   },
   {
    "duration": 1092,
    "start_time": "2022-04-26T12:27:16.972Z"
   },
   {
    "duration": 175,
    "start_time": "2022-04-26T12:27:18.066Z"
   },
   {
    "duration": 368,
    "start_time": "2022-04-26T12:27:18.252Z"
   },
   {
    "duration": 267,
    "start_time": "2022-04-26T12:27:18.622Z"
   },
   {
    "duration": 66,
    "start_time": "2022-04-26T12:27:18.891Z"
   },
   {
    "duration": 140,
    "start_time": "2022-04-26T12:27:18.960Z"
   },
   {
    "duration": 479,
    "start_time": "2022-04-26T12:27:19.105Z"
   },
   {
    "duration": 33,
    "start_time": "2022-04-26T12:27:19.586Z"
   },
   {
    "duration": 102,
    "start_time": "2022-04-26T12:27:19.621Z"
   },
   {
    "duration": 104,
    "start_time": "2022-04-26T12:27:19.726Z"
   },
   {
    "duration": 31,
    "start_time": "2022-04-26T12:27:19.832Z"
   },
   {
    "duration": 831,
    "start_time": "2022-04-26T12:27:19.866Z"
   },
   {
    "duration": 149,
    "start_time": "2022-04-26T12:27:20.699Z"
   },
   {
    "duration": 84,
    "start_time": "2022-04-26T12:27:20.852Z"
   },
   {
    "duration": 76,
    "start_time": "2022-04-26T12:27:20.952Z"
   },
   {
    "duration": 62,
    "start_time": "2022-04-26T12:27:21.031Z"
   },
   {
    "duration": 98,
    "start_time": "2022-04-26T12:27:21.095Z"
   },
   {
    "duration": 204,
    "start_time": "2022-04-26T12:27:21.195Z"
   },
   {
    "duration": 8,
    "start_time": "2022-04-26T12:27:21.402Z"
   },
   {
    "duration": 148,
    "start_time": "2022-04-26T12:27:21.413Z"
   },
   {
    "duration": 15,
    "start_time": "2022-04-26T12:27:21.565Z"
   },
   {
    "duration": 301,
    "start_time": "2022-04-26T12:27:21.583Z"
   },
   {
    "duration": 602,
    "start_time": "2022-04-26T12:27:21.887Z"
   },
   {
    "duration": 135,
    "start_time": "2022-04-26T12:27:22.491Z"
   },
   {
    "duration": 29,
    "start_time": "2022-04-26T12:27:22.631Z"
   },
   {
    "duration": 64,
    "start_time": "2022-04-26T12:27:22.662Z"
   },
   {
    "duration": 58,
    "start_time": "2022-04-26T12:27:22.729Z"
   },
   {
    "duration": 2069,
    "start_time": "2022-04-26T12:27:22.790Z"
   },
   {
    "duration": 42,
    "start_time": "2022-04-26T12:27:24.862Z"
   },
   {
    "duration": 100,
    "start_time": "2022-04-26T12:27:24.907Z"
   },
   {
    "duration": 11,
    "start_time": "2022-04-26T12:29:51.129Z"
   },
   {
    "duration": 98,
    "start_time": "2022-04-26T12:30:07.561Z"
   },
   {
    "duration": 122,
    "start_time": "2022-04-26T12:30:13.106Z"
   },
   {
    "duration": 113,
    "start_time": "2022-04-26T12:30:28.773Z"
   },
   {
    "duration": 104,
    "start_time": "2022-04-26T12:30:33.426Z"
   },
   {
    "duration": 11,
    "start_time": "2022-04-26T12:30:36.783Z"
   },
   {
    "duration": 13,
    "start_time": "2022-04-26T12:30:59.088Z"
   },
   {
    "duration": 12,
    "start_time": "2022-04-26T12:31:04.136Z"
   },
   {
    "duration": 12,
    "start_time": "2022-04-26T12:31:18.218Z"
   },
   {
    "duration": 2041,
    "start_time": "2022-04-26T12:31:40.224Z"
   },
   {
    "duration": 367,
    "start_time": "2022-04-26T12:31:42.268Z"
   },
   {
    "duration": 16,
    "start_time": "2022-04-26T12:31:42.638Z"
   },
   {
    "duration": 1096,
    "start_time": "2022-04-26T12:31:42.657Z"
   },
   {
    "duration": 169,
    "start_time": "2022-04-26T12:31:43.757Z"
   },
   {
    "duration": 373,
    "start_time": "2022-04-26T12:31:43.928Z"
   },
   {
    "duration": 207,
    "start_time": "2022-04-26T12:31:44.303Z"
   },
   {
    "duration": 61,
    "start_time": "2022-04-26T12:31:44.513Z"
   },
   {
    "duration": 121,
    "start_time": "2022-04-26T12:31:44.577Z"
   },
   {
    "duration": 461,
    "start_time": "2022-04-26T12:31:44.701Z"
   },
   {
    "duration": 36,
    "start_time": "2022-04-26T12:31:45.165Z"
   },
   {
    "duration": 133,
    "start_time": "2022-04-26T12:31:45.204Z"
   },
   {
    "duration": 122,
    "start_time": "2022-04-26T12:31:45.340Z"
   },
   {
    "duration": 27,
    "start_time": "2022-04-26T12:31:45.467Z"
   },
   {
    "duration": 803,
    "start_time": "2022-04-26T12:31:45.496Z"
   },
   {
    "duration": 182,
    "start_time": "2022-04-26T12:31:46.301Z"
   },
   {
    "duration": 130,
    "start_time": "2022-04-26T12:31:46.486Z"
   },
   {
    "duration": 92,
    "start_time": "2022-04-26T12:31:46.619Z"
   },
   {
    "duration": 106,
    "start_time": "2022-04-26T12:31:46.714Z"
   },
   {
    "duration": 93,
    "start_time": "2022-04-26T12:31:46.823Z"
   },
   {
    "duration": 153,
    "start_time": "2022-04-26T12:31:46.918Z"
   },
   {
    "duration": 6,
    "start_time": "2022-04-26T12:31:47.074Z"
   },
   {
    "duration": 110,
    "start_time": "2022-04-26T12:31:47.082Z"
   },
   {
    "duration": 10,
    "start_time": "2022-04-26T12:31:47.195Z"
   },
   {
    "duration": 1661,
    "start_time": "2022-04-26T12:31:54.412Z"
   },
   {
    "duration": 358,
    "start_time": "2022-04-26T12:31:56.076Z"
   },
   {
    "duration": 20,
    "start_time": "2022-04-26T12:31:56.437Z"
   },
   {
    "duration": 1067,
    "start_time": "2022-04-26T12:31:56.459Z"
   },
   {
    "duration": 169,
    "start_time": "2022-04-26T12:31:57.529Z"
   },
   {
    "duration": 334,
    "start_time": "2022-04-26T12:31:57.700Z"
   },
   {
    "duration": 189,
    "start_time": "2022-04-26T12:31:58.037Z"
   },
   {
    "duration": 55,
    "start_time": "2022-04-26T12:31:58.228Z"
   },
   {
    "duration": 115,
    "start_time": "2022-04-26T12:31:58.285Z"
   },
   {
    "duration": 436,
    "start_time": "2022-04-26T12:31:58.403Z"
   },
   {
    "duration": 38,
    "start_time": "2022-04-26T12:31:58.841Z"
   },
   {
    "duration": 100,
    "start_time": "2022-04-26T12:31:58.881Z"
   },
   {
    "duration": 117,
    "start_time": "2022-04-26T12:31:58.983Z"
   },
   {
    "duration": 18,
    "start_time": "2022-04-26T12:31:59.104Z"
   },
   {
    "duration": 754,
    "start_time": "2022-04-26T12:31:59.124Z"
   },
   {
    "duration": 154,
    "start_time": "2022-04-26T12:31:59.880Z"
   },
   {
    "duration": 91,
    "start_time": "2022-04-26T12:32:00.036Z"
   },
   {
    "duration": 91,
    "start_time": "2022-04-26T12:32:00.129Z"
   },
   {
    "duration": 77,
    "start_time": "2022-04-26T12:32:00.222Z"
   },
   {
    "duration": 102,
    "start_time": "2022-04-26T12:32:00.301Z"
   },
   {
    "duration": 149,
    "start_time": "2022-04-26T12:32:00.405Z"
   },
   {
    "duration": 6,
    "start_time": "2022-04-26T12:32:00.558Z"
   },
   {
    "duration": 149,
    "start_time": "2022-04-26T12:32:00.566Z"
   },
   {
    "duration": 11,
    "start_time": "2022-04-26T12:32:00.717Z"
   },
   {
    "duration": 245,
    "start_time": "2022-04-26T12:32:00.730Z"
   },
   {
    "duration": 463,
    "start_time": "2022-04-26T12:32:00.977Z"
   },
   {
    "duration": 143,
    "start_time": "2022-04-26T12:32:01.452Z"
   },
   {
    "duration": 20,
    "start_time": "2022-04-26T12:32:01.598Z"
   },
   {
    "duration": 84,
    "start_time": "2022-04-26T12:32:01.621Z"
   },
   {
    "duration": 58,
    "start_time": "2022-04-26T12:32:01.707Z"
   },
   {
    "duration": 2164,
    "start_time": "2022-04-26T12:32:01.766Z"
   },
   {
    "duration": 54,
    "start_time": "2022-04-26T12:32:03.932Z"
   },
   {
    "duration": 86,
    "start_time": "2022-04-26T12:32:03.988Z"
   },
   {
    "duration": 13,
    "start_time": "2022-04-26T12:32:39.177Z"
   },
   {
    "duration": 13,
    "start_time": "2022-04-26T12:32:45.598Z"
   },
   {
    "duration": 13,
    "start_time": "2022-04-26T12:32:51.875Z"
   },
   {
    "duration": 15,
    "start_time": "2022-04-26T12:32:53.910Z"
   },
   {
    "duration": 13,
    "start_time": "2022-04-26T12:33:03.678Z"
   },
   {
    "duration": 5,
    "start_time": "2022-04-26T12:50:18.312Z"
   },
   {
    "duration": 5,
    "start_time": "2022-04-26T12:50:30.322Z"
   },
   {
    "duration": 5,
    "start_time": "2022-04-26T12:51:51.370Z"
   },
   {
    "duration": 12,
    "start_time": "2022-04-26T12:51:54.876Z"
   },
   {
    "duration": 13,
    "start_time": "2022-04-26T12:52:02.803Z"
   },
   {
    "duration": 89,
    "start_time": "2022-04-26T12:53:53.023Z"
   },
   {
    "duration": 5,
    "start_time": "2022-04-26T12:53:56.037Z"
   },
   {
    "duration": 4,
    "start_time": "2022-04-26T12:57:37.916Z"
   },
   {
    "duration": 5,
    "start_time": "2022-04-26T12:57:39.966Z"
   },
   {
    "duration": 13,
    "start_time": "2022-04-26T12:57:40.588Z"
   },
   {
    "duration": 128,
    "start_time": "2022-04-26T12:57:50.782Z"
   },
   {
    "duration": 117,
    "start_time": "2022-04-26T12:57:55.448Z"
   },
   {
    "duration": 20,
    "start_time": "2022-04-26T12:58:26.353Z"
   },
   {
    "duration": 51,
    "start_time": "2022-04-26T12:59:30.665Z"
   },
   {
    "duration": 2099,
    "start_time": "2022-04-26T12:59:36.662Z"
   },
   {
    "duration": 118,
    "start_time": "2022-04-26T13:00:07.047Z"
   },
   {
    "duration": 63,
    "start_time": "2022-04-26T13:00:09.957Z"
   },
   {
    "duration": 66,
    "start_time": "2022-04-26T13:00:23.970Z"
   },
   {
    "duration": 80,
    "start_time": "2022-04-26T13:00:25.941Z"
   },
   {
    "duration": 61,
    "start_time": "2022-04-26T13:00:48.276Z"
   },
   {
    "duration": 4,
    "start_time": "2022-04-26T13:06:21.589Z"
   },
   {
    "duration": 3,
    "start_time": "2022-04-26T13:07:31.047Z"
   },
   {
    "duration": 104,
    "start_time": "2022-04-26T13:07:31.347Z"
   },
   {
    "duration": 227,
    "start_time": "2022-04-26T13:07:35.054Z"
   },
   {
    "duration": 14,
    "start_time": "2022-04-26T13:08:07.036Z"
   },
   {
    "duration": 5766,
    "start_time": "2022-04-26T13:08:14.672Z"
   },
   {
    "duration": 0,
    "start_time": "2022-04-26T13:08:20.440Z"
   },
   {
    "duration": 55,
    "start_time": "2022-04-26T13:09:47.637Z"
   },
   {
    "duration": 73,
    "start_time": "2022-04-26T13:09:49.149Z"
   },
   {
    "duration": 349,
    "start_time": "2022-04-26T13:09:51.464Z"
   },
   {
    "duration": 51,
    "start_time": "2022-04-26T13:10:07.126Z"
   },
   {
    "duration": 4,
    "start_time": "2022-04-26T13:10:07.718Z"
   },
   {
    "duration": 316,
    "start_time": "2022-04-26T13:10:08.252Z"
   },
   {
    "duration": 92,
    "start_time": "2022-04-26T13:10:20.250Z"
   },
   {
    "duration": 48,
    "start_time": "2022-04-26T13:10:56.340Z"
   },
   {
    "duration": 251,
    "start_time": "2022-04-26T13:10:58.398Z"
   },
   {
    "duration": 66,
    "start_time": "2022-04-26T13:12:23.748Z"
   },
   {
    "duration": 77,
    "start_time": "2022-04-26T13:12:31.095Z"
   },
   {
    "duration": 75,
    "start_time": "2022-04-26T13:12:46.601Z"
   },
   {
    "duration": 67,
    "start_time": "2022-04-26T13:12:55.559Z"
   },
   {
    "duration": 4,
    "start_time": "2022-04-26T13:12:56.950Z"
   },
   {
    "duration": 24,
    "start_time": "2022-04-26T13:13:04.552Z"
   },
   {
    "duration": 4,
    "start_time": "2022-04-26T13:13:15.565Z"
   },
   {
    "duration": 27,
    "start_time": "2022-04-26T13:13:23.083Z"
   },
   {
    "duration": 87,
    "start_time": "2022-04-26T13:18:45.198Z"
   },
   {
    "duration": 83,
    "start_time": "2022-04-26T13:20:50.869Z"
   },
   {
    "duration": 6,
    "start_time": "2022-04-26T13:21:18.310Z"
   },
   {
    "duration": 74,
    "start_time": "2022-04-26T13:21:25.173Z"
   },
   {
    "duration": 73,
    "start_time": "2022-04-26T13:22:06.884Z"
   },
   {
    "duration": 13,
    "start_time": "2022-04-26T13:22:32.161Z"
   },
   {
    "duration": 13,
    "start_time": "2022-04-26T13:22:32.493Z"
   },
   {
    "duration": 9,
    "start_time": "2022-04-26T13:22:44.368Z"
   },
   {
    "duration": 9,
    "start_time": "2022-04-26T13:22:45.119Z"
   },
   {
    "duration": 28,
    "start_time": "2022-04-26T13:23:44.302Z"
   },
   {
    "duration": 4,
    "start_time": "2022-04-26T13:23:48.572Z"
   },
   {
    "duration": 49,
    "start_time": "2022-04-26T13:23:51.225Z"
   },
   {
    "duration": 10,
    "start_time": "2022-04-26T13:23:57.532Z"
   },
   {
    "duration": 5,
    "start_time": "2022-04-26T13:24:28.712Z"
   },
   {
    "duration": 6,
    "start_time": "2022-04-26T13:27:52.444Z"
   },
   {
    "duration": 6,
    "start_time": "2022-04-26T13:28:04.013Z"
   },
   {
    "duration": 56,
    "start_time": "2022-04-26T13:36:29.937Z"
   },
   {
    "duration": 67,
    "start_time": "2022-04-26T13:37:03.232Z"
   },
   {
    "duration": 67,
    "start_time": "2022-04-26T13:37:25.598Z"
   },
   {
    "duration": 3,
    "start_time": "2022-04-26T13:37:26.968Z"
   },
   {
    "duration": 11,
    "start_time": "2022-04-26T13:37:27.662Z"
   },
   {
    "duration": 10,
    "start_time": "2022-04-26T13:37:28.018Z"
   },
   {
    "duration": 8,
    "start_time": "2022-04-26T13:37:29.413Z"
   },
   {
    "duration": 5,
    "start_time": "2022-04-26T13:37:30.738Z"
   },
   {
    "duration": 1708,
    "start_time": "2022-04-26T13:37:57.781Z"
   },
   {
    "duration": 379,
    "start_time": "2022-04-26T13:37:59.491Z"
   },
   {
    "duration": 9,
    "start_time": "2022-04-26T13:37:59.873Z"
   },
   {
    "duration": 1108,
    "start_time": "2022-04-26T13:37:59.885Z"
   },
   {
    "duration": 185,
    "start_time": "2022-04-26T13:38:00.997Z"
   },
   {
    "duration": 334,
    "start_time": "2022-04-26T13:38:01.185Z"
   },
   {
    "duration": 307,
    "start_time": "2022-04-26T13:38:01.521Z"
   },
   {
    "duration": 59,
    "start_time": "2022-04-26T13:38:01.831Z"
   },
   {
    "duration": 143,
    "start_time": "2022-04-26T13:38:01.892Z"
   },
   {
    "duration": 567,
    "start_time": "2022-04-26T13:38:02.038Z"
   },
   {
    "duration": 46,
    "start_time": "2022-04-26T13:38:02.608Z"
   },
   {
    "duration": 125,
    "start_time": "2022-04-26T13:38:02.657Z"
   },
   {
    "duration": 123,
    "start_time": "2022-04-26T13:38:02.788Z"
   },
   {
    "duration": 23,
    "start_time": "2022-04-26T13:38:02.916Z"
   },
   {
    "duration": 1053,
    "start_time": "2022-04-26T13:38:02.951Z"
   },
   {
    "duration": 188,
    "start_time": "2022-04-26T13:38:04.006Z"
   },
   {
    "duration": 126,
    "start_time": "2022-04-26T13:38:04.197Z"
   },
   {
    "duration": 103,
    "start_time": "2022-04-26T13:38:04.326Z"
   },
   {
    "duration": 97,
    "start_time": "2022-04-26T13:38:04.432Z"
   },
   {
    "duration": 91,
    "start_time": "2022-04-26T13:38:04.532Z"
   },
   {
    "duration": 152,
    "start_time": "2022-04-26T13:38:04.625Z"
   },
   {
    "duration": 6,
    "start_time": "2022-04-26T13:38:04.780Z"
   },
   {
    "duration": 117,
    "start_time": "2022-04-26T13:38:04.790Z"
   },
   {
    "duration": 15,
    "start_time": "2022-04-26T13:38:04.909Z"
   },
   {
    "duration": 268,
    "start_time": "2022-04-26T13:38:04.926Z"
   },
   {
    "duration": 5,
    "start_time": "2022-04-26T13:38:05.197Z"
   },
   {
    "duration": 10,
    "start_time": "2022-04-26T13:38:05.205Z"
   },
   {
    "duration": 40,
    "start_time": "2022-04-26T13:38:05.217Z"
   },
   {
    "duration": 249,
    "start_time": "2022-04-26T13:38:05.260Z"
   },
   {
    "duration": 111,
    "start_time": "2022-04-26T13:38:05.512Z"
   },
   {
    "duration": 110,
    "start_time": "2022-04-26T13:38:05.626Z"
   },
   {
    "duration": 14,
    "start_time": "2022-04-26T13:38:05.738Z"
   },
   {
    "duration": 18,
    "start_time": "2022-04-26T13:38:05.755Z"
   },
   {
    "duration": 11,
    "start_time": "2022-04-26T13:38:05.776Z"
   },
   {
    "duration": 12,
    "start_time": "2022-04-26T13:38:05.789Z"
   },
   {
    "duration": 5,
    "start_time": "2022-04-26T13:38:05.803Z"
   },
   {
    "duration": 21,
    "start_time": "2022-04-26T13:40:35.016Z"
   },
   {
    "duration": 20,
    "start_time": "2022-04-26T13:40:40.525Z"
   },
   {
    "duration": 20,
    "start_time": "2022-04-26T13:40:49.978Z"
   },
   {
    "duration": 8,
    "start_time": "2022-04-26T13:41:22.786Z"
   },
   {
    "duration": 6,
    "start_time": "2022-04-26T13:41:24.947Z"
   },
   {
    "duration": 8,
    "start_time": "2022-04-26T13:41:29.372Z"
   },
   {
    "duration": 5,
    "start_time": "2022-04-26T13:41:30.040Z"
   },
   {
    "duration": 41,
    "start_time": "2022-04-26T13:46:09.155Z"
   },
   {
    "duration": 126,
    "start_time": "2022-04-26T13:46:26.170Z"
   },
   {
    "duration": 19,
    "start_time": "2022-04-26T13:46:43.542Z"
   },
   {
    "duration": 37,
    "start_time": "2022-04-26T13:48:07.618Z"
   },
   {
    "duration": 54,
    "start_time": "2022-04-26T13:48:11.641Z"
   },
   {
    "duration": 64,
    "start_time": "2022-04-26T13:48:17.836Z"
   },
   {
    "duration": 20,
    "start_time": "2022-04-26T13:51:33.929Z"
   },
   {
    "duration": 94,
    "start_time": "2022-04-26T13:52:56.093Z"
   },
   {
    "duration": 52,
    "start_time": "2022-04-26T13:53:00.125Z"
   },
   {
    "duration": 46,
    "start_time": "2022-04-26T13:54:02.401Z"
   },
   {
    "duration": 47,
    "start_time": "2022-04-26T13:54:19.849Z"
   },
   {
    "duration": 1634,
    "start_time": "2022-04-26T13:56:21.435Z"
   },
   {
    "duration": 1540,
    "start_time": "2022-04-26T13:56:39.336Z"
   },
   {
    "duration": 1779,
    "start_time": "2022-04-26T13:57:08.285Z"
   },
   {
    "duration": 18,
    "start_time": "2022-04-26T13:57:16.873Z"
   },
   {
    "duration": 78,
    "start_time": "2022-04-26T13:59:46.119Z"
   },
   {
    "duration": 70,
    "start_time": "2022-04-26T14:00:09.890Z"
   },
   {
    "duration": 72,
    "start_time": "2022-04-26T14:00:22.533Z"
   },
   {
    "duration": 50,
    "start_time": "2022-04-26T14:01:00.256Z"
   },
   {
    "duration": 49,
    "start_time": "2022-04-26T14:01:38.436Z"
   },
   {
    "duration": 52,
    "start_time": "2022-04-26T14:01:56.398Z"
   },
   {
    "duration": 6,
    "start_time": "2022-04-26T14:07:08.355Z"
   },
   {
    "duration": 5,
    "start_time": "2022-04-26T14:07:20.319Z"
   },
   {
    "duration": 7,
    "start_time": "2022-04-26T14:07:36.558Z"
   },
   {
    "duration": 10,
    "start_time": "2022-04-26T14:07:39.985Z"
   },
   {
    "duration": 7,
    "start_time": "2022-04-26T14:07:45.177Z"
   },
   {
    "duration": 49,
    "start_time": "2022-04-26T14:29:38.272Z"
   },
   {
    "duration": 42,
    "start_time": "2022-04-26T14:29:38.883Z"
   },
   {
    "duration": 4,
    "start_time": "2022-04-26T14:29:39.261Z"
   },
   {
    "duration": 128,
    "start_time": "2022-04-26T14:29:40.103Z"
   },
   {
    "duration": 131,
    "start_time": "2022-04-26T14:29:42.695Z"
   },
   {
    "duration": 47,
    "start_time": "2022-04-26T14:29:50.191Z"
   },
   {
    "duration": 5,
    "start_time": "2022-04-26T14:29:53.414Z"
   },
   {
    "duration": 1751,
    "start_time": "2022-04-26T14:30:50.047Z"
   },
   {
    "duration": 362,
    "start_time": "2022-04-26T14:30:51.800Z"
   },
   {
    "duration": 10,
    "start_time": "2022-04-26T14:30:52.164Z"
   },
   {
    "duration": 1049,
    "start_time": "2022-04-26T14:30:52.177Z"
   },
   {
    "duration": 175,
    "start_time": "2022-04-26T14:30:53.228Z"
   },
   {
    "duration": 313,
    "start_time": "2022-04-26T14:30:53.405Z"
   },
   {
    "duration": 185,
    "start_time": "2022-04-26T14:30:53.720Z"
   },
   {
    "duration": 58,
    "start_time": "2022-04-26T14:30:53.908Z"
   },
   {
    "duration": 108,
    "start_time": "2022-04-26T14:30:53.969Z"
   },
   {
    "duration": 441,
    "start_time": "2022-04-26T14:30:54.081Z"
   },
   {
    "duration": 37,
    "start_time": "2022-04-26T14:30:54.524Z"
   },
   {
    "duration": 105,
    "start_time": "2022-04-26T14:30:54.563Z"
   },
   {
    "duration": 111,
    "start_time": "2022-04-26T14:30:54.670Z"
   },
   {
    "duration": 18,
    "start_time": "2022-04-26T14:30:54.783Z"
   },
   {
    "duration": 739,
    "start_time": "2022-04-26T14:30:54.804Z"
   },
   {
    "duration": 152,
    "start_time": "2022-04-26T14:30:55.545Z"
   },
   {
    "duration": 95,
    "start_time": "2022-04-26T14:30:55.700Z"
   },
   {
    "duration": 99,
    "start_time": "2022-04-26T14:30:55.797Z"
   },
   {
    "duration": 58,
    "start_time": "2022-04-26T14:30:55.898Z"
   },
   {
    "duration": 77,
    "start_time": "2022-04-26T14:30:55.959Z"
   },
   {
    "duration": 138,
    "start_time": "2022-04-26T14:30:56.052Z"
   },
   {
    "duration": 5,
    "start_time": "2022-04-26T14:30:56.192Z"
   },
   {
    "duration": 147,
    "start_time": "2022-04-26T14:30:56.199Z"
   },
   {
    "duration": 12,
    "start_time": "2022-04-26T14:30:56.353Z"
   },
   {
    "duration": 209,
    "start_time": "2022-04-26T14:30:56.368Z"
   },
   {
    "duration": 5,
    "start_time": "2022-04-26T14:30:56.580Z"
   },
   {
    "duration": 8,
    "start_time": "2022-04-26T14:30:56.587Z"
   },
   {
    "duration": 270,
    "start_time": "2022-04-26T14:30:56.600Z"
   },
   {
    "duration": 0,
    "start_time": "2022-04-26T14:30:56.873Z"
   },
   {
    "duration": 0,
    "start_time": "2022-04-26T14:30:56.874Z"
   },
   {
    "duration": 0,
    "start_time": "2022-04-26T14:30:56.876Z"
   },
   {
    "duration": 0,
    "start_time": "2022-04-26T14:30:56.877Z"
   },
   {
    "duration": 0,
    "start_time": "2022-04-26T14:30:56.878Z"
   },
   {
    "duration": 0,
    "start_time": "2022-04-26T14:30:56.879Z"
   },
   {
    "duration": 0,
    "start_time": "2022-04-26T14:30:56.881Z"
   },
   {
    "duration": 0,
    "start_time": "2022-04-26T14:30:56.882Z"
   },
   {
    "duration": 0,
    "start_time": "2022-04-26T14:30:56.883Z"
   },
   {
    "duration": 0,
    "start_time": "2022-04-26T14:30:56.885Z"
   },
   {
    "duration": 0,
    "start_time": "2022-04-26T14:30:56.886Z"
   },
   {
    "duration": 0,
    "start_time": "2022-04-26T14:30:56.887Z"
   },
   {
    "duration": 0,
    "start_time": "2022-04-26T14:30:56.888Z"
   },
   {
    "duration": 0,
    "start_time": "2022-04-26T14:30:56.889Z"
   },
   {
    "duration": 0,
    "start_time": "2022-04-26T14:30:56.891Z"
   },
   {
    "duration": 0,
    "start_time": "2022-04-26T14:30:56.892Z"
   },
   {
    "duration": 0,
    "start_time": "2022-04-26T14:30:56.893Z"
   },
   {
    "duration": 12,
    "start_time": "2022-04-26T14:32:26.276Z"
   },
   {
    "duration": 126,
    "start_time": "2022-04-26T14:32:31.548Z"
   },
   {
    "duration": 115,
    "start_time": "2022-04-26T14:32:31.729Z"
   },
   {
    "duration": 19,
    "start_time": "2022-04-26T14:32:31.906Z"
   },
   {
    "duration": 64,
    "start_time": "2022-04-26T14:32:32.744Z"
   },
   {
    "duration": 44,
    "start_time": "2022-04-26T14:32:39.028Z"
   },
   {
    "duration": 69,
    "start_time": "2022-04-26T14:32:39.315Z"
   },
   {
    "duration": 43,
    "start_time": "2022-04-26T14:32:39.722Z"
   },
   {
    "duration": 68,
    "start_time": "2022-04-26T14:32:40.007Z"
   },
   {
    "duration": 49,
    "start_time": "2022-04-26T14:32:40.253Z"
   },
   {
    "duration": 6,
    "start_time": "2022-04-26T14:32:40.683Z"
   },
   {
    "duration": 5,
    "start_time": "2022-04-26T14:32:40.866Z"
   },
   {
    "duration": 6,
    "start_time": "2022-04-26T14:32:41.264Z"
   },
   {
    "duration": 4,
    "start_time": "2022-04-26T14:32:42.857Z"
   },
   {
    "duration": 7,
    "start_time": "2022-04-26T14:32:43.618Z"
   },
   {
    "duration": 7,
    "start_time": "2022-04-26T14:32:43.925Z"
   },
   {
    "duration": 8,
    "start_time": "2022-04-26T14:32:45.464Z"
   },
   {
    "duration": 6,
    "start_time": "2022-04-26T14:32:46.155Z"
   },
   {
    "duration": 15,
    "start_time": "2022-04-26T14:38:59.909Z"
   },
   {
    "duration": 19,
    "start_time": "2022-04-26T14:39:18.891Z"
   },
   {
    "duration": 7,
    "start_time": "2022-04-26T14:39:36.040Z"
   },
   {
    "duration": 5,
    "start_time": "2022-04-26T14:40:19.752Z"
   },
   {
    "duration": 7,
    "start_time": "2022-04-26T14:40:29.392Z"
   },
   {
    "duration": 20,
    "start_time": "2022-04-26T14:41:13.777Z"
   },
   {
    "duration": 8,
    "start_time": "2022-04-26T14:41:17.369Z"
   },
   {
    "duration": 6,
    "start_time": "2022-04-26T14:42:17.893Z"
   },
   {
    "duration": 1610,
    "start_time": "2022-04-26T16:49:05.790Z"
   },
   {
    "duration": 6,
    "start_time": "2022-04-26T16:49:09.123Z"
   },
   {
    "duration": 7,
    "start_time": "2022-04-26T16:49:13.147Z"
   },
   {
    "duration": 38,
    "start_time": "2022-04-26T16:51:16.271Z"
   },
   {
    "duration": 71,
    "start_time": "2022-04-26T16:56:59.863Z"
   },
   {
    "duration": 37,
    "start_time": "2022-04-26T16:57:52.811Z"
   },
   {
    "duration": 41,
    "start_time": "2022-04-26T16:58:07.703Z"
   },
   {
    "duration": 4,
    "start_time": "2022-04-26T17:00:11.840Z"
   },
   {
    "duration": 15,
    "start_time": "2022-04-26T17:04:27.501Z"
   },
   {
    "duration": 7,
    "start_time": "2022-04-26T17:04:45.423Z"
   },
   {
    "duration": 18,
    "start_time": "2022-04-26T17:04:49.616Z"
   },
   {
    "duration": 9,
    "start_time": "2022-04-26T17:05:05.329Z"
   },
   {
    "duration": 2424,
    "start_time": "2022-04-27T08:36:09.002Z"
   },
   {
    "duration": 390,
    "start_time": "2022-04-27T08:36:11.430Z"
   },
   {
    "duration": 10,
    "start_time": "2022-04-27T08:36:11.822Z"
   },
   {
    "duration": 1180,
    "start_time": "2022-04-27T08:36:11.837Z"
   },
   {
    "duration": 155,
    "start_time": "2022-04-27T08:36:13.019Z"
   },
   {
    "duration": 403,
    "start_time": "2022-04-27T08:36:13.176Z"
   },
   {
    "duration": 206,
    "start_time": "2022-04-27T08:36:13.601Z"
   },
   {
    "duration": 44,
    "start_time": "2022-04-27T08:36:13.810Z"
   },
   {
    "duration": 123,
    "start_time": "2022-04-27T08:36:13.857Z"
   },
   {
    "duration": 465,
    "start_time": "2022-04-27T08:36:13.984Z"
   },
   {
    "duration": 47,
    "start_time": "2022-04-27T08:36:14.452Z"
   },
   {
    "duration": 85,
    "start_time": "2022-04-27T08:36:14.502Z"
   },
   {
    "duration": 115,
    "start_time": "2022-04-27T08:36:14.600Z"
   },
   {
    "duration": 31,
    "start_time": "2022-04-27T08:36:14.717Z"
   },
   {
    "duration": 1017,
    "start_time": "2022-04-27T08:36:14.751Z"
   },
   {
    "duration": 190,
    "start_time": "2022-04-27T08:36:15.771Z"
   },
   {
    "duration": 101,
    "start_time": "2022-04-27T08:36:15.963Z"
   },
   {
    "duration": 101,
    "start_time": "2022-04-27T08:36:16.067Z"
   },
   {
    "duration": 95,
    "start_time": "2022-04-27T08:36:16.170Z"
   },
   {
    "duration": 98,
    "start_time": "2022-04-27T08:36:16.267Z"
   },
   {
    "duration": 161,
    "start_time": "2022-04-27T08:36:16.367Z"
   },
   {
    "duration": 9,
    "start_time": "2022-04-27T08:36:16.530Z"
   },
   {
    "duration": 120,
    "start_time": "2022-04-27T08:36:16.542Z"
   },
   {
    "duration": 15,
    "start_time": "2022-04-27T08:36:16.665Z"
   },
   {
    "duration": 342,
    "start_time": "2022-04-27T08:36:16.698Z"
   },
   {
    "duration": 4,
    "start_time": "2022-04-27T08:36:17.043Z"
   },
   {
    "duration": 10,
    "start_time": "2022-04-27T08:36:17.049Z"
   },
   {
    "duration": 56,
    "start_time": "2022-04-27T08:36:17.065Z"
   },
   {
    "duration": 249,
    "start_time": "2022-04-27T08:36:17.130Z"
   },
   {
    "duration": 157,
    "start_time": "2022-04-27T08:36:17.382Z"
   },
   {
    "duration": 20,
    "start_time": "2022-04-27T08:36:17.542Z"
   },
   {
    "duration": 108,
    "start_time": "2022-04-27T08:36:17.565Z"
   },
   {
    "duration": 75,
    "start_time": "2022-04-27T08:36:17.675Z"
   },
   {
    "duration": 87,
    "start_time": "2022-04-27T08:36:17.753Z"
   },
   {
    "duration": 87,
    "start_time": "2022-04-27T08:36:17.843Z"
   },
   {
    "duration": 91,
    "start_time": "2022-04-27T08:36:17.934Z"
   },
   {
    "duration": 53,
    "start_time": "2022-04-27T08:36:18.027Z"
   },
   {
    "duration": 52,
    "start_time": "2022-04-27T08:36:18.083Z"
   },
   {
    "duration": 36,
    "start_time": "2022-04-27T08:36:18.138Z"
   },
   {
    "duration": 17,
    "start_time": "2022-04-27T08:36:18.177Z"
   },
   {
    "duration": 248,
    "start_time": "2022-04-27T08:36:18.205Z"
   },
   {
    "duration": 25,
    "start_time": "2022-04-27T08:36:24.111Z"
   },
   {
    "duration": 28,
    "start_time": "2022-04-27T08:37:25.751Z"
   },
   {
    "duration": 22,
    "start_time": "2022-04-27T08:39:35.456Z"
   },
   {
    "duration": 72,
    "start_time": "2022-04-27T08:39:41.134Z"
   },
   {
    "duration": 33,
    "start_time": "2022-04-27T08:40:19.427Z"
   },
   {
    "duration": 29,
    "start_time": "2022-04-27T08:40:45.246Z"
   },
   {
    "duration": 17,
    "start_time": "2022-04-27T08:41:29.254Z"
   },
   {
    "duration": 8,
    "start_time": "2022-04-27T08:41:55.511Z"
   },
   {
    "duration": 9,
    "start_time": "2022-04-27T08:41:58.561Z"
   },
   {
    "duration": 46,
    "start_time": "2022-04-27T08:43:44.620Z"
   },
   {
    "duration": 42,
    "start_time": "2022-04-27T08:43:53.431Z"
   },
   {
    "duration": 52,
    "start_time": "2022-04-27T08:44:00.676Z"
   },
   {
    "duration": 21,
    "start_time": "2022-04-27T08:57:12.467Z"
   },
   {
    "duration": 4,
    "start_time": "2022-04-27T08:57:16.721Z"
   },
   {
    "duration": 4,
    "start_time": "2022-04-27T08:57:16.920Z"
   },
   {
    "duration": 4,
    "start_time": "2022-04-27T08:57:17.085Z"
   },
   {
    "duration": 3,
    "start_time": "2022-04-27T08:57:17.201Z"
   },
   {
    "duration": 11,
    "start_time": "2022-04-27T08:57:17.837Z"
   },
   {
    "duration": 9,
    "start_time": "2022-04-27T08:58:06.877Z"
   },
   {
    "duration": 12,
    "start_time": "2022-04-27T08:58:09.365Z"
   },
   {
    "duration": 11,
    "start_time": "2022-04-27T08:58:49.217Z"
   },
   {
    "duration": 10,
    "start_time": "2022-04-27T08:59:44.465Z"
   },
   {
    "duration": 5,
    "start_time": "2022-04-27T09:08:58.745Z"
   },
   {
    "duration": 4,
    "start_time": "2022-04-27T09:08:58.879Z"
   },
   {
    "duration": 4,
    "start_time": "2022-04-27T09:08:59.108Z"
   },
   {
    "duration": 5,
    "start_time": "2022-04-27T09:08:59.648Z"
   },
   {
    "duration": 10,
    "start_time": "2022-04-27T11:16:23.071Z"
   },
   {
    "duration": 9,
    "start_time": "2022-04-27T11:16:26.217Z"
   },
   {
    "duration": 10,
    "start_time": "2022-04-27T11:17:07.489Z"
   },
   {
    "duration": 11,
    "start_time": "2022-04-27T11:17:24.132Z"
   },
   {
    "duration": 11,
    "start_time": "2022-04-27T11:17:35.476Z"
   },
   {
    "duration": 9,
    "start_time": "2022-04-27T11:18:53.667Z"
   },
   {
    "duration": 10,
    "start_time": "2022-04-27T11:19:09.655Z"
   },
   {
    "duration": 10,
    "start_time": "2022-04-27T11:19:30.356Z"
   },
   {
    "duration": 9,
    "start_time": "2022-04-27T11:20:29.809Z"
   },
   {
    "duration": 10,
    "start_time": "2022-04-27T11:20:32.149Z"
   },
   {
    "duration": 11,
    "start_time": "2022-04-27T11:20:39.948Z"
   },
   {
    "duration": 9,
    "start_time": "2022-04-27T11:20:40.413Z"
   },
   {
    "duration": 10,
    "start_time": "2022-04-27T11:20:45.305Z"
   },
   {
    "duration": 10,
    "start_time": "2022-04-27T11:20:45.669Z"
   },
   {
    "duration": 11,
    "start_time": "2022-04-27T11:20:46.136Z"
   },
   {
    "duration": 10,
    "start_time": "2022-04-27T11:20:46.359Z"
   },
   {
    "duration": 11,
    "start_time": "2022-04-27T11:20:46.548Z"
   },
   {
    "duration": 9,
    "start_time": "2022-04-27T11:20:54.858Z"
   },
   {
    "duration": 10,
    "start_time": "2022-04-27T11:20:55.317Z"
   },
   {
    "duration": 9,
    "start_time": "2022-04-27T11:33:48.073Z"
   },
   {
    "duration": 11,
    "start_time": "2022-04-27T11:33:48.283Z"
   },
   {
    "duration": 11,
    "start_time": "2022-04-27T11:33:48.474Z"
   },
   {
    "duration": 11,
    "start_time": "2022-04-27T11:33:49.266Z"
   },
   {
    "duration": 10,
    "start_time": "2022-04-27T11:33:50.131Z"
   },
   {
    "duration": 9,
    "start_time": "2022-04-27T11:34:48.687Z"
   },
   {
    "duration": 10,
    "start_time": "2022-04-27T11:34:49.493Z"
   },
   {
    "duration": 10,
    "start_time": "2022-04-27T11:34:49.750Z"
   },
   {
    "duration": 9,
    "start_time": "2022-04-27T11:34:50.064Z"
   },
   {
    "duration": 8,
    "start_time": "2022-04-27T11:34:51.248Z"
   },
   {
    "duration": 8,
    "start_time": "2022-04-27T11:34:51.676Z"
   },
   {
    "duration": 9,
    "start_time": "2022-04-27T11:34:52.136Z"
   },
   {
    "duration": 9,
    "start_time": "2022-04-27T11:34:52.852Z"
   },
   {
    "duration": 344,
    "start_time": "2022-04-27T11:36:08.393Z"
   },
   {
    "duration": 5,
    "start_time": "2022-04-27T11:38:29.683Z"
   },
   {
    "duration": 16,
    "start_time": "2022-04-27T11:38:34.117Z"
   },
   {
    "duration": 16,
    "start_time": "2022-04-27T11:38:59.763Z"
   },
   {
    "duration": 10,
    "start_time": "2022-04-27T11:39:50.847Z"
   },
   {
    "duration": 33,
    "start_time": "2022-04-27T11:39:59.035Z"
   },
   {
    "duration": 33,
    "start_time": "2022-04-27T11:40:00.048Z"
   },
   {
    "duration": 36,
    "start_time": "2022-04-27T11:40:00.326Z"
   },
   {
    "duration": 2356,
    "start_time": "2022-04-27T11:40:46.311Z"
   },
   {
    "duration": 344,
    "start_time": "2022-04-27T11:40:48.670Z"
   },
   {
    "duration": 9,
    "start_time": "2022-04-27T11:40:49.016Z"
   },
   {
    "duration": 1007,
    "start_time": "2022-04-27T11:40:49.028Z"
   },
   {
    "duration": 158,
    "start_time": "2022-04-27T11:40:50.038Z"
   },
   {
    "duration": 308,
    "start_time": "2022-04-27T11:40:50.198Z"
   },
   {
    "duration": 184,
    "start_time": "2022-04-27T11:40:50.509Z"
   },
   {
    "duration": 40,
    "start_time": "2022-04-27T11:40:50.695Z"
   },
   {
    "duration": 111,
    "start_time": "2022-04-27T11:40:50.738Z"
   },
   {
    "duration": 401,
    "start_time": "2022-04-27T11:40:50.855Z"
   },
   {
    "duration": 36,
    "start_time": "2022-04-27T11:40:51.259Z"
   },
   {
    "duration": 78,
    "start_time": "2022-04-27T11:40:51.298Z"
   },
   {
    "duration": 105,
    "start_time": "2022-04-27T11:40:51.394Z"
   },
   {
    "duration": 20,
    "start_time": "2022-04-27T11:40:51.502Z"
   },
   {
    "duration": 737,
    "start_time": "2022-04-27T11:40:51.524Z"
   },
   {
    "duration": 129,
    "start_time": "2022-04-27T11:40:52.264Z"
   },
   {
    "duration": 78,
    "start_time": "2022-04-27T11:40:52.395Z"
   },
   {
    "duration": 126,
    "start_time": "2022-04-27T11:40:52.475Z"
   },
   {
    "duration": 93,
    "start_time": "2022-04-27T11:40:52.603Z"
   },
   {
    "duration": 73,
    "start_time": "2022-04-27T11:40:52.698Z"
   },
   {
    "duration": 151,
    "start_time": "2022-04-27T11:40:52.774Z"
   },
   {
    "duration": 6,
    "start_time": "2022-04-27T11:40:52.927Z"
   },
   {
    "duration": 109,
    "start_time": "2022-04-27T11:40:52.935Z"
   },
   {
    "duration": 12,
    "start_time": "2022-04-27T11:40:53.046Z"
   },
   {
    "duration": 239,
    "start_time": "2022-04-27T11:40:53.060Z"
   },
   {
    "duration": 5,
    "start_time": "2022-04-27T11:40:53.301Z"
   },
   {
    "duration": 11,
    "start_time": "2022-04-27T11:40:53.308Z"
   },
   {
    "duration": 13,
    "start_time": "2022-04-27T11:40:53.325Z"
   },
   {
    "duration": 269,
    "start_time": "2022-04-27T11:40:53.341Z"
   },
   {
    "duration": 131,
    "start_time": "2022-04-27T11:40:53.612Z"
   },
   {
    "duration": 15,
    "start_time": "2022-04-27T11:40:53.746Z"
   },
   {
    "duration": 85,
    "start_time": "2022-04-27T11:40:53.764Z"
   },
   {
    "duration": 64,
    "start_time": "2022-04-27T11:40:53.851Z"
   },
   {
    "duration": 82,
    "start_time": "2022-04-27T11:40:53.917Z"
   },
   {
    "duration": 45,
    "start_time": "2022-04-27T11:40:54.001Z"
   },
   {
    "duration": 89,
    "start_time": "2022-04-27T11:40:54.048Z"
   },
   {
    "duration": 59,
    "start_time": "2022-04-27T11:40:54.139Z"
   },
   {
    "duration": 29,
    "start_time": "2022-04-27T11:40:54.200Z"
   },
   {
    "duration": 18,
    "start_time": "2022-04-27T11:40:54.231Z"
   },
   {
    "duration": 63,
    "start_time": "2022-04-27T11:40:54.251Z"
   },
   {
    "duration": 33,
    "start_time": "2022-04-27T11:40:54.316Z"
   },
   {
    "duration": 59,
    "start_time": "2022-04-27T11:40:54.351Z"
   },
   {
    "duration": 4,
    "start_time": "2022-04-27T11:40:54.413Z"
   },
   {
    "duration": 8,
    "start_time": "2022-04-27T11:40:54.419Z"
   },
   {
    "duration": 11,
    "start_time": "2022-04-27T11:40:54.429Z"
   },
   {
    "duration": 10,
    "start_time": "2022-04-27T11:40:54.442Z"
   },
   {
    "duration": 6,
    "start_time": "2022-04-27T11:40:54.454Z"
   },
   {
    "duration": 32,
    "start_time": "2022-04-27T11:40:54.463Z"
   },
   {
    "duration": 11,
    "start_time": "2022-04-27T11:40:54.497Z"
   },
   {
    "duration": 10,
    "start_time": "2022-04-27T11:40:54.511Z"
   },
   {
    "duration": 10,
    "start_time": "2022-04-27T11:40:54.523Z"
   },
   {
    "duration": 10,
    "start_time": "2022-04-27T11:40:54.535Z"
   },
   {
    "duration": 57,
    "start_time": "2022-04-27T11:40:54.547Z"
   },
   {
    "duration": 10,
    "start_time": "2022-04-27T11:40:54.607Z"
   },
   {
    "duration": 9,
    "start_time": "2022-04-27T11:40:54.619Z"
   },
   {
    "duration": 16,
    "start_time": "2022-04-27T11:40:54.630Z"
   },
   {
    "duration": 9,
    "start_time": "2022-04-27T11:40:54.648Z"
   },
   {
    "duration": 21,
    "start_time": "2022-04-27T11:40:54.694Z"
   },
   {
    "duration": 20,
    "start_time": "2022-04-27T11:40:54.718Z"
   },
   {
    "duration": 9,
    "start_time": "2022-04-27T11:40:54.740Z"
   },
   {
    "duration": 3,
    "start_time": "2022-04-27T11:41:32.147Z"
   },
   {
    "duration": 3,
    "start_time": "2022-04-27T11:41:40.358Z"
   },
   {
    "duration": 32,
    "start_time": "2022-04-27T11:41:40.964Z"
   },
   {
    "duration": 38,
    "start_time": "2022-04-27T11:41:41.662Z"
   },
   {
    "duration": 41,
    "start_time": "2022-04-27T11:41:41.992Z"
   },
   {
    "duration": 5,
    "start_time": "2022-04-27T11:42:02.605Z"
   },
   {
    "duration": 41,
    "start_time": "2022-04-27T11:42:02.877Z"
   },
   {
    "duration": 35,
    "start_time": "2022-04-27T11:42:03.068Z"
   },
   {
    "duration": 34,
    "start_time": "2022-04-27T11:42:03.225Z"
   },
   {
    "duration": 4,
    "start_time": "2022-04-27T11:42:03.351Z"
   },
   {
    "duration": 1767,
    "start_time": "2022-04-27T11:42:14.762Z"
   },
   {
    "duration": 362,
    "start_time": "2022-04-27T11:42:16.532Z"
   },
   {
    "duration": 9,
    "start_time": "2022-04-27T11:42:16.896Z"
   },
   {
    "duration": 1007,
    "start_time": "2022-04-27T11:42:16.908Z"
   },
   {
    "duration": 160,
    "start_time": "2022-04-27T11:42:17.917Z"
   },
   {
    "duration": 345,
    "start_time": "2022-04-27T11:42:18.080Z"
   },
   {
    "duration": 195,
    "start_time": "2022-04-27T11:42:18.427Z"
   },
   {
    "duration": 39,
    "start_time": "2022-04-27T11:42:18.625Z"
   },
   {
    "duration": 105,
    "start_time": "2022-04-27T11:42:18.667Z"
   },
   {
    "duration": 385,
    "start_time": "2022-04-27T11:42:18.774Z"
   },
   {
    "duration": 23,
    "start_time": "2022-04-27T11:42:19.780Z"
   },
   {
    "duration": 78,
    "start_time": "2022-04-27T11:42:20.331Z"
   },
   {
    "duration": 91,
    "start_time": "2022-04-27T11:42:21.517Z"
   },
   {
    "duration": 20,
    "start_time": "2022-04-27T11:42:21.971Z"
   },
   {
    "duration": 751,
    "start_time": "2022-04-27T11:42:22.531Z"
   },
   {
    "duration": 137,
    "start_time": "2022-04-27T11:42:23.285Z"
   },
   {
    "duration": 112,
    "start_time": "2022-04-27T11:42:23.424Z"
   },
   {
    "duration": 66,
    "start_time": "2022-04-27T11:42:26.492Z"
   },
   {
    "duration": 51,
    "start_time": "2022-04-27T11:42:29.977Z"
   },
   {
    "duration": 74,
    "start_time": "2022-04-27T11:42:30.346Z"
   },
   {
    "duration": 128,
    "start_time": "2022-04-27T11:42:31.221Z"
   },
   {
    "duration": 7,
    "start_time": "2022-04-27T11:42:31.477Z"
   },
   {
    "duration": 77,
    "start_time": "2022-04-27T11:42:32.041Z"
   },
   {
    "duration": 13,
    "start_time": "2022-04-27T11:42:32.910Z"
   },
   {
    "duration": 218,
    "start_time": "2022-04-27T11:42:33.254Z"
   },
   {
    "duration": 5,
    "start_time": "2022-04-27T11:42:33.859Z"
   },
   {
    "duration": 5,
    "start_time": "2022-04-27T11:42:34.003Z"
   },
   {
    "duration": 14,
    "start_time": "2022-04-27T11:42:34.117Z"
   },
   {
    "duration": 117,
    "start_time": "2022-04-27T11:42:35.417Z"
   },
   {
    "duration": 114,
    "start_time": "2022-04-27T11:42:35.557Z"
   },
   {
    "duration": 14,
    "start_time": "2022-04-27T11:42:35.871Z"
   },
   {
    "duration": 64,
    "start_time": "2022-04-27T11:42:36.316Z"
   },
   {
    "duration": 41,
    "start_time": "2022-04-27T11:42:36.538Z"
   },
   {
    "duration": 57,
    "start_time": "2022-04-27T11:42:36.795Z"
   },
   {
    "duration": 62,
    "start_time": "2022-04-27T11:42:37.048Z"
   },
   {
    "duration": 101,
    "start_time": "2022-04-27T11:42:37.698Z"
   },
   {
    "duration": 50,
    "start_time": "2022-04-27T11:42:37.942Z"
   },
   {
    "duration": 31,
    "start_time": "2022-04-27T11:42:38.551Z"
   },
   {
    "duration": 16,
    "start_time": "2022-04-27T11:42:38.722Z"
   },
   {
    "duration": 4,
    "start_time": "2022-04-27T11:42:39.431Z"
   },
   {
    "duration": 41,
    "start_time": "2022-04-27T11:42:39.658Z"
   },
   {
    "duration": 47,
    "start_time": "2022-04-27T11:42:39.997Z"
   },
   {
    "duration": 36,
    "start_time": "2022-04-27T11:42:40.251Z"
   },
   {
    "duration": 4,
    "start_time": "2022-04-27T11:42:40.571Z"
   },
   {
    "duration": 5,
    "start_time": "2022-04-27T11:43:30.386Z"
   },
   {
    "duration": 4,
    "start_time": "2022-04-27T11:43:30.757Z"
   },
   {
    "duration": 6,
    "start_time": "2022-04-27T11:43:31.065Z"
   },
   {
    "duration": 35,
    "start_time": "2022-04-27T11:43:35.951Z"
   },
   {
    "duration": 36,
    "start_time": "2022-04-27T11:43:39.661Z"
   },
   {
    "duration": 41,
    "start_time": "2022-04-27T11:43:42.538Z"
   },
   {
    "duration": 6,
    "start_time": "2022-04-27T11:43:45.191Z"
   },
   {
    "duration": 5,
    "start_time": "2022-04-27T11:46:34.890Z"
   },
   {
    "duration": 5,
    "start_time": "2022-04-27T11:46:35.360Z"
   },
   {
    "duration": 4,
    "start_time": "2022-04-27T11:46:35.723Z"
   },
   {
    "duration": 4,
    "start_time": "2022-04-27T11:46:35.865Z"
   },
   {
    "duration": 5,
    "start_time": "2022-04-27T11:46:36.012Z"
   },
   {
    "duration": 10,
    "start_time": "2022-04-27T11:47:18.355Z"
   },
   {
    "duration": 9,
    "start_time": "2022-04-27T11:47:58.034Z"
   },
   {
    "duration": 163,
    "start_time": "2022-04-27T11:48:29.755Z"
   },
   {
    "duration": 9,
    "start_time": "2022-04-27T11:48:46.134Z"
   },
   {
    "duration": 11,
    "start_time": "2022-04-27T11:49:14.626Z"
   },
   {
    "duration": 282,
    "start_time": "2022-04-27T11:49:37.313Z"
   },
   {
    "duration": 4,
    "start_time": "2022-04-27T12:27:58.075Z"
   },
   {
    "duration": 51,
    "start_time": "2022-04-27T12:28:02.412Z"
   },
   {
    "duration": 42,
    "start_time": "2022-04-27T12:28:02.790Z"
   },
   {
    "duration": 44,
    "start_time": "2022-04-27T12:28:03.047Z"
   },
   {
    "duration": 6,
    "start_time": "2022-04-27T12:28:03.335Z"
   },
   {
    "duration": 6,
    "start_time": "2022-04-27T12:28:03.998Z"
   },
   {
    "duration": 4,
    "start_time": "2022-04-27T12:28:04.188Z"
   },
   {
    "duration": 6,
    "start_time": "2022-04-27T12:28:04.368Z"
   },
   {
    "duration": 5,
    "start_time": "2022-04-27T12:28:04.557Z"
   },
   {
    "duration": 12,
    "start_time": "2022-04-27T12:28:07.965Z"
   },
   {
    "duration": 9,
    "start_time": "2022-04-27T12:28:09.780Z"
   },
   {
    "duration": 12,
    "start_time": "2022-04-27T12:28:11.001Z"
   },
   {
    "duration": 9,
    "start_time": "2022-04-27T12:28:11.949Z"
   },
   {
    "duration": 13,
    "start_time": "2022-04-27T12:28:14.512Z"
   },
   {
    "duration": 12,
    "start_time": "2022-04-27T12:28:16.215Z"
   },
   {
    "duration": 9,
    "start_time": "2022-04-27T12:28:17.274Z"
   },
   {
    "duration": 10,
    "start_time": "2022-04-27T12:28:34.808Z"
   },
   {
    "duration": 9,
    "start_time": "2022-04-27T12:28:35.435Z"
   },
   {
    "duration": 9,
    "start_time": "2022-04-27T12:28:35.696Z"
   },
   {
    "duration": 12,
    "start_time": "2022-04-27T12:28:35.957Z"
   },
   {
    "duration": 11,
    "start_time": "2022-04-27T12:28:36.206Z"
   },
   {
    "duration": 11,
    "start_time": "2022-04-27T12:28:36.623Z"
   },
   {
    "duration": 10,
    "start_time": "2022-04-27T12:28:36.748Z"
   },
   {
    "duration": 11,
    "start_time": "2022-04-27T12:28:36.884Z"
   },
   {
    "duration": 9,
    "start_time": "2022-04-27T12:28:37.037Z"
   },
   {
    "duration": 12,
    "start_time": "2022-04-27T12:28:37.162Z"
   },
   {
    "duration": 10,
    "start_time": "2022-04-27T12:28:47.497Z"
   },
   {
    "duration": 10,
    "start_time": "2022-04-27T12:28:48.991Z"
   },
   {
    "duration": 11,
    "start_time": "2022-04-27T12:28:49.872Z"
   },
   {
    "duration": 10,
    "start_time": "2022-04-27T12:28:55.950Z"
   },
   {
    "duration": 4,
    "start_time": "2022-04-27T12:35:09.656Z"
   },
   {
    "duration": 40,
    "start_time": "2022-04-27T12:35:09.662Z"
   },
   {
    "duration": 36,
    "start_time": "2022-04-27T12:35:09.704Z"
   },
   {
    "duration": 55,
    "start_time": "2022-04-27T12:35:09.742Z"
   },
   {
    "duration": 5,
    "start_time": "2022-04-27T12:35:09.800Z"
   },
   {
    "duration": 16,
    "start_time": "2022-04-27T12:35:09.807Z"
   },
   {
    "duration": 10,
    "start_time": "2022-04-27T12:35:09.825Z"
   },
   {
    "duration": 13,
    "start_time": "2022-04-27T12:35:09.837Z"
   },
   {
    "duration": 10,
    "start_time": "2022-04-27T12:35:09.852Z"
   },
   {
    "duration": 38,
    "start_time": "2022-04-27T12:35:09.864Z"
   },
   {
    "duration": 12,
    "start_time": "2022-04-27T12:35:09.904Z"
   },
   {
    "duration": 9,
    "start_time": "2022-04-27T12:35:11.082Z"
   },
   {
    "duration": 8,
    "start_time": "2022-04-27T12:35:12.559Z"
   },
   {
    "duration": 9,
    "start_time": "2022-04-27T12:35:14.753Z"
   },
   {
    "duration": 9,
    "start_time": "2022-04-27T12:35:16.550Z"
   },
   {
    "duration": 10,
    "start_time": "2022-04-27T12:35:18.827Z"
   },
   {
    "duration": 9,
    "start_time": "2022-04-27T12:35:24.882Z"
   },
   {
    "duration": 5,
    "start_time": "2022-04-27T12:35:32.455Z"
   },
   {
    "duration": 35,
    "start_time": "2022-04-27T12:35:32.816Z"
   },
   {
    "duration": 33,
    "start_time": "2022-04-27T12:35:32.942Z"
   },
   {
    "duration": 40,
    "start_time": "2022-04-27T12:35:33.104Z"
   },
   {
    "duration": 6,
    "start_time": "2022-04-27T12:35:33.239Z"
   },
   {
    "duration": 4,
    "start_time": "2022-04-27T12:35:33.494Z"
   },
   {
    "duration": 4,
    "start_time": "2022-04-27T12:35:33.619Z"
   },
   {
    "duration": 4,
    "start_time": "2022-04-27T12:35:33.726Z"
   },
   {
    "duration": 4,
    "start_time": "2022-04-27T12:35:34.111Z"
   },
   {
    "duration": 10,
    "start_time": "2022-04-27T12:35:34.532Z"
   },
   {
    "duration": 9,
    "start_time": "2022-04-27T12:35:34.864Z"
   },
   {
    "duration": 10,
    "start_time": "2022-04-27T12:35:35.116Z"
   },
   {
    "duration": 9,
    "start_time": "2022-04-27T12:35:35.470Z"
   },
   {
    "duration": 10,
    "start_time": "2022-04-27T12:35:36.790Z"
   },
   {
    "duration": 9,
    "start_time": "2022-04-27T12:35:37.979Z"
   },
   {
    "duration": 10,
    "start_time": "2022-04-27T12:35:39.795Z"
   },
   {
    "duration": 10,
    "start_time": "2022-04-27T12:35:41.534Z"
   },
   {
    "duration": 11,
    "start_time": "2022-04-27T12:35:42.667Z"
   },
   {
    "duration": 9,
    "start_time": "2022-04-27T12:35:43.007Z"
   },
   {
    "duration": 10,
    "start_time": "2022-04-27T12:35:43.508Z"
   },
   {
    "duration": 10,
    "start_time": "2022-04-27T12:35:43.831Z"
   },
   {
    "duration": 4,
    "start_time": "2022-04-27T12:38:10.161Z"
   },
   {
    "duration": 38,
    "start_time": "2022-04-27T12:38:10.168Z"
   },
   {
    "duration": 32,
    "start_time": "2022-04-27T12:38:10.208Z"
   },
   {
    "duration": 51,
    "start_time": "2022-04-27T12:38:10.243Z"
   },
   {
    "duration": 5,
    "start_time": "2022-04-27T12:38:10.347Z"
   },
   {
    "duration": 3,
    "start_time": "2022-04-27T12:38:10.600Z"
   },
   {
    "duration": 4,
    "start_time": "2022-04-27T12:38:10.713Z"
   },
   {
    "duration": 3,
    "start_time": "2022-04-27T12:38:10.845Z"
   },
   {
    "duration": 4,
    "start_time": "2022-04-27T12:38:10.947Z"
   },
   {
    "duration": 10,
    "start_time": "2022-04-27T12:38:11.306Z"
   },
   {
    "duration": 9,
    "start_time": "2022-04-27T12:38:11.703Z"
   },
   {
    "duration": 10,
    "start_time": "2022-04-27T12:38:12.478Z"
   },
   {
    "duration": 10,
    "start_time": "2022-04-27T12:38:12.491Z"
   },
   {
    "duration": 10,
    "start_time": "2022-04-27T12:38:13.144Z"
   },
   {
    "duration": 10,
    "start_time": "2022-04-27T12:38:13.405Z"
   },
   {
    "duration": 11,
    "start_time": "2022-04-27T12:38:15.136Z"
   },
   {
    "duration": 17,
    "start_time": "2022-04-27T12:38:15.149Z"
   },
   {
    "duration": 17,
    "start_time": "2022-04-27T12:38:15.168Z"
   },
   {
    "duration": 12,
    "start_time": "2022-04-27T12:38:15.187Z"
   },
   {
    "duration": 19,
    "start_time": "2022-04-27T12:38:15.201Z"
   },
   {
    "duration": 9,
    "start_time": "2022-04-27T12:38:15.410Z"
   },
   {
    "duration": 9,
    "start_time": "2022-04-27T12:38:16.011Z"
   },
   {
    "duration": 674,
    "start_time": "2022-04-27T12:41:56.079Z"
   },
   {
    "duration": 657,
    "start_time": "2022-04-27T12:43:00.510Z"
   },
   {
    "duration": 537,
    "start_time": "2022-04-27T12:43:09.645Z"
   },
   {
    "duration": 496,
    "start_time": "2022-04-27T12:43:20.877Z"
   },
   {
    "duration": 472,
    "start_time": "2022-04-27T12:43:26.848Z"
   },
   {
    "duration": 546,
    "start_time": "2022-04-27T12:43:30.897Z"
   },
   {
    "duration": 79,
    "start_time": "2022-04-27T12:54:23.905Z"
   },
   {
    "duration": 1741,
    "start_time": "2022-04-27T12:55:07.864Z"
   },
   {
    "duration": 387,
    "start_time": "2022-04-27T12:55:09.607Z"
   },
   {
    "duration": 9,
    "start_time": "2022-04-27T12:55:09.996Z"
   },
   {
    "duration": 1207,
    "start_time": "2022-04-27T12:55:10.007Z"
   },
   {
    "duration": 147,
    "start_time": "2022-04-27T12:55:13.921Z"
   },
   {
    "duration": 360,
    "start_time": "2022-04-27T12:55:14.072Z"
   },
   {
    "duration": 163,
    "start_time": "2022-04-27T12:55:17.405Z"
   },
   {
    "duration": 41,
    "start_time": "2022-04-27T12:55:19.469Z"
   },
   {
    "duration": 90,
    "start_time": "2022-04-27T12:55:19.651Z"
   },
   {
    "duration": 380,
    "start_time": "2022-04-27T12:55:20.346Z"
   },
   {
    "duration": 27,
    "start_time": "2022-04-27T12:55:21.813Z"
   },
   {
    "duration": 79,
    "start_time": "2022-04-27T12:55:27.727Z"
   },
   {
    "duration": 95,
    "start_time": "2022-04-27T12:55:30.574Z"
   },
   {
    "duration": 20,
    "start_time": "2022-04-27T12:55:32.420Z"
   },
   {
    "duration": 723,
    "start_time": "2022-04-27T12:55:35.727Z"
   },
   {
    "duration": 126,
    "start_time": "2022-04-27T12:55:37.789Z"
   },
   {
    "duration": 89,
    "start_time": "2022-04-27T12:55:40.156Z"
   },
   {
    "duration": 67,
    "start_time": "2022-04-27T12:55:41.805Z"
   },
   {
    "duration": 67,
    "start_time": "2022-04-27T12:56:53.947Z"
   },
   {
    "duration": 50,
    "start_time": "2022-04-27T12:56:58.635Z"
   },
   {
    "duration": 69,
    "start_time": "2022-04-27T12:56:59.473Z"
   },
   {
    "duration": 127,
    "start_time": "2022-04-27T12:57:00.921Z"
   },
   {
    "duration": 7,
    "start_time": "2022-04-27T12:57:01.653Z"
   },
   {
    "duration": 80,
    "start_time": "2022-04-27T12:57:04.474Z"
   },
   {
    "duration": 13,
    "start_time": "2022-04-27T12:57:06.201Z"
   },
   {
    "duration": 215,
    "start_time": "2022-04-27T12:57:07.304Z"
   },
   {
    "duration": 5,
    "start_time": "2022-04-27T12:57:53.549Z"
   },
   {
    "duration": 6,
    "start_time": "2022-04-27T12:57:53.835Z"
   },
   {
    "duration": 13,
    "start_time": "2022-04-27T12:57:54.103Z"
   },
   {
    "duration": 114,
    "start_time": "2022-04-27T12:57:57.183Z"
   },
   {
    "duration": 109,
    "start_time": "2022-04-27T12:57:57.502Z"
   },
   {
    "duration": 15,
    "start_time": "2022-04-27T12:57:58.115Z"
   },
   {
    "duration": 62,
    "start_time": "2022-04-27T12:57:59.475Z"
   },
   {
    "duration": 40,
    "start_time": "2022-04-27T12:57:59.746Z"
   },
   {
    "duration": 63,
    "start_time": "2022-04-27T12:58:00.060Z"
   },
   {
    "duration": 48,
    "start_time": "2022-04-27T12:58:01.594Z"
   },
   {
    "duration": 66,
    "start_time": "2022-04-27T12:58:02.370Z"
   },
   {
    "duration": 49,
    "start_time": "2022-04-27T12:58:02.662Z"
   },
   {
    "duration": 34,
    "start_time": "2022-04-27T12:58:03.388Z"
   },
   {
    "duration": 17,
    "start_time": "2022-04-27T12:58:03.621Z"
   },
   {
    "duration": 3,
    "start_time": "2022-04-27T12:58:04.905Z"
   },
   {
    "duration": 35,
    "start_time": "2022-04-27T12:58:05.485Z"
   },
   {
    "duration": 36,
    "start_time": "2022-04-27T12:58:06.229Z"
   },
   {
    "duration": 35,
    "start_time": "2022-04-27T12:58:06.498Z"
   },
   {
    "duration": 5,
    "start_time": "2022-04-27T12:58:06.721Z"
   },
   {
    "duration": 5,
    "start_time": "2022-04-27T12:58:07.643Z"
   },
   {
    "duration": 5,
    "start_time": "2022-04-27T12:58:12.294Z"
   },
   {
    "duration": 5,
    "start_time": "2022-04-27T12:58:21.905Z"
   },
   {
    "duration": 4,
    "start_time": "2022-04-27T12:58:33.149Z"
   },
   {
    "duration": 9,
    "start_time": "2022-04-27T12:58:33.997Z"
   },
   {
    "duration": 10,
    "start_time": "2022-04-27T12:58:34.325Z"
   },
   {
    "duration": 10,
    "start_time": "2022-04-27T12:58:34.572Z"
   },
   {
    "duration": 14,
    "start_time": "2022-04-27T12:58:34.816Z"
   },
   {
    "duration": 9,
    "start_time": "2022-04-27T12:58:35.439Z"
   },
   {
    "duration": 10,
    "start_time": "2022-04-27T12:58:35.704Z"
   },
   {
    "duration": 9,
    "start_time": "2022-04-27T12:58:35.964Z"
   },
   {
    "duration": 8,
    "start_time": "2022-04-27T12:58:36.348Z"
   },
   {
    "duration": 9,
    "start_time": "2022-04-27T12:58:36.882Z"
   },
   {
    "duration": 9,
    "start_time": "2022-04-27T12:58:37.295Z"
   },
   {
    "duration": 9,
    "start_time": "2022-04-27T12:58:37.880Z"
   },
   {
    "duration": 10,
    "start_time": "2022-04-27T12:58:38.178Z"
   },
   {
    "duration": 10,
    "start_time": "2022-04-27T12:58:38.769Z"
   },
   {
    "duration": 10,
    "start_time": "2022-04-27T12:58:39.574Z"
   },
   {
    "duration": 8,
    "start_time": "2022-04-27T12:58:39.885Z"
   },
   {
    "duration": 9,
    "start_time": "2022-04-27T12:58:40.161Z"
   },
   {
    "duration": 59,
    "start_time": "2022-04-27T13:03:10.292Z"
   },
   {
    "duration": 80,
    "start_time": "2022-04-27T13:03:11.092Z"
   },
   {
    "duration": 131,
    "start_time": "2022-04-27T13:03:11.521Z"
   },
   {
    "duration": 6,
    "start_time": "2022-04-27T13:03:11.885Z"
   },
   {
    "duration": 92,
    "start_time": "2022-04-27T13:03:12.262Z"
   },
   {
    "duration": 13,
    "start_time": "2022-04-27T13:03:13.108Z"
   },
   {
    "duration": 20,
    "start_time": "2022-04-27T13:03:13.907Z"
   },
   {
    "duration": 4,
    "start_time": "2022-04-27T13:03:15.386Z"
   },
   {
    "duration": 5,
    "start_time": "2022-04-27T13:03:15.611Z"
   },
   {
    "duration": 13,
    "start_time": "2022-04-27T13:03:15.816Z"
   },
   {
    "duration": 115,
    "start_time": "2022-04-27T13:03:16.909Z"
   },
   {
    "duration": 128,
    "start_time": "2022-04-27T13:03:17.109Z"
   },
   {
    "duration": 22,
    "start_time": "2022-04-27T13:03:17.279Z"
   },
   {
    "duration": 58,
    "start_time": "2022-04-27T13:03:17.823Z"
   },
   {
    "duration": 43,
    "start_time": "2022-04-27T13:03:17.945Z"
   },
   {
    "duration": 57,
    "start_time": "2022-04-27T13:03:18.106Z"
   },
   {
    "duration": 42,
    "start_time": "2022-04-27T13:03:18.230Z"
   },
   {
    "duration": 66,
    "start_time": "2022-04-27T13:03:18.475Z"
   },
   {
    "duration": 45,
    "start_time": "2022-04-27T13:03:18.615Z"
   },
   {
    "duration": 28,
    "start_time": "2022-04-27T13:03:19.142Z"
   },
   {
    "duration": 17,
    "start_time": "2022-04-27T13:03:19.271Z"
   },
   {
    "duration": 98,
    "start_time": "2022-04-27T13:10:51.455Z"
   },
   {
    "duration": 1582,
    "start_time": "2022-04-28T14:51:49.176Z"
   },
   {
    "duration": 1253,
    "start_time": "2022-04-28T14:51:50.760Z"
   },
   {
    "duration": 8,
    "start_time": "2022-04-28T14:51:52.015Z"
   },
   {
    "duration": 726,
    "start_time": "2022-04-28T14:51:52.025Z"
   },
   {
    "duration": 128,
    "start_time": "2022-04-28T14:51:52.752Z"
   },
   {
    "duration": 216,
    "start_time": "2022-04-28T14:51:52.881Z"
   },
   {
    "duration": 116,
    "start_time": "2022-04-28T14:51:53.099Z"
   },
   {
    "duration": 31,
    "start_time": "2022-04-28T14:51:53.222Z"
   },
   {
    "duration": 94,
    "start_time": "2022-04-28T14:51:53.255Z"
   },
   {
    "duration": 333,
    "start_time": "2022-04-28T14:51:53.352Z"
   },
   {
    "duration": 21,
    "start_time": "2022-04-28T14:51:53.687Z"
   },
   {
    "duration": 74,
    "start_time": "2022-04-28T14:51:53.710Z"
   },
   {
    "duration": 91,
    "start_time": "2022-04-28T14:51:53.786Z"
   },
   {
    "duration": 14,
    "start_time": "2022-04-28T14:51:53.879Z"
   },
   {
    "duration": 456,
    "start_time": "2022-04-28T14:51:53.895Z"
   },
   {
    "duration": 120,
    "start_time": "2022-04-28T14:51:54.352Z"
   },
   {
    "duration": 76,
    "start_time": "2022-04-28T14:51:54.474Z"
   },
   {
    "duration": 90,
    "start_time": "2022-04-28T14:51:54.552Z"
   },
   {
    "duration": 61,
    "start_time": "2022-04-28T14:51:54.644Z"
   },
   {
    "duration": 51,
    "start_time": "2022-04-28T14:51:54.706Z"
   },
   {
    "duration": 68,
    "start_time": "2022-04-28T14:51:54.758Z"
   },
   {
    "duration": 109,
    "start_time": "2022-04-28T14:51:54.828Z"
   },
   {
    "duration": 5,
    "start_time": "2022-04-28T14:51:54.938Z"
   },
   {
    "duration": 79,
    "start_time": "2022-04-28T14:51:54.944Z"
   },
   {
    "duration": 8,
    "start_time": "2022-04-28T14:51:55.025Z"
   },
   {
    "duration": 727,
    "start_time": "2022-04-28T14:51:55.034Z"
   },
   {
    "duration": 3,
    "start_time": "2022-04-28T14:51:55.763Z"
   },
   {
    "duration": 3,
    "start_time": "2022-04-28T14:51:55.770Z"
   },
   {
    "duration": 10,
    "start_time": "2022-04-28T14:51:55.774Z"
   },
   {
    "duration": 171,
    "start_time": "2022-04-28T14:51:55.785Z"
   },
   {
    "duration": 104,
    "start_time": "2022-04-28T14:51:55.958Z"
   },
   {
    "duration": 10,
    "start_time": "2022-04-28T14:51:56.064Z"
   },
   {
    "duration": 58,
    "start_time": "2022-04-28T14:51:56.075Z"
   },
   {
    "duration": 38,
    "start_time": "2022-04-28T14:51:56.135Z"
   },
   {
    "duration": 65,
    "start_time": "2022-04-28T14:51:56.175Z"
   },
   {
    "duration": 32,
    "start_time": "2022-04-28T14:51:56.241Z"
   },
   {
    "duration": 67,
    "start_time": "2022-04-28T14:51:56.275Z"
   },
   {
    "duration": 36,
    "start_time": "2022-04-28T14:51:56.344Z"
   },
   {
    "duration": 18,
    "start_time": "2022-04-28T14:51:56.382Z"
   },
   {
    "duration": 29,
    "start_time": "2022-04-28T14:51:56.402Z"
   },
   {
    "duration": 8,
    "start_time": "2022-04-28T14:51:56.432Z"
   },
   {
    "duration": 40,
    "start_time": "2022-04-28T14:51:56.442Z"
   },
   {
    "duration": 38,
    "start_time": "2022-04-28T14:51:56.484Z"
   },
   {
    "duration": 29,
    "start_time": "2022-04-28T14:51:56.524Z"
   },
   {
    "duration": 13,
    "start_time": "2022-04-28T14:51:56.555Z"
   },
   {
    "duration": 23,
    "start_time": "2022-04-28T14:51:56.570Z"
   },
   {
    "duration": 32,
    "start_time": "2022-04-28T14:51:56.594Z"
   },
   {
    "duration": 19,
    "start_time": "2022-04-28T14:51:56.628Z"
   },
   {
    "duration": 24,
    "start_time": "2022-04-28T14:51:56.649Z"
   },
   {
    "duration": 26,
    "start_time": "2022-04-28T14:51:56.675Z"
   },
   {
    "duration": 19,
    "start_time": "2022-04-28T14:51:56.703Z"
   },
   {
    "duration": 25,
    "start_time": "2022-04-28T14:51:56.723Z"
   },
   {
    "duration": 26,
    "start_time": "2022-04-28T14:51:56.750Z"
   },
   {
    "duration": 24,
    "start_time": "2022-04-28T14:51:56.778Z"
   },
   {
    "duration": 21,
    "start_time": "2022-04-28T14:51:56.804Z"
   },
   {
    "duration": 43,
    "start_time": "2022-04-28T14:51:56.827Z"
   },
   {
    "duration": 20,
    "start_time": "2022-04-28T14:51:56.872Z"
   },
   {
    "duration": 29,
    "start_time": "2022-04-28T14:51:56.894Z"
   },
   {
    "duration": 31,
    "start_time": "2022-04-28T14:51:56.924Z"
   },
   {
    "duration": 18,
    "start_time": "2022-04-28T14:51:56.957Z"
   },
   {
    "duration": 19,
    "start_time": "2022-04-28T14:51:56.977Z"
   },
   {
    "duration": 32,
    "start_time": "2022-04-28T14:51:56.998Z"
   },
   {
    "duration": 25,
    "start_time": "2022-04-28T14:51:57.032Z"
   },
   {
    "duration": 21,
    "start_time": "2022-04-28T14:51:57.058Z"
   },
   {
    "duration": 38,
    "start_time": "2022-04-28T14:51:57.081Z"
   },
   {
    "duration": 2069,
    "start_time": "2022-05-01T10:12:49.996Z"
   },
   {
    "duration": 406,
    "start_time": "2022-05-01T10:12:52.068Z"
   },
   {
    "duration": 8,
    "start_time": "2022-05-01T10:12:52.476Z"
   },
   {
    "duration": 795,
    "start_time": "2022-05-01T10:12:52.486Z"
   },
   {
    "duration": 123,
    "start_time": "2022-05-01T10:12:53.283Z"
   },
   {
    "duration": 253,
    "start_time": "2022-05-01T10:12:53.408Z"
   },
   {
    "duration": 133,
    "start_time": "2022-05-01T10:12:53.662Z"
   },
   {
    "duration": 48,
    "start_time": "2022-05-01T10:12:53.798Z"
   },
   {
    "duration": 92,
    "start_time": "2022-05-01T10:12:53.848Z"
   },
   {
    "duration": 330,
    "start_time": "2022-05-01T10:12:53.941Z"
   },
   {
    "duration": 22,
    "start_time": "2022-05-01T10:12:54.659Z"
   },
   {
    "duration": 82,
    "start_time": "2022-05-01T10:12:55.429Z"
   },
   {
    "duration": 120,
    "start_time": "2022-05-01T10:12:56.032Z"
   },
   {
    "duration": 15,
    "start_time": "2022-05-01T10:12:57.052Z"
   },
   {
    "duration": 476,
    "start_time": "2022-05-01T10:12:57.628Z"
   },
   {
    "duration": 140,
    "start_time": "2022-05-01T10:12:58.413Z"
   },
   {
    "duration": 76,
    "start_time": "2022-05-01T10:12:59.109Z"
   },
   {
    "duration": 77,
    "start_time": "2022-05-01T10:12:59.530Z"
   },
   {
    "duration": 72,
    "start_time": "2022-05-01T10:13:00.049Z"
   },
   {
    "duration": 69,
    "start_time": "2022-05-01T10:13:02.374Z"
   },
   {
    "duration": 83,
    "start_time": "2022-05-01T10:13:02.661Z"
   },
   {
    "duration": 117,
    "start_time": "2022-05-01T10:13:03.206Z"
   },
   {
    "duration": 6,
    "start_time": "2022-05-01T10:13:03.537Z"
   },
   {
    "duration": 67,
    "start_time": "2022-05-01T10:13:04.481Z"
   },
   {
    "duration": 10,
    "start_time": "2022-05-01T10:13:06.139Z"
   },
   {
    "duration": 195,
    "start_time": "2022-05-01T10:13:06.847Z"
   },
   {
    "duration": 144,
    "start_time": "2022-05-01T10:16:51.991Z"
   },
   {
    "duration": 204,
    "start_time": "2022-05-01T10:17:42.680Z"
   },
   {
    "duration": 236,
    "start_time": "2022-05-01T10:17:56.439Z"
   },
   {
    "duration": 186,
    "start_time": "2022-05-01T10:18:02.714Z"
   },
   {
    "duration": 197,
    "start_time": "2022-05-01T10:18:27.294Z"
   },
   {
    "duration": 20,
    "start_time": "2022-05-01T10:18:34.376Z"
   },
   {
    "duration": 255,
    "start_time": "2022-05-01T10:19:45.887Z"
   },
   {
    "duration": 15,
    "start_time": "2022-05-01T10:19:48.868Z"
   },
   {
    "duration": 13,
    "start_time": "2022-05-01T10:20:00.966Z"
   },
   {
    "duration": 19,
    "start_time": "2022-05-01T10:20:14.972Z"
   },
   {
    "duration": 740,
    "start_time": "2022-05-01T10:20:16.787Z"
   },
   {
    "duration": 246,
    "start_time": "2022-05-01T10:20:38.553Z"
   },
   {
    "duration": 212,
    "start_time": "2022-05-01T10:23:25.367Z"
   },
   {
    "duration": 15,
    "start_time": "2022-05-01T10:23:30.280Z"
   },
   {
    "duration": 23,
    "start_time": "2022-05-01T10:26:49.212Z"
   },
   {
    "duration": 233,
    "start_time": "2022-05-01T10:26:57.887Z"
   },
   {
    "duration": 16,
    "start_time": "2022-05-01T10:27:03.703Z"
   },
   {
    "duration": 11,
    "start_time": "2022-05-01T10:27:36.988Z"
   },
   {
    "duration": 19,
    "start_time": "2022-05-01T10:27:49.812Z"
   },
   {
    "duration": 19,
    "start_time": "2022-05-01T10:27:55.878Z"
   },
   {
    "duration": 20,
    "start_time": "2022-05-01T10:44:13.100Z"
   },
   {
    "duration": 11,
    "start_time": "2022-05-01T10:44:31.500Z"
   },
   {
    "duration": 16,
    "start_time": "2022-05-01T10:45:20.702Z"
   },
   {
    "duration": 15,
    "start_time": "2022-05-01T10:45:25.917Z"
   },
   {
    "duration": 14,
    "start_time": "2022-05-01T10:45:37.185Z"
   },
   {
    "duration": 22,
    "start_time": "2022-05-01T10:45:44.738Z"
   },
   {
    "duration": 15,
    "start_time": "2022-05-01T10:45:48.560Z"
   },
   {
    "duration": 10,
    "start_time": "2022-05-01T10:46:11.540Z"
   },
   {
    "duration": 11,
    "start_time": "2022-05-01T10:46:15.572Z"
   },
   {
    "duration": 385,
    "start_time": "2022-05-01T12:33:51.501Z"
   },
   {
    "duration": 305,
    "start_time": "2022-05-01T12:36:10.740Z"
   },
   {
    "duration": 11,
    "start_time": "2022-05-01T12:49:43.527Z"
   },
   {
    "duration": 7,
    "start_time": "2022-05-01T12:49:54.517Z"
   },
   {
    "duration": 332,
    "start_time": "2022-05-01T12:49:54.527Z"
   },
   {
    "duration": 6,
    "start_time": "2022-05-01T12:49:54.860Z"
   },
   {
    "duration": 901,
    "start_time": "2022-05-01T12:49:54.869Z"
   },
   {
    "duration": 122,
    "start_time": "2022-05-01T12:49:55.771Z"
   },
   {
    "duration": 271,
    "start_time": "2022-05-01T12:49:55.895Z"
   },
   {
    "duration": 142,
    "start_time": "2022-05-01T12:49:56.169Z"
   },
   {
    "duration": 49,
    "start_time": "2022-05-01T12:49:56.312Z"
   },
   {
    "duration": 99,
    "start_time": "2022-05-01T12:49:56.363Z"
   },
   {
    "duration": 368,
    "start_time": "2022-05-01T12:49:56.465Z"
   },
   {
    "duration": 29,
    "start_time": "2022-05-01T12:49:56.834Z"
   },
   {
    "duration": 90,
    "start_time": "2022-05-01T12:49:56.865Z"
   },
   {
    "duration": 85,
    "start_time": "2022-05-01T12:49:56.958Z"
   },
   {
    "duration": 16,
    "start_time": "2022-05-01T12:49:57.047Z"
   },
   {
    "duration": 411,
    "start_time": "2022-05-01T12:49:57.066Z"
   },
   {
    "duration": 147,
    "start_time": "2022-05-01T12:49:57.479Z"
   },
   {
    "duration": 72,
    "start_time": "2022-05-01T12:49:57.630Z"
   },
   {
    "duration": 90,
    "start_time": "2022-05-01T12:49:57.704Z"
   },
   {
    "duration": 83,
    "start_time": "2022-05-01T12:49:57.795Z"
   },
   {
    "duration": 47,
    "start_time": "2022-05-01T12:49:57.880Z"
   },
   {
    "duration": 67,
    "start_time": "2022-05-01T12:49:57.929Z"
   },
   {
    "duration": 139,
    "start_time": "2022-05-01T12:49:57.997Z"
   },
   {
    "duration": 7,
    "start_time": "2022-05-01T12:49:58.138Z"
   },
   {
    "duration": 82,
    "start_time": "2022-05-01T12:49:58.147Z"
   },
   {
    "duration": 13,
    "start_time": "2022-05-01T12:49:58.231Z"
   },
   {
    "duration": 16,
    "start_time": "2022-05-01T12:49:58.246Z"
   },
   {
    "duration": 3,
    "start_time": "2022-05-01T12:49:58.264Z"
   },
   {
    "duration": 5,
    "start_time": "2022-05-01T12:49:58.273Z"
   },
   {
    "duration": 11,
    "start_time": "2022-05-01T12:49:58.280Z"
   },
   {
    "duration": 173,
    "start_time": "2022-05-01T12:49:58.293Z"
   },
   {
    "duration": 166,
    "start_time": "2022-05-01T12:49:58.468Z"
   },
   {
    "duration": 16,
    "start_time": "2022-05-01T12:49:58.636Z"
   },
   {
    "duration": 54,
    "start_time": "2022-05-01T12:49:58.670Z"
   },
   {
    "duration": 46,
    "start_time": "2022-05-01T12:49:58.726Z"
   },
   {
    "duration": 83,
    "start_time": "2022-05-01T12:49:58.774Z"
   },
   {
    "duration": 39,
    "start_time": "2022-05-01T12:49:58.859Z"
   },
   {
    "duration": 72,
    "start_time": "2022-05-01T12:49:58.899Z"
   },
   {
    "duration": 36,
    "start_time": "2022-05-01T12:49:58.973Z"
   },
   {
    "duration": 40,
    "start_time": "2022-05-01T12:49:59.011Z"
   },
   {
    "duration": 11,
    "start_time": "2022-05-01T12:49:59.053Z"
   },
   {
    "duration": 4,
    "start_time": "2022-05-01T12:49:59.065Z"
   },
   {
    "duration": 33,
    "start_time": "2022-05-01T12:49:59.071Z"
   },
   {
    "duration": 57,
    "start_time": "2022-05-01T12:49:59.105Z"
   },
   {
    "duration": 36,
    "start_time": "2022-05-01T12:49:59.164Z"
   },
   {
    "duration": 25,
    "start_time": "2022-05-01T12:49:59.201Z"
   },
   {
    "duration": 3,
    "start_time": "2022-05-01T12:49:59.229Z"
   },
   {
    "duration": 4,
    "start_time": "2022-05-01T12:49:59.235Z"
   },
   {
    "duration": 12,
    "start_time": "2022-05-01T12:49:59.241Z"
   },
   {
    "duration": 3,
    "start_time": "2022-05-01T12:49:59.255Z"
   },
   {
    "duration": 8,
    "start_time": "2022-05-01T12:49:59.260Z"
   },
   {
    "duration": 10,
    "start_time": "2022-05-01T12:49:59.270Z"
   },
   {
    "duration": 8,
    "start_time": "2022-05-01T12:49:59.282Z"
   },
   {
    "duration": 41,
    "start_time": "2022-05-01T12:49:59.292Z"
   },
   {
    "duration": 12,
    "start_time": "2022-05-01T12:49:59.334Z"
   },
   {
    "duration": 7,
    "start_time": "2022-05-01T12:49:59.352Z"
   },
   {
    "duration": 9,
    "start_time": "2022-05-01T12:49:59.361Z"
   },
   {
    "duration": 11,
    "start_time": "2022-05-01T12:49:59.371Z"
   },
   {
    "duration": 10,
    "start_time": "2022-05-01T12:49:59.384Z"
   },
   {
    "duration": 8,
    "start_time": "2022-05-01T12:49:59.396Z"
   },
   {
    "duration": 15,
    "start_time": "2022-05-01T12:49:59.442Z"
   },
   {
    "duration": 9,
    "start_time": "2022-05-01T12:49:59.459Z"
   },
   {
    "duration": 6,
    "start_time": "2022-05-01T12:49:59.470Z"
   },
   {
    "duration": 11,
    "start_time": "2022-05-01T12:49:59.478Z"
   },
   {
    "duration": 10,
    "start_time": "2022-05-01T12:49:59.491Z"
   },
   {
    "duration": 12,
    "start_time": "2022-05-01T12:49:59.502Z"
   },
   {
    "duration": 40,
    "start_time": "2022-05-01T12:49:59.516Z"
   },
   {
    "duration": 7,
    "start_time": "2022-05-01T12:49:59.558Z"
   },
   {
    "duration": 280,
    "start_time": "2022-05-01T12:58:25.284Z"
   },
   {
    "duration": 285,
    "start_time": "2022-05-01T12:58:49.195Z"
   },
   {
    "duration": 8,
    "start_time": "2022-05-01T13:06:37.336Z"
   },
   {
    "duration": 3172,
    "start_time": "2022-05-01T13:07:29.720Z"
   },
   {
    "duration": 184,
    "start_time": "2022-05-01T13:10:22.577Z"
   },
   {
    "duration": 6,
    "start_time": "2022-05-01T13:11:30.273Z"
   },
   {
    "duration": 209,
    "start_time": "2022-05-01T13:11:34.170Z"
   },
   {
    "duration": 218,
    "start_time": "2022-05-01T13:11:54.075Z"
   },
   {
    "duration": 3316,
    "start_time": "2022-05-01T13:17:33.495Z"
   },
   {
    "duration": 907,
    "start_time": "2022-05-01T13:17:55.945Z"
   },
   {
    "duration": 1117,
    "start_time": "2022-05-01T13:18:12.594Z"
   },
   {
    "duration": 1102,
    "start_time": "2022-05-01T13:18:17.423Z"
   },
   {
    "duration": 1066,
    "start_time": "2022-05-01T13:18:25.616Z"
   },
   {
    "duration": 982,
    "start_time": "2022-05-01T13:18:30.240Z"
   },
   {
    "duration": 971,
    "start_time": "2022-05-01T13:18:34.149Z"
   },
   {
    "duration": 1023,
    "start_time": "2022-05-01T13:18:43.929Z"
   },
   {
    "duration": 1148,
    "start_time": "2022-05-01T13:18:49.004Z"
   },
   {
    "duration": 1056,
    "start_time": "2022-05-01T13:18:53.294Z"
   },
   {
    "duration": 931,
    "start_time": "2022-05-01T13:19:07.003Z"
   },
   {
    "duration": 193,
    "start_time": "2022-05-01T13:19:35.256Z"
   },
   {
    "duration": 850,
    "start_time": "2022-05-01T13:19:47.941Z"
   },
   {
    "duration": 1063,
    "start_time": "2022-05-01T13:19:52.588Z"
   },
   {
    "duration": 1046,
    "start_time": "2022-05-01T13:19:58.900Z"
   },
   {
    "duration": 1140,
    "start_time": "2022-05-01T13:20:23.344Z"
   },
   {
    "duration": 1101,
    "start_time": "2022-05-01T13:20:34.959Z"
   },
   {
    "duration": 14,
    "start_time": "2022-05-01T13:20:44.371Z"
   },
   {
    "duration": 209,
    "start_time": "2022-05-01T13:20:45.060Z"
   },
   {
    "duration": 1035,
    "start_time": "2022-05-01T13:20:45.596Z"
   },
   {
    "duration": 8,
    "start_time": "2022-05-01T13:20:53.047Z"
   },
   {
    "duration": 207,
    "start_time": "2022-05-01T13:20:53.686Z"
   },
   {
    "duration": 1145,
    "start_time": "2022-05-01T13:20:57.709Z"
   },
   {
    "duration": 1156,
    "start_time": "2022-05-01T13:21:05.298Z"
   },
   {
    "duration": 1182,
    "start_time": "2022-05-01T13:21:45.725Z"
   },
   {
    "duration": 404,
    "start_time": "2022-05-01T13:23:49.481Z"
   },
   {
    "duration": 9,
    "start_time": "2022-05-01T13:23:52.759Z"
   },
   {
    "duration": 189,
    "start_time": "2022-05-01T13:23:53.740Z"
   },
   {
    "duration": 925,
    "start_time": "2022-05-01T13:23:54.726Z"
   },
   {
    "duration": 6,
    "start_time": "2022-05-01T13:29:54.375Z"
   },
   {
    "duration": 3122,
    "start_time": "2022-05-01T13:29:54.831Z"
   },
   {
    "duration": 0,
    "start_time": "2022-05-01T13:29:57.957Z"
   },
   {
    "duration": 81,
    "start_time": "2022-05-01T13:30:13.942Z"
   },
   {
    "duration": 83,
    "start_time": "2022-05-01T13:30:18.167Z"
   },
   {
    "duration": 9,
    "start_time": "2022-05-01T13:31:34.929Z"
   },
   {
    "duration": 72,
    "start_time": "2022-05-01T13:31:35.812Z"
   },
   {
    "duration": 6,
    "start_time": "2022-05-01T13:32:36.881Z"
   },
   {
    "duration": 3494,
    "start_time": "2022-05-01T13:32:37.819Z"
   },
   {
    "duration": 0,
    "start_time": "2022-05-01T13:32:41.315Z"
   },
   {
    "duration": 198,
    "start_time": "2022-05-01T13:32:57.546Z"
   },
   {
    "duration": 1155,
    "start_time": "2022-05-01T13:36:10.862Z"
   },
   {
    "duration": 1070,
    "start_time": "2022-05-01T13:39:02.464Z"
   },
   {
    "duration": 1702,
    "start_time": "2022-05-01T13:44:08.083Z"
   },
   {
    "duration": 214,
    "start_time": "2022-05-01T13:44:14.606Z"
   },
   {
    "duration": 9,
    "start_time": "2022-05-01T13:44:16.985Z"
   },
   {
    "duration": 530,
    "start_time": "2022-05-01T13:45:33.468Z"
   },
   {
    "duration": 158,
    "start_time": "2022-05-01T13:45:42.111Z"
   },
   {
    "duration": 21,
    "start_time": "2022-05-01T13:45:45.830Z"
   },
   {
    "duration": 62,
    "start_time": "2022-05-01T13:45:47.436Z"
   },
   {
    "duration": 163,
    "start_time": "2022-05-01T13:45:51.914Z"
   },
   {
    "duration": 26,
    "start_time": "2022-05-01T13:45:53.526Z"
   },
   {
    "duration": 12,
    "start_time": "2022-05-01T13:45:54.048Z"
   },
   {
    "duration": 37,
    "start_time": "2022-05-01T13:45:54.599Z"
   },
   {
    "duration": 23,
    "start_time": "2022-05-01T13:45:55.729Z"
   },
   {
    "duration": 588,
    "start_time": "2022-05-01T13:45:56.414Z"
   },
   {
    "duration": 55,
    "start_time": "2022-05-01T13:45:57.004Z"
   },
   {
    "duration": 12,
    "start_time": "2022-05-01T13:45:57.103Z"
   },
   {
    "duration": 22,
    "start_time": "2022-05-01T13:45:57.388Z"
   },
   {
    "duration": 9,
    "start_time": "2022-05-01T13:45:57.901Z"
   },
   {
    "duration": 25,
    "start_time": "2022-05-01T13:45:59.672Z"
   },
   {
    "duration": 44,
    "start_time": "2022-05-01T13:45:59.960Z"
   },
   {
    "duration": 100,
    "start_time": "2022-05-01T13:46:00.434Z"
   },
   {
    "duration": 6,
    "start_time": "2022-05-01T13:46:00.592Z"
   },
   {
    "duration": 26,
    "start_time": "2022-05-01T13:46:00.939Z"
   },
   {
    "duration": 16,
    "start_time": "2022-05-01T13:46:01.638Z"
   },
   {
    "duration": 270,
    "start_time": "2022-05-01T13:46:02.182Z"
   },
   {
    "duration": 4,
    "start_time": "2022-05-01T13:46:05.138Z"
   },
   {
    "duration": 23,
    "start_time": "2022-05-01T13:46:28.158Z"
   },
   {
    "duration": 4,
    "start_time": "2022-05-01T13:46:30.208Z"
   },
   {
    "duration": 5,
    "start_time": "2022-05-01T13:46:30.512Z"
   },
   {
    "duration": 12,
    "start_time": "2022-05-01T13:46:30.904Z"
   },
   {
    "duration": 52,
    "start_time": "2022-05-01T13:46:36.643Z"
   },
   {
    "duration": 13,
    "start_time": "2022-05-01T13:46:36.824Z"
   },
   {
    "duration": 12,
    "start_time": "2022-05-01T13:46:37.006Z"
   },
   {
    "duration": 10,
    "start_time": "2022-05-01T13:46:37.373Z"
   },
   {
    "duration": 35,
    "start_time": "2022-05-01T13:46:37.528Z"
   },
   {
    "duration": 10,
    "start_time": "2022-05-01T13:46:37.672Z"
   },
   {
    "duration": 20,
    "start_time": "2022-05-01T13:46:37.937Z"
   },
   {
    "duration": 24,
    "start_time": "2022-05-01T13:46:38.135Z"
   },
   {
    "duration": 10,
    "start_time": "2022-05-01T13:46:38.275Z"
   },
   {
    "duration": 18,
    "start_time": "2022-05-01T13:46:39.202Z"
   },
   {
    "duration": 11,
    "start_time": "2022-05-01T13:46:39.372Z"
   },
   {
    "duration": 3,
    "start_time": "2022-05-01T13:46:40.511Z"
   },
   {
    "duration": 88,
    "start_time": "2022-05-01T13:46:41.371Z"
   },
   {
    "duration": 10,
    "start_time": "2022-05-01T13:46:42.217Z"
   },
   {
    "duration": 3693,
    "start_time": "2022-05-01T13:46:42.954Z"
   },
   {
    "duration": 0,
    "start_time": "2022-05-01T13:46:46.654Z"
   },
   {
    "duration": 3203,
    "start_time": "2022-05-01T13:47:15.802Z"
   },
   {
    "duration": 20,
    "start_time": "2022-05-01T13:49:32.941Z"
   },
   {
    "duration": 76,
    "start_time": "2022-05-01T13:49:43.944Z"
   },
   {
    "duration": 1374,
    "start_time": "2022-05-01T13:50:03.132Z"
   },
   {
    "duration": 186,
    "start_time": "2022-05-01T13:50:04.509Z"
   },
   {
    "duration": 10,
    "start_time": "2022-05-01T13:50:04.697Z"
   },
   {
    "duration": 364,
    "start_time": "2022-05-01T13:50:04.709Z"
   },
   {
    "duration": 144,
    "start_time": "2022-05-01T13:50:05.076Z"
   },
   {
    "duration": 24,
    "start_time": "2022-05-01T13:50:05.223Z"
   },
   {
    "duration": 25,
    "start_time": "2022-05-01T13:50:05.249Z"
   },
   {
    "duration": 154,
    "start_time": "2022-05-01T13:50:05.276Z"
   },
   {
    "duration": 19,
    "start_time": "2022-05-01T13:50:05.432Z"
   },
   {
    "duration": 15,
    "start_time": "2022-05-01T13:50:05.452Z"
   },
   {
    "duration": 19,
    "start_time": "2022-05-01T13:50:05.468Z"
   },
   {
    "duration": 40,
    "start_time": "2022-05-01T13:50:05.489Z"
   },
   {
    "duration": 456,
    "start_time": "2022-05-01T13:50:05.536Z"
   },
   {
    "duration": 52,
    "start_time": "2022-05-01T13:50:05.995Z"
   },
   {
    "duration": 10,
    "start_time": "2022-05-01T13:50:06.049Z"
   },
   {
    "duration": 20,
    "start_time": "2022-05-01T13:50:06.062Z"
   },
   {
    "duration": 12,
    "start_time": "2022-05-01T13:50:06.083Z"
   },
   {
    "duration": 36,
    "start_time": "2022-05-01T13:50:06.122Z"
   },
   {
    "duration": 31,
    "start_time": "2022-05-01T13:50:06.159Z"
   },
   {
    "duration": 90,
    "start_time": "2022-05-01T13:50:06.192Z"
   },
   {
    "duration": 5,
    "start_time": "2022-05-01T13:50:06.284Z"
   },
   {
    "duration": 39,
    "start_time": "2022-05-01T13:50:06.291Z"
   },
   {
    "duration": 11,
    "start_time": "2022-05-01T13:50:06.337Z"
   },
   {
    "duration": 211,
    "start_time": "2022-05-01T13:50:06.353Z"
   },
   {
    "duration": 4,
    "start_time": "2022-05-01T13:50:06.566Z"
   },
   {
    "duration": 5,
    "start_time": "2022-05-01T13:50:06.572Z"
   },
   {
    "duration": 11,
    "start_time": "2022-05-01T13:50:06.579Z"
   },
   {
    "duration": 69,
    "start_time": "2022-05-01T13:50:06.592Z"
   },
   {
    "duration": 6,
    "start_time": "2022-05-01T13:50:06.663Z"
   },
   {
    "duration": 63,
    "start_time": "2022-05-01T13:50:06.671Z"
   },
   {
    "duration": 20,
    "start_time": "2022-05-01T13:50:06.735Z"
   },
   {
    "duration": 12,
    "start_time": "2022-05-01T13:50:06.758Z"
   },
   {
    "duration": 55,
    "start_time": "2022-05-01T13:50:06.772Z"
   },
   {
    "duration": 15,
    "start_time": "2022-05-01T13:50:06.829Z"
   },
   {
    "duration": 27,
    "start_time": "2022-05-01T13:50:06.846Z"
   },
   {
    "duration": 10,
    "start_time": "2022-05-01T13:50:06.876Z"
   },
   {
    "duration": 39,
    "start_time": "2022-05-01T13:50:06.888Z"
   },
   {
    "duration": 14,
    "start_time": "2022-05-01T13:50:06.929Z"
   },
   {
    "duration": 3,
    "start_time": "2022-05-01T13:50:06.945Z"
   },
   {
    "duration": 80,
    "start_time": "2022-05-01T13:50:06.950Z"
   },
   {
    "duration": 8,
    "start_time": "2022-05-01T13:50:07.036Z"
   },
   {
    "duration": 23,
    "start_time": "2022-05-01T13:50:07.046Z"
   },
   {
    "duration": 99,
    "start_time": "2022-05-01T13:50:07.071Z"
   },
   {
    "duration": 83,
    "start_time": "2022-05-01T13:50:22.395Z"
   },
   {
    "duration": 74,
    "start_time": "2022-05-01T13:50:30.523Z"
   },
   {
    "duration": 75,
    "start_time": "2022-05-01T13:50:37.391Z"
   },
   {
    "duration": 1622,
    "start_time": "2022-06-22T10:48:53.079Z"
   },
   {
    "duration": 1390,
    "start_time": "2022-06-22T10:48:54.709Z"
   },
   {
    "duration": 17,
    "start_time": "2022-06-22T10:48:56.101Z"
   },
   {
    "duration": 465,
    "start_time": "2022-06-22T10:48:56.122Z"
   },
   {
    "duration": 209,
    "start_time": "2022-06-22T10:48:56.594Z"
   },
   {
    "duration": 16,
    "start_time": "2022-06-22T10:48:56.812Z"
   },
   {
    "duration": 39,
    "start_time": "2022-06-22T10:48:56.830Z"
   },
   {
    "duration": 140,
    "start_time": "2022-06-22T10:48:56.873Z"
   },
   {
    "duration": 18,
    "start_time": "2022-06-22T10:48:57.015Z"
   },
   {
    "duration": 9,
    "start_time": "2022-06-22T10:48:57.035Z"
   },
   {
    "duration": 42,
    "start_time": "2022-06-22T10:48:57.045Z"
   },
   {
    "duration": 37,
    "start_time": "2022-06-22T10:48:57.089Z"
   },
   {
    "duration": 583,
    "start_time": "2022-06-22T10:48:57.128Z"
   },
   {
    "duration": 41,
    "start_time": "2022-06-22T10:48:57.721Z"
   },
   {
    "duration": 24,
    "start_time": "2022-06-22T10:48:57.766Z"
   },
   {
    "duration": 43,
    "start_time": "2022-06-22T10:48:57.796Z"
   },
   {
    "duration": 10,
    "start_time": "2022-06-22T10:48:57.841Z"
   },
   {
    "duration": 68,
    "start_time": "2022-06-22T10:48:57.858Z"
   },
   {
    "duration": 49,
    "start_time": "2022-06-22T10:48:57.928Z"
   },
   {
    "duration": 110,
    "start_time": "2022-06-22T10:48:57.979Z"
   },
   {
    "duration": 4,
    "start_time": "2022-06-22T10:48:58.091Z"
   },
   {
    "duration": 95,
    "start_time": "2022-06-22T10:48:58.097Z"
   },
   {
    "duration": 34,
    "start_time": "2022-06-22T10:48:58.209Z"
   },
   {
    "duration": 375,
    "start_time": "2022-06-22T10:48:58.245Z"
   },
   {
    "duration": 9,
    "start_time": "2022-06-22T10:48:58.623Z"
   },
   {
    "duration": 76,
    "start_time": "2022-06-22T10:48:58.635Z"
   },
   {
    "duration": 37,
    "start_time": "2022-06-22T10:48:58.713Z"
   },
   {
    "duration": 129,
    "start_time": "2022-06-22T10:48:58.753Z"
   },
   {
    "duration": 8,
    "start_time": "2022-06-22T10:48:58.886Z"
   },
   {
    "duration": 49,
    "start_time": "2022-06-22T10:48:58.896Z"
   },
   {
    "duration": 67,
    "start_time": "2022-06-22T10:48:58.947Z"
   },
   {
    "duration": 21,
    "start_time": "2022-06-22T10:48:59.020Z"
   },
   {
    "duration": 74,
    "start_time": "2022-06-22T10:48:59.043Z"
   },
   {
    "duration": 20,
    "start_time": "2022-06-22T10:48:59.120Z"
   },
   {
    "duration": 25,
    "start_time": "2022-06-22T10:48:59.141Z"
   },
   {
    "duration": 62,
    "start_time": "2022-06-22T10:48:59.168Z"
   },
   {
    "duration": 30,
    "start_time": "2022-06-22T10:48:59.232Z"
   },
   {
    "duration": 65,
    "start_time": "2022-06-22T10:48:59.264Z"
   },
   {
    "duration": 5,
    "start_time": "2022-06-22T10:48:59.331Z"
   },
   {
    "duration": 96,
    "start_time": "2022-06-22T10:48:59.338Z"
   },
   {
    "duration": 8,
    "start_time": "2022-06-22T10:48:59.439Z"
   },
   {
    "duration": 91,
    "start_time": "2022-06-22T10:48:59.449Z"
   },
   {
    "duration": 99,
    "start_time": "2022-06-22T10:48:59.542Z"
   },
   {
    "duration": 14,
    "start_time": "2022-06-22T14:38:24.400Z"
   },
   {
    "duration": 116,
    "start_time": "2022-06-22T14:52:36.586Z"
   },
   {
    "duration": 51,
    "start_time": "2022-06-22T14:52:51.983Z"
   },
   {
    "duration": 18,
    "start_time": "2022-06-22T14:53:01.011Z"
   },
   {
    "duration": 10,
    "start_time": "2022-06-22T14:53:05.124Z"
   },
   {
    "duration": 5,
    "start_time": "2022-07-17T17:52:13.989Z"
   },
   {
    "duration": 55,
    "start_time": "2022-07-17T17:52:25.775Z"
   },
   {
    "duration": 1156,
    "start_time": "2022-07-17T17:55:53.125Z"
   },
   {
    "duration": 491,
    "start_time": "2022-07-17T17:55:54.283Z"
   },
   {
    "duration": 8,
    "start_time": "2022-07-17T17:55:54.776Z"
   },
   {
    "duration": 279,
    "start_time": "2022-07-17T17:55:54.785Z"
   },
   {
    "duration": 113,
    "start_time": "2022-07-17T17:55:55.067Z"
   },
   {
    "duration": 31,
    "start_time": "2022-07-17T17:55:55.182Z"
   },
   {
    "duration": 23,
    "start_time": "2022-07-17T17:55:55.215Z"
   },
   {
    "duration": 136,
    "start_time": "2022-07-17T17:55:55.240Z"
   },
   {
    "duration": 23,
    "start_time": "2022-07-17T17:55:55.378Z"
   },
   {
    "duration": 10,
    "start_time": "2022-07-17T17:55:55.403Z"
   },
   {
    "duration": 18,
    "start_time": "2022-07-17T17:55:55.415Z"
   },
   {
    "duration": 13,
    "start_time": "2022-07-17T17:55:55.435Z"
   },
   {
    "duration": 420,
    "start_time": "2022-07-17T17:55:55.449Z"
   },
   {
    "duration": 37,
    "start_time": "2022-07-17T17:55:55.872Z"
   },
   {
    "duration": 12,
    "start_time": "2022-07-17T17:55:55.910Z"
   },
   {
    "duration": 11,
    "start_time": "2022-07-17T17:55:55.923Z"
   },
   {
    "duration": 14,
    "start_time": "2022-07-17T17:55:55.936Z"
   },
   {
    "duration": 10,
    "start_time": "2022-07-17T17:55:55.951Z"
   },
   {
    "duration": 39,
    "start_time": "2022-07-17T17:55:55.963Z"
   },
   {
    "duration": 29,
    "start_time": "2022-07-17T17:55:56.003Z"
   },
   {
    "duration": 68,
    "start_time": "2022-07-17T17:55:56.033Z"
   },
   {
    "duration": 4,
    "start_time": "2022-07-17T17:55:56.103Z"
   },
   {
    "duration": 15,
    "start_time": "2022-07-17T17:55:56.109Z"
   },
   {
    "duration": 7,
    "start_time": "2022-07-17T17:55:56.125Z"
   },
   {
    "duration": 129,
    "start_time": "2022-07-17T17:55:56.134Z"
   },
   {
    "duration": 4,
    "start_time": "2022-07-17T17:55:56.264Z"
   },
   {
    "duration": 7,
    "start_time": "2022-07-17T17:55:56.269Z"
   },
   {
    "duration": 32,
    "start_time": "2022-07-17T17:55:56.277Z"
   },
   {
    "duration": 39,
    "start_time": "2022-07-17T17:55:56.310Z"
   },
   {
    "duration": 53,
    "start_time": "2022-07-17T17:55:56.350Z"
   },
   {
    "duration": 6,
    "start_time": "2022-07-17T17:55:56.405Z"
   },
   {
    "duration": 10,
    "start_time": "2022-07-17T17:55:56.413Z"
   },
   {
    "duration": 9,
    "start_time": "2022-07-17T17:55:56.424Z"
   },
   {
    "duration": 11,
    "start_time": "2022-07-17T17:55:56.435Z"
   },
   {
    "duration": 11,
    "start_time": "2022-07-17T17:55:56.447Z"
   },
   {
    "duration": 9,
    "start_time": "2022-07-17T17:55:56.459Z"
   },
   {
    "duration": 37,
    "start_time": "2022-07-17T17:55:56.470Z"
   },
   {
    "duration": 19,
    "start_time": "2022-07-17T17:55:56.509Z"
   },
   {
    "duration": 9,
    "start_time": "2022-07-17T17:55:56.530Z"
   },
   {
    "duration": 4,
    "start_time": "2022-07-17T17:55:56.541Z"
   },
   {
    "duration": 71,
    "start_time": "2022-07-17T17:55:56.549Z"
   },
   {
    "duration": 6,
    "start_time": "2022-07-17T17:55:56.622Z"
   },
   {
    "duration": 30,
    "start_time": "2022-07-17T17:55:56.630Z"
   },
   {
    "duration": 72,
    "start_time": "2022-07-17T17:55:56.662Z"
   },
   {
    "duration": 9,
    "start_time": "2022-07-17T17:56:21.939Z"
   },
   {
    "duration": 10,
    "start_time": "2022-07-17T17:56:22.789Z"
   },
   {
    "duration": 3,
    "start_time": "2022-07-17T17:56:23.293Z"
   },
   {
    "duration": 3,
    "start_time": "2022-07-17T17:56:23.406Z"
   },
   {
    "duration": 8,
    "start_time": "2022-07-17T17:56:23.636Z"
   },
   {
    "duration": 30,
    "start_time": "2022-07-17T17:56:24.580Z"
   },
   {
    "duration": 5,
    "start_time": "2022-07-17T17:56:24.690Z"
   },
   {
    "duration": 6,
    "start_time": "2022-07-17T17:56:24.821Z"
   },
   {
    "duration": 11,
    "start_time": "2022-07-17T17:56:25.223Z"
   },
   {
    "duration": 9,
    "start_time": "2022-07-17T17:56:25.483Z"
   },
   {
    "duration": 9,
    "start_time": "2022-07-17T17:56:25.690Z"
   },
   {
    "duration": 8,
    "start_time": "2022-07-17T17:56:25.848Z"
   },
   {
    "duration": 9,
    "start_time": "2022-07-17T17:56:25.998Z"
   },
   {
    "duration": 4,
    "start_time": "2022-07-17T17:56:42.760Z"
   },
   {
    "duration": 149,
    "start_time": "2022-07-17T17:56:43.130Z"
   },
   {
    "duration": 7,
    "start_time": "2022-07-17T17:56:43.292Z"
   },
   {
    "duration": 281,
    "start_time": "2022-07-17T17:56:43.896Z"
   },
   {
    "duration": 102,
    "start_time": "2022-07-17T17:56:44.495Z"
   },
   {
    "duration": 14,
    "start_time": "2022-07-17T17:56:44.824Z"
   },
   {
    "duration": 20,
    "start_time": "2022-07-17T17:56:44.978Z"
   },
   {
    "duration": 108,
    "start_time": "2022-07-17T17:56:45.360Z"
   },
   {
    "duration": 11,
    "start_time": "2022-07-17T17:56:46.708Z"
   },
   {
    "duration": 7,
    "start_time": "2022-07-17T17:56:47.338Z"
   },
   {
    "duration": 14,
    "start_time": "2022-07-17T17:56:47.921Z"
   },
   {
    "duration": 11,
    "start_time": "2022-07-17T17:56:48.721Z"
   },
   {
    "duration": 307,
    "start_time": "2022-07-17T17:56:49.435Z"
   },
   {
    "duration": 28,
    "start_time": "2022-07-17T17:56:49.843Z"
   },
   {
    "duration": 12,
    "start_time": "2022-07-17T17:56:50.003Z"
   },
   {
    "duration": 9,
    "start_time": "2022-07-17T17:56:50.215Z"
   },
   {
    "duration": 15,
    "start_time": "2022-07-17T17:56:50.597Z"
   },
   {
    "duration": 7,
    "start_time": "2022-07-17T17:56:51.145Z"
   },
   {
    "duration": 21,
    "start_time": "2022-07-17T17:56:53.023Z"
   },
   {
    "duration": 25,
    "start_time": "2022-07-17T17:56:53.275Z"
   },
   {
    "duration": 51,
    "start_time": "2022-07-17T17:56:53.684Z"
   },
   {
    "duration": 6,
    "start_time": "2022-07-17T17:56:53.863Z"
   },
   {
    "duration": 14,
    "start_time": "2022-07-17T17:56:56.398Z"
   },
   {
    "duration": 9,
    "start_time": "2022-07-17T17:56:58.233Z"
   },
   {
    "duration": 10,
    "start_time": "2022-07-17T17:56:58.906Z"
   },
   {
    "duration": 4,
    "start_time": "2022-07-17T17:57:00.729Z"
   },
   {
    "duration": 4,
    "start_time": "2022-07-17T17:57:01.051Z"
   },
   {
    "duration": 9,
    "start_time": "2022-07-17T17:57:01.619Z"
   },
   {
    "duration": 30,
    "start_time": "2022-07-17T17:57:03.673Z"
   },
   {
    "duration": 6,
    "start_time": "2022-07-17T17:57:06.471Z"
   },
   {
    "duration": 6,
    "start_time": "2022-07-17T17:57:07.463Z"
   },
   {
    "duration": 9,
    "start_time": "2022-07-17T17:57:48.770Z"
   },
   {
    "duration": 8,
    "start_time": "2022-07-17T17:57:48.978Z"
   },
   {
    "duration": 9,
    "start_time": "2022-07-17T17:57:49.134Z"
   },
   {
    "duration": 8,
    "start_time": "2022-07-17T17:57:49.463Z"
   },
   {
    "duration": 9,
    "start_time": "2022-07-17T17:57:49.600Z"
   },
   {
    "duration": 9,
    "start_time": "2022-07-17T17:57:49.750Z"
   },
   {
    "duration": 15,
    "start_time": "2022-07-17T17:57:50.754Z"
   },
   {
    "duration": 7,
    "start_time": "2022-07-17T17:57:50.996Z"
   },
   {
    "duration": 2,
    "start_time": "2022-07-17T17:57:52.151Z"
   },
   {
    "duration": 51,
    "start_time": "2022-07-17T17:57:52.840Z"
   },
   {
    "duration": 5,
    "start_time": "2022-07-17T17:57:53.613Z"
   },
   {
    "duration": 18,
    "start_time": "2022-07-17T17:57:54.833Z"
   },
   {
    "duration": 70,
    "start_time": "2022-07-17T17:57:56.430Z"
   },
   {
    "duration": 6,
    "start_time": "2022-07-17T17:59:17.455Z"
   },
   {
    "duration": 7,
    "start_time": "2022-07-17T17:59:30.342Z"
   },
   {
    "duration": 14,
    "start_time": "2022-07-17T17:59:33.275Z"
   },
   {
    "duration": 7,
    "start_time": "2022-07-17T17:59:44.901Z"
   },
   {
    "duration": 6,
    "start_time": "2022-07-17T17:59:56.634Z"
   },
   {
    "duration": 5,
    "start_time": "2022-07-17T18:00:28.559Z"
   },
   {
    "duration": 7,
    "start_time": "2022-07-17T18:00:28.950Z"
   },
   {
    "duration": 5,
    "start_time": "2022-07-17T18:00:29.087Z"
   },
   {
    "duration": 7,
    "start_time": "2022-07-17T18:00:29.217Z"
   },
   {
    "duration": 6,
    "start_time": "2022-07-17T18:00:29.341Z"
   },
   {
    "duration": 7,
    "start_time": "2022-07-17T18:00:29.601Z"
   },
   {
    "duration": 6,
    "start_time": "2022-07-17T18:00:29.735Z"
   },
   {
    "duration": 19,
    "start_time": "2022-07-17T18:00:33.752Z"
   },
   {
    "duration": 7,
    "start_time": "2022-07-17T18:00:34.663Z"
   },
   {
    "duration": 3,
    "start_time": "2022-07-17T18:00:47.978Z"
   }
  ],
  "kernelspec": {
   "display_name": "Python 3 (ipykernel)",
   "language": "python",
   "name": "python3"
  },
  "language_info": {
   "codemirror_mode": {
    "name": "ipython",
    "version": 3
   },
   "file_extension": ".py",
   "mimetype": "text/x-python",
   "name": "python",
   "nbconvert_exporter": "python",
   "pygments_lexer": "ipython3",
   "version": "3.9.5"
  },
  "toc": {
   "base_numbering": 1,
   "nav_menu": {},
   "number_sections": true,
   "sideBar": true,
   "skip_h1_title": true,
   "title_cell": "Table of Contents",
   "title_sidebar": "Contents",
   "toc_cell": false,
   "toc_position": {},
   "toc_section_display": true,
   "toc_window_display": true
  }
 },
 "nbformat": 4,
 "nbformat_minor": 2
}
